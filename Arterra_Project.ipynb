{
  "nbformat": 4,
  "nbformat_minor": 0,
  "metadata": {
    "colab": {
      "name": "Arterra Project.ipynb",
      "provenance": [],
      "authorship_tag": "ABX9TyPJA3wWV07E6bgfM/AdcUle",
      "include_colab_link": true
    },
    "kernelspec": {
      "name": "python3",
      "display_name": "Python 3"
    }
  },
  "cells": [
    {
      "cell_type": "markdown",
      "metadata": {
        "id": "view-in-github",
        "colab_type": "text"
      },
      "source": [
        "<a href=\"https://colab.research.google.com/github/fengtastics/111-Capstone/blob/master/Arterra_Project.ipynb\" target=\"_parent\"><img src=\"https://colab.research.google.com/assets/colab-badge.svg\" alt=\"Open In Colab\"/></a>"
      ]
    },
    {
      "cell_type": "code",
      "metadata": {
        "id": "BvATbW9xc18Z"
      },
      "source": [
        "import warnings\r\n",
        "import itertools\r\n",
        "import numpy as np\r\n",
        "import matplotlib.pyplot as plt\r\n",
        "warnings.filterwarnings(\"ignore\")\r\n",
        "plt.style.use('fivethirtyeight')\r\n",
        "import pandas as pd\r\n",
        "import statsmodels.api as sm\r\n",
        "import matplotlib\r\n",
        "\r\n",
        "from fbprophet import Prophet\r\n",
        "\r\n",
        "matplotlib.rcParams['axes.labelsize'] = 14\r\n",
        "matplotlib.rcParams['xtick.labelsize'] = 12\r\n",
        "matplotlib.rcParams['ytick.labelsize'] = 12\r\n",
        "matplotlib.rcParams['text.color'] = 'k'"
      ],
      "execution_count": 137,
      "outputs": []
    },
    {
      "cell_type": "code",
      "metadata": {
        "id": "FK6ikshac4DW"
      },
      "source": [
        "from numpy import log"
      ],
      "execution_count": 138,
      "outputs": []
    },
    {
      "cell_type": "code",
      "metadata": {
        "colab": {
          "base_uri": "https://localhost:8080/",
          "height": 194
        },
        "id": "hwOdioNKdFyP",
        "outputId": "1bdcf581-6ad3-46e0-8850-1bd104e8c712"
      },
      "source": [
        "#raw_df = pd.read_csv(\"C:\\\\Users\\\\mcinn\\\\Documents\\\\timeseries_vqa.csv\")\r\n",
        "raw_df = pd.read_csv(\r\n",
        "   \"timeseries_vqa.csv\",      # relative python path to subdirectory\r\n",
        "    usecols=[ \"AWC Fiscal Year Month Abbr\",\t\"Brand\",\"Varietal Group\", \r\n",
        "    \"9L Cases\",\"Avg Sales Price\",\"Sales Dollars\"],  # Only load the columns specified.\r\n",
        "   )\r\n",
        "\r\n",
        "raw_df.head()\r\n",
        "#raw_df.info()"
      ],
      "execution_count": 139,
      "outputs": [
        {
          "output_type": "execute_result",
          "data": {
            "text/html": [
              "<div>\n",
              "<style scoped>\n",
              "    .dataframe tbody tr th:only-of-type {\n",
              "        vertical-align: middle;\n",
              "    }\n",
              "\n",
              "    .dataframe tbody tr th {\n",
              "        vertical-align: top;\n",
              "    }\n",
              "\n",
              "    .dataframe thead th {\n",
              "        text-align: right;\n",
              "    }\n",
              "</style>\n",
              "<table border=\"1\" class=\"dataframe\">\n",
              "  <thead>\n",
              "    <tr style=\"text-align: right;\">\n",
              "      <th></th>\n",
              "      <th>AWC Fiscal Year Month Abbr</th>\n",
              "      <th>Brand</th>\n",
              "      <th>Varietal Group</th>\n",
              "      <th>9L Cases</th>\n",
              "      <th>Avg Sales Price</th>\n",
              "      <th>Sales Dollars</th>\n",
              "    </tr>\n",
              "  </thead>\n",
              "  <tbody>\n",
              "    <tr>\n",
              "      <th>0</th>\n",
              "      <td>F2017 FEB</td>\n",
              "      <td>BLACK SAGE VINEYARD</td>\n",
              "      <td>CABERNET FRANC</td>\n",
              "      <td>17</td>\n",
              "      <td>$28.74</td>\n",
              "      <td>5,912</td>\n",
              "    </tr>\n",
              "    <tr>\n",
              "      <th>1</th>\n",
              "      <td>F2017 FEB</td>\n",
              "      <td>BLACK SAGE VINEYARD</td>\n",
              "      <td>CABERNET SAUVIGNON</td>\n",
              "      <td>1</td>\n",
              "      <td>$28.74</td>\n",
              "      <td>368</td>\n",
              "    </tr>\n",
              "    <tr>\n",
              "      <th>2</th>\n",
              "      <td>F2017 FEB</td>\n",
              "      <td>BLACK SAGE VINEYARD</td>\n",
              "      <td>MERLOT</td>\n",
              "      <td>11</td>\n",
              "      <td>$28.74</td>\n",
              "      <td>3,698</td>\n",
              "    </tr>\n",
              "    <tr>\n",
              "      <th>3</th>\n",
              "      <td>F2017 FEB</td>\n",
              "      <td>BLACK SAGE VINEYARD</td>\n",
              "      <td>OTHER</td>\n",
              "      <td>2</td>\n",
              "      <td>$29.89</td>\n",
              "      <td>909</td>\n",
              "    </tr>\n",
              "    <tr>\n",
              "      <th>4</th>\n",
              "      <td>F2017 FEB</td>\n",
              "      <td>CULMINA</td>\n",
              "      <td>CHARDONNAY</td>\n",
              "      <td>0</td>\n",
              "      <td>$41.50</td>\n",
              "      <td>85</td>\n",
              "    </tr>\n",
              "  </tbody>\n",
              "</table>\n",
              "</div>"
            ],
            "text/plain": [
              "  AWC Fiscal Year Month Abbr                Brand  ... Avg Sales Price Sales Dollars\n",
              "0                  F2017 FEB  BLACK SAGE VINEYARD  ...          $28.74         5,912\n",
              "1                  F2017 FEB  BLACK SAGE VINEYARD  ...          $28.74           368\n",
              "2                  F2017 FEB  BLACK SAGE VINEYARD  ...          $28.74         3,698\n",
              "3                  F2017 FEB  BLACK SAGE VINEYARD  ...          $29.89           909\n",
              "4                  F2017 FEB              CULMINA  ...          $41.50            85\n",
              "\n",
              "[5 rows x 6 columns]"
            ]
          },
          "metadata": {
            "tags": []
          },
          "execution_count": 139
        }
      ]
    },
    {
      "cell_type": "code",
      "metadata": {
        "colab": {
          "base_uri": "https://localhost:8080/",
          "height": 194
        },
        "id": "3eFCtiugd9f-",
        "outputId": "30f65687-6425-4f86-fbb5-cbfa32ca61ae"
      },
      "source": [
        "# replace Sales Dollar , 9L Cases to NUMBERS format\r\n",
        "\r\n",
        "raw_df['Sales Dollars'] = raw_df['Sales Dollars'].str.replace(',', '').astype(float)\r\n",
        "raw_df['9L Cases'] = raw_df['9L Cases'].str.replace(',', '').astype(float)\r\n",
        "raw_df['Avg Sales Price'] = raw_df['Avg Sales Price'].str.replace('$', '').astype(float)\r\n",
        "raw_df.head()\r\n",
        "\r\n"
      ],
      "execution_count": 140,
      "outputs": [
        {
          "output_type": "execute_result",
          "data": {
            "text/html": [
              "<div>\n",
              "<style scoped>\n",
              "    .dataframe tbody tr th:only-of-type {\n",
              "        vertical-align: middle;\n",
              "    }\n",
              "\n",
              "    .dataframe tbody tr th {\n",
              "        vertical-align: top;\n",
              "    }\n",
              "\n",
              "    .dataframe thead th {\n",
              "        text-align: right;\n",
              "    }\n",
              "</style>\n",
              "<table border=\"1\" class=\"dataframe\">\n",
              "  <thead>\n",
              "    <tr style=\"text-align: right;\">\n",
              "      <th></th>\n",
              "      <th>AWC Fiscal Year Month Abbr</th>\n",
              "      <th>Brand</th>\n",
              "      <th>Varietal Group</th>\n",
              "      <th>9L Cases</th>\n",
              "      <th>Avg Sales Price</th>\n",
              "      <th>Sales Dollars</th>\n",
              "    </tr>\n",
              "  </thead>\n",
              "  <tbody>\n",
              "    <tr>\n",
              "      <th>0</th>\n",
              "      <td>F2017 FEB</td>\n",
              "      <td>BLACK SAGE VINEYARD</td>\n",
              "      <td>CABERNET FRANC</td>\n",
              "      <td>17.0</td>\n",
              "      <td>28.74</td>\n",
              "      <td>5912.0</td>\n",
              "    </tr>\n",
              "    <tr>\n",
              "      <th>1</th>\n",
              "      <td>F2017 FEB</td>\n",
              "      <td>BLACK SAGE VINEYARD</td>\n",
              "      <td>CABERNET SAUVIGNON</td>\n",
              "      <td>1.0</td>\n",
              "      <td>28.74</td>\n",
              "      <td>368.0</td>\n",
              "    </tr>\n",
              "    <tr>\n",
              "      <th>2</th>\n",
              "      <td>F2017 FEB</td>\n",
              "      <td>BLACK SAGE VINEYARD</td>\n",
              "      <td>MERLOT</td>\n",
              "      <td>11.0</td>\n",
              "      <td>28.74</td>\n",
              "      <td>3698.0</td>\n",
              "    </tr>\n",
              "    <tr>\n",
              "      <th>3</th>\n",
              "      <td>F2017 FEB</td>\n",
              "      <td>BLACK SAGE VINEYARD</td>\n",
              "      <td>OTHER</td>\n",
              "      <td>2.0</td>\n",
              "      <td>29.89</td>\n",
              "      <td>909.0</td>\n",
              "    </tr>\n",
              "    <tr>\n",
              "      <th>4</th>\n",
              "      <td>F2017 FEB</td>\n",
              "      <td>CULMINA</td>\n",
              "      <td>CHARDONNAY</td>\n",
              "      <td>0.0</td>\n",
              "      <td>41.50</td>\n",
              "      <td>85.0</td>\n",
              "    </tr>\n",
              "  </tbody>\n",
              "</table>\n",
              "</div>"
            ],
            "text/plain": [
              "  AWC Fiscal Year Month Abbr  ... Sales Dollars\n",
              "0                  F2017 FEB  ...        5912.0\n",
              "1                  F2017 FEB  ...         368.0\n",
              "2                  F2017 FEB  ...        3698.0\n",
              "3                  F2017 FEB  ...         909.0\n",
              "4                  F2017 FEB  ...          85.0\n",
              "\n",
              "[5 rows x 6 columns]"
            ]
          },
          "metadata": {
            "tags": []
          },
          "execution_count": 140
        }
      ]
    },
    {
      "cell_type": "code",
      "metadata": {
        "colab": {
          "base_uri": "https://localhost:8080/"
        },
        "id": "gGn7m8_TejMu",
        "outputId": "44dfd993-056d-4643-9306-835946419bbe"
      },
      "source": [
        "raw_df.info()"
      ],
      "execution_count": 141,
      "outputs": [
        {
          "output_type": "stream",
          "text": [
            "<class 'pandas.core.frame.DataFrame'>\n",
            "RangeIndex: 3671 entries, 0 to 3670\n",
            "Data columns (total 6 columns):\n",
            " #   Column                      Non-Null Count  Dtype  \n",
            "---  ------                      --------------  -----  \n",
            " 0   AWC Fiscal Year Month Abbr  3671 non-null   object \n",
            " 1   Brand                       3671 non-null   object \n",
            " 2   Varietal Group              3671 non-null   object \n",
            " 3   9L Cases                    3671 non-null   float64\n",
            " 4   Avg Sales Price             3217 non-null   float64\n",
            " 5   Sales Dollars               3671 non-null   float64\n",
            "dtypes: float64(3), object(3)\n",
            "memory usage: 172.2+ KB\n"
          ],
          "name": "stdout"
        }
      ]
    },
    {
      "cell_type": "code",
      "metadata": {
        "colab": {
          "base_uri": "https://localhost:8080/",
          "height": 194
        },
        "id": "Z-GueAVEelkm",
        "outputId": "f5c17142-9fad-40cd-95c3-b3839c5ecb1a"
      },
      "source": [
        "raw_df = raw_df.rename({'AWC Fiscal Year Month Abbr': 'Date'}, axis=1) \r\n",
        "raw_df['Date'] = raw_df['Date'].str[1:]\r\n",
        "raw_df.head()"
      ],
      "execution_count": 142,
      "outputs": [
        {
          "output_type": "execute_result",
          "data": {
            "text/html": [
              "<div>\n",
              "<style scoped>\n",
              "    .dataframe tbody tr th:only-of-type {\n",
              "        vertical-align: middle;\n",
              "    }\n",
              "\n",
              "    .dataframe tbody tr th {\n",
              "        vertical-align: top;\n",
              "    }\n",
              "\n",
              "    .dataframe thead th {\n",
              "        text-align: right;\n",
              "    }\n",
              "</style>\n",
              "<table border=\"1\" class=\"dataframe\">\n",
              "  <thead>\n",
              "    <tr style=\"text-align: right;\">\n",
              "      <th></th>\n",
              "      <th>Date</th>\n",
              "      <th>Brand</th>\n",
              "      <th>Varietal Group</th>\n",
              "      <th>9L Cases</th>\n",
              "      <th>Avg Sales Price</th>\n",
              "      <th>Sales Dollars</th>\n",
              "    </tr>\n",
              "  </thead>\n",
              "  <tbody>\n",
              "    <tr>\n",
              "      <th>0</th>\n",
              "      <td>2017 FEB</td>\n",
              "      <td>BLACK SAGE VINEYARD</td>\n",
              "      <td>CABERNET FRANC</td>\n",
              "      <td>17.0</td>\n",
              "      <td>28.74</td>\n",
              "      <td>5912.0</td>\n",
              "    </tr>\n",
              "    <tr>\n",
              "      <th>1</th>\n",
              "      <td>2017 FEB</td>\n",
              "      <td>BLACK SAGE VINEYARD</td>\n",
              "      <td>CABERNET SAUVIGNON</td>\n",
              "      <td>1.0</td>\n",
              "      <td>28.74</td>\n",
              "      <td>368.0</td>\n",
              "    </tr>\n",
              "    <tr>\n",
              "      <th>2</th>\n",
              "      <td>2017 FEB</td>\n",
              "      <td>BLACK SAGE VINEYARD</td>\n",
              "      <td>MERLOT</td>\n",
              "      <td>11.0</td>\n",
              "      <td>28.74</td>\n",
              "      <td>3698.0</td>\n",
              "    </tr>\n",
              "    <tr>\n",
              "      <th>3</th>\n",
              "      <td>2017 FEB</td>\n",
              "      <td>BLACK SAGE VINEYARD</td>\n",
              "      <td>OTHER</td>\n",
              "      <td>2.0</td>\n",
              "      <td>29.89</td>\n",
              "      <td>909.0</td>\n",
              "    </tr>\n",
              "    <tr>\n",
              "      <th>4</th>\n",
              "      <td>2017 FEB</td>\n",
              "      <td>CULMINA</td>\n",
              "      <td>CHARDONNAY</td>\n",
              "      <td>0.0</td>\n",
              "      <td>41.50</td>\n",
              "      <td>85.0</td>\n",
              "    </tr>\n",
              "  </tbody>\n",
              "</table>\n",
              "</div>"
            ],
            "text/plain": [
              "       Date                Brand  ... Avg Sales Price  Sales Dollars\n",
              "0  2017 FEB  BLACK SAGE VINEYARD  ...           28.74         5912.0\n",
              "1  2017 FEB  BLACK SAGE VINEYARD  ...           28.74          368.0\n",
              "2  2017 FEB  BLACK SAGE VINEYARD  ...           28.74         3698.0\n",
              "3  2017 FEB  BLACK SAGE VINEYARD  ...           29.89          909.0\n",
              "4  2017 FEB              CULMINA  ...           41.50           85.0\n",
              "\n",
              "[5 rows x 6 columns]"
            ]
          },
          "metadata": {
            "tags": []
          },
          "execution_count": 142
        }
      ]
    },
    {
      "cell_type": "code",
      "metadata": {
        "colab": {
          "base_uri": "https://localhost:8080/",
          "height": 194
        },
        "id": "cbwR85r7enVO",
        "outputId": "eaa285a3-cdb0-4aa6-f206-60eca44d4943"
      },
      "source": [
        "import datetime\r\n",
        "raw_df['Date'] = pd.to_datetime(raw_df['Date'])\r\n",
        "raw_df.head()"
      ],
      "execution_count": 143,
      "outputs": [
        {
          "output_type": "execute_result",
          "data": {
            "text/html": [
              "<div>\n",
              "<style scoped>\n",
              "    .dataframe tbody tr th:only-of-type {\n",
              "        vertical-align: middle;\n",
              "    }\n",
              "\n",
              "    .dataframe tbody tr th {\n",
              "        vertical-align: top;\n",
              "    }\n",
              "\n",
              "    .dataframe thead th {\n",
              "        text-align: right;\n",
              "    }\n",
              "</style>\n",
              "<table border=\"1\" class=\"dataframe\">\n",
              "  <thead>\n",
              "    <tr style=\"text-align: right;\">\n",
              "      <th></th>\n",
              "      <th>Date</th>\n",
              "      <th>Brand</th>\n",
              "      <th>Varietal Group</th>\n",
              "      <th>9L Cases</th>\n",
              "      <th>Avg Sales Price</th>\n",
              "      <th>Sales Dollars</th>\n",
              "    </tr>\n",
              "  </thead>\n",
              "  <tbody>\n",
              "    <tr>\n",
              "      <th>0</th>\n",
              "      <td>2017-02-01</td>\n",
              "      <td>BLACK SAGE VINEYARD</td>\n",
              "      <td>CABERNET FRANC</td>\n",
              "      <td>17.0</td>\n",
              "      <td>28.74</td>\n",
              "      <td>5912.0</td>\n",
              "    </tr>\n",
              "    <tr>\n",
              "      <th>1</th>\n",
              "      <td>2017-02-01</td>\n",
              "      <td>BLACK SAGE VINEYARD</td>\n",
              "      <td>CABERNET SAUVIGNON</td>\n",
              "      <td>1.0</td>\n",
              "      <td>28.74</td>\n",
              "      <td>368.0</td>\n",
              "    </tr>\n",
              "    <tr>\n",
              "      <th>2</th>\n",
              "      <td>2017-02-01</td>\n",
              "      <td>BLACK SAGE VINEYARD</td>\n",
              "      <td>MERLOT</td>\n",
              "      <td>11.0</td>\n",
              "      <td>28.74</td>\n",
              "      <td>3698.0</td>\n",
              "    </tr>\n",
              "    <tr>\n",
              "      <th>3</th>\n",
              "      <td>2017-02-01</td>\n",
              "      <td>BLACK SAGE VINEYARD</td>\n",
              "      <td>OTHER</td>\n",
              "      <td>2.0</td>\n",
              "      <td>29.89</td>\n",
              "      <td>909.0</td>\n",
              "    </tr>\n",
              "    <tr>\n",
              "      <th>4</th>\n",
              "      <td>2017-02-01</td>\n",
              "      <td>CULMINA</td>\n",
              "      <td>CHARDONNAY</td>\n",
              "      <td>0.0</td>\n",
              "      <td>41.50</td>\n",
              "      <td>85.0</td>\n",
              "    </tr>\n",
              "  </tbody>\n",
              "</table>\n",
              "</div>"
            ],
            "text/plain": [
              "        Date                Brand  ... Avg Sales Price  Sales Dollars\n",
              "0 2017-02-01  BLACK SAGE VINEYARD  ...           28.74         5912.0\n",
              "1 2017-02-01  BLACK SAGE VINEYARD  ...           28.74          368.0\n",
              "2 2017-02-01  BLACK SAGE VINEYARD  ...           28.74         3698.0\n",
              "3 2017-02-01  BLACK SAGE VINEYARD  ...           29.89          909.0\n",
              "4 2017-02-01              CULMINA  ...           41.50           85.0\n",
              "\n",
              "[5 rows x 6 columns]"
            ]
          },
          "metadata": {
            "tags": []
          },
          "execution_count": 143
        }
      ]
    },
    {
      "cell_type": "code",
      "metadata": {
        "colab": {
          "base_uri": "https://localhost:8080/"
        },
        "id": "OwTAEngNepLG",
        "outputId": "e4c61467-23fe-4632-b6e6-4be2fe19cc1c"
      },
      "source": [
        "raw_df['Date'].min(), raw_df['Date'].max()"
      ],
      "execution_count": 144,
      "outputs": [
        {
          "output_type": "execute_result",
          "data": {
            "text/plain": [
              "(Timestamp('2017-02-01 00:00:00'), Timestamp('2021-10-01 00:00:00'))"
            ]
          },
          "metadata": {
            "tags": []
          },
          "execution_count": 144
        }
      ]
    },
    {
      "cell_type": "code",
      "metadata": {
        "colab": {
          "base_uri": "https://localhost:8080/"
        },
        "id": "6VlTWXrjetqy",
        "outputId": "e253440c-034e-4f04-ed94-cd7115313f7d"
      },
      "source": [
        "raw_df['Varietal Group'].unique()\r\n"
      ],
      "execution_count": 145,
      "outputs": [
        {
          "output_type": "execute_result",
          "data": {
            "text/plain": [
              "array(['CABERNET FRANC', 'CABERNET SAUVIGNON', 'MERLOT', 'OTHER',\n",
              "       'CHARDONNAY', 'RED BLEND', 'RIESLING', 'VIDAL', 'PINOT NOIR',\n",
              "       'CHENIN BLANC', 'PINOT BLANC', 'PINOT GRIGIO', 'SHIRAZ',\n",
              "       'ZINFANDEL', 'WHITE BLEND', 'SAUVIGNON BLANC', 'VIOGNIER', 'ROSE',\n",
              "       'GEWURZTRAMINER', 'TEMPRANILLO', 'MALBEC', 'UNASSIGNED'],\n",
              "      dtype=object)"
            ]
          },
          "metadata": {
            "tags": []
          },
          "execution_count": 145
        }
      ]
    },
    {
      "cell_type": "code",
      "metadata": {
        "id": "L4kDs-dRevrW"
      },
      "source": [
        "cabernet_franc = raw_df.loc[raw_df['Varietal Group'] == 'CABERNET FRANC']\r\n",
        "cabernet_sav = raw_df.loc[raw_df['Varietal Group'] == 'CABERNET SAUVIGNON']\r\n",
        "merlot = raw_df.loc[raw_df['Varietal Group'] == 'MERLOT']\r\n",
        "chardonnay = raw_df.loc[raw_df['Varietal Group'] == 'CHARDONNAY']\r\n",
        "red_blend = raw_df.loc[raw_df['Varietal Group'] == 'RED BLEND']\r\n",
        "riesling = raw_df.loc[raw_df['Varietal Group'] == 'RIESLING']\r\n",
        "vidal = raw_df.loc[raw_df['Varietal Group'] == 'VIDAL']\r\n",
        "pinot_noir = raw_df.loc[raw_df['Varietal Group'] == 'PINOT NOIR']\r\n",
        "chenin_blanc = raw_df.loc[raw_df['Varietal Group'] == 'CHENIN BLANC']\r\n",
        "pinot_blanc = raw_df.loc[raw_df['Varietal Group'] == 'PINOT BLANC']\r\n",
        "pinot_grigio = raw_df.loc[raw_df['Varietal Group'] == 'PINOT GRIGIO']\r\n",
        "shiraz = raw_df.loc[raw_df['Varietal Group'] == 'SHIRAZ']\r\n",
        "zinfandel = raw_df.loc[raw_df['Varietal Group'] == 'ZINFANDEL']\r\n",
        "white_blend = raw_df.loc[raw_df['Varietal Group'] == 'WHITE BLEND']\r\n",
        "sav_blanc = raw_df.loc[raw_df['Varietal Group'] == 'SAUVIGNON BLANC']\r\n",
        "viognier = raw_df.loc[raw_df['Varietal Group'] == 'VIOGNIER']\r\n",
        "rose = raw_df.loc[raw_df['Varietal Group'] == 'ROSE']\r\n",
        "gewurz = raw_df.loc[raw_df['Varietal Group'] == 'GEWURZTRAMINER']\r\n",
        "tempranillo = raw_df.loc[raw_df['Varietal Group'] == 'TEMPRANILLO']\r\n",
        "malbec = raw_df.loc[raw_df['Varietal Group'] == 'MALBEC']\r\n",
        "unassigned = raw_df.loc[raw_df['Varietal Group'] == 'UNASSIGNED']\r\n",
        "other = raw_df.loc[raw_df['Varietal Group'] == 'OTHER']"
      ],
      "execution_count": 146,
      "outputs": []
    },
    {
      "cell_type": "markdown",
      "metadata": {
        "id": "A4yE60nye8ov"
      },
      "source": [
        "### TRY 1 Varietal group"
      ]
    },
    {
      "cell_type": "code",
      "metadata": {
        "colab": {
          "base_uri": "https://localhost:8080/",
          "height": 194
        },
        "id": "Az_ESLSvexs9",
        "outputId": "5c8dde7f-90e5-40ee-b38e-c026c2cd9467"
      },
      "source": [
        "rose.head()"
      ],
      "execution_count": 147,
      "outputs": [
        {
          "output_type": "execute_result",
          "data": {
            "text/html": [
              "<div>\n",
              "<style scoped>\n",
              "    .dataframe tbody tr th:only-of-type {\n",
              "        vertical-align: middle;\n",
              "    }\n",
              "\n",
              "    .dataframe tbody tr th {\n",
              "        vertical-align: top;\n",
              "    }\n",
              "\n",
              "    .dataframe thead th {\n",
              "        text-align: right;\n",
              "    }\n",
              "</style>\n",
              "<table border=\"1\" class=\"dataframe\">\n",
              "  <thead>\n",
              "    <tr style=\"text-align: right;\">\n",
              "      <th></th>\n",
              "      <th>Date</th>\n",
              "      <th>Brand</th>\n",
              "      <th>Varietal Group</th>\n",
              "      <th>9L Cases</th>\n",
              "      <th>Avg Sales Price</th>\n",
              "      <th>Sales Dollars</th>\n",
              "    </tr>\n",
              "  </thead>\n",
              "  <tbody>\n",
              "    <tr>\n",
              "      <th>54</th>\n",
              "      <td>2017-02-01</td>\n",
              "      <td>NKMIP</td>\n",
              "      <td>ROSE</td>\n",
              "      <td>0.0</td>\n",
              "      <td>20.69</td>\n",
              "      <td>17.0</td>\n",
              "    </tr>\n",
              "    <tr>\n",
              "      <th>132</th>\n",
              "      <td>2018-03-01</td>\n",
              "      <td>NKMIP</td>\n",
              "      <td>ROSE</td>\n",
              "      <td>0.0</td>\n",
              "      <td>NaN</td>\n",
              "      <td>0.0</td>\n",
              "    </tr>\n",
              "    <tr>\n",
              "      <th>212</th>\n",
              "      <td>2018-04-01</td>\n",
              "      <td>NKMIP</td>\n",
              "      <td>ROSE</td>\n",
              "      <td>0.0</td>\n",
              "      <td>NaN</td>\n",
              "      <td>0.0</td>\n",
              "    </tr>\n",
              "    <tr>\n",
              "      <th>292</th>\n",
              "      <td>2018-05-01</td>\n",
              "      <td>NKMIP</td>\n",
              "      <td>ROSE</td>\n",
              "      <td>0.0</td>\n",
              "      <td>NaN</td>\n",
              "      <td>0.0</td>\n",
              "    </tr>\n",
              "    <tr>\n",
              "      <th>327</th>\n",
              "      <td>2018-06-01</td>\n",
              "      <td>CULMINA</td>\n",
              "      <td>ROSE</td>\n",
              "      <td>13.0</td>\n",
              "      <td>23.91</td>\n",
              "      <td>3586.0</td>\n",
              "    </tr>\n",
              "  </tbody>\n",
              "</table>\n",
              "</div>"
            ],
            "text/plain": [
              "          Date    Brand  ... Avg Sales Price  Sales Dollars\n",
              "54  2017-02-01    NKMIP  ...           20.69           17.0\n",
              "132 2018-03-01    NKMIP  ...             NaN            0.0\n",
              "212 2018-04-01    NKMIP  ...             NaN            0.0\n",
              "292 2018-05-01    NKMIP  ...             NaN            0.0\n",
              "327 2018-06-01  CULMINA  ...           23.91         3586.0\n",
              "\n",
              "[5 rows x 6 columns]"
            ]
          },
          "metadata": {
            "tags": []
          },
          "execution_count": 147
        }
      ]
    },
    {
      "cell_type": "code",
      "metadata": {
        "colab": {
          "base_uri": "https://localhost:8080/"
        },
        "id": "IQbZdbfXezyz",
        "outputId": "c58dd2d7-cb40-46d4-d4a8-0414c113da20"
      },
      "source": [
        "varietal = rose\r\n",
        "#cols = ['BC Sales Channel',\t'AWC and Comp',  'AWC FYr & Pd No',\t'Avg Sales Price']\r\n",
        "#varietal.drop(cols, axis=1, inplace=True)\r\n",
        "varietal = varietal.sort_values('Date')\r\n",
        "varietal.isnull().sum()"
      ],
      "execution_count": 148,
      "outputs": [
        {
          "output_type": "execute_result",
          "data": {
            "text/plain": [
              "Date                0\n",
              "Brand               0\n",
              "Varietal Group      0\n",
              "9L Cases            0\n",
              "Avg Sales Price    14\n",
              "Sales Dollars       0\n",
              "dtype: int64"
            ]
          },
          "metadata": {
            "tags": []
          },
          "execution_count": 148
        }
      ]
    },
    {
      "cell_type": "code",
      "metadata": {
        "colab": {
          "base_uri": "https://localhost:8080/",
          "height": 194
        },
        "id": "qnnAyy5-fECe",
        "outputId": "cf87d11f-c369-4707-b53c-02386c095292"
      },
      "source": [
        "varietal.head()"
      ],
      "execution_count": 149,
      "outputs": [
        {
          "output_type": "execute_result",
          "data": {
            "text/html": [
              "<div>\n",
              "<style scoped>\n",
              "    .dataframe tbody tr th:only-of-type {\n",
              "        vertical-align: middle;\n",
              "    }\n",
              "\n",
              "    .dataframe tbody tr th {\n",
              "        vertical-align: top;\n",
              "    }\n",
              "\n",
              "    .dataframe thead th {\n",
              "        text-align: right;\n",
              "    }\n",
              "</style>\n",
              "<table border=\"1\" class=\"dataframe\">\n",
              "  <thead>\n",
              "    <tr style=\"text-align: right;\">\n",
              "      <th></th>\n",
              "      <th>Date</th>\n",
              "      <th>Brand</th>\n",
              "      <th>Varietal Group</th>\n",
              "      <th>9L Cases</th>\n",
              "      <th>Avg Sales Price</th>\n",
              "      <th>Sales Dollars</th>\n",
              "    </tr>\n",
              "  </thead>\n",
              "  <tbody>\n",
              "    <tr>\n",
              "      <th>54</th>\n",
              "      <td>2017-02-01</td>\n",
              "      <td>NKMIP</td>\n",
              "      <td>ROSE</td>\n",
              "      <td>0.0</td>\n",
              "      <td>20.69</td>\n",
              "      <td>17.0</td>\n",
              "    </tr>\n",
              "    <tr>\n",
              "      <th>923</th>\n",
              "      <td>2018-01-01</td>\n",
              "      <td>NKMIP</td>\n",
              "      <td>ROSE</td>\n",
              "      <td>0.0</td>\n",
              "      <td>NaN</td>\n",
              "      <td>0.0</td>\n",
              "    </tr>\n",
              "    <tr>\n",
              "      <th>883</th>\n",
              "      <td>2018-01-01</td>\n",
              "      <td>CULMINA</td>\n",
              "      <td>ROSE</td>\n",
              "      <td>0.0</td>\n",
              "      <td>22.99</td>\n",
              "      <td>46.0</td>\n",
              "    </tr>\n",
              "    <tr>\n",
              "      <th>1007</th>\n",
              "      <td>2018-02-01</td>\n",
              "      <td>NKMIP</td>\n",
              "      <td>ROSE</td>\n",
              "      <td>0.0</td>\n",
              "      <td>NaN</td>\n",
              "      <td>0.0</td>\n",
              "    </tr>\n",
              "    <tr>\n",
              "      <th>958</th>\n",
              "      <td>2018-02-01</td>\n",
              "      <td>CULMINA</td>\n",
              "      <td>ROSE</td>\n",
              "      <td>1.0</td>\n",
              "      <td>22.99</td>\n",
              "      <td>230.0</td>\n",
              "    </tr>\n",
              "  </tbody>\n",
              "</table>\n",
              "</div>"
            ],
            "text/plain": [
              "           Date    Brand  ... Avg Sales Price  Sales Dollars\n",
              "54   2017-02-01    NKMIP  ...           20.69           17.0\n",
              "923  2018-01-01    NKMIP  ...             NaN            0.0\n",
              "883  2018-01-01  CULMINA  ...           22.99           46.0\n",
              "1007 2018-02-01    NKMIP  ...             NaN            0.0\n",
              "958  2018-02-01  CULMINA  ...           22.99          230.0\n",
              "\n",
              "[5 rows x 6 columns]"
            ]
          },
          "metadata": {
            "tags": []
          },
          "execution_count": 149
        }
      ]
    },
    {
      "cell_type": "code",
      "metadata": {
        "colab": {
          "base_uri": "https://localhost:8080/",
          "height": 194
        },
        "id": "-ufM81rMfF2t",
        "outputId": "61334be3-75da-44df-e688-1079313c80ab"
      },
      "source": [
        "varietal_qty= varietal.groupby(['Date'])['9L Cases'].sum().reset_index()\r\n",
        "varietal_qty = varietal_qty.sort_values(by=\"Date\",ascending=True)\r\n",
        "varietal_qty.head()\r\n"
      ],
      "execution_count": 150,
      "outputs": [
        {
          "output_type": "execute_result",
          "data": {
            "text/html": [
              "<div>\n",
              "<style scoped>\n",
              "    .dataframe tbody tr th:only-of-type {\n",
              "        vertical-align: middle;\n",
              "    }\n",
              "\n",
              "    .dataframe tbody tr th {\n",
              "        vertical-align: top;\n",
              "    }\n",
              "\n",
              "    .dataframe thead th {\n",
              "        text-align: right;\n",
              "    }\n",
              "</style>\n",
              "<table border=\"1\" class=\"dataframe\">\n",
              "  <thead>\n",
              "    <tr style=\"text-align: right;\">\n",
              "      <th></th>\n",
              "      <th>Date</th>\n",
              "      <th>9L Cases</th>\n",
              "    </tr>\n",
              "  </thead>\n",
              "  <tbody>\n",
              "    <tr>\n",
              "      <th>0</th>\n",
              "      <td>2017-02-01</td>\n",
              "      <td>0.0</td>\n",
              "    </tr>\n",
              "    <tr>\n",
              "      <th>1</th>\n",
              "      <td>2018-01-01</td>\n",
              "      <td>0.0</td>\n",
              "    </tr>\n",
              "    <tr>\n",
              "      <th>2</th>\n",
              "      <td>2018-02-01</td>\n",
              "      <td>1.0</td>\n",
              "    </tr>\n",
              "    <tr>\n",
              "      <th>3</th>\n",
              "      <td>2018-03-01</td>\n",
              "      <td>0.0</td>\n",
              "    </tr>\n",
              "    <tr>\n",
              "      <th>4</th>\n",
              "      <td>2018-04-01</td>\n",
              "      <td>0.0</td>\n",
              "    </tr>\n",
              "  </tbody>\n",
              "</table>\n",
              "</div>"
            ],
            "text/plain": [
              "        Date  9L Cases\n",
              "0 2017-02-01       0.0\n",
              "1 2018-01-01       0.0\n",
              "2 2018-02-01       1.0\n",
              "3 2018-03-01       0.0\n",
              "4 2018-04-01       0.0"
            ]
          },
          "metadata": {
            "tags": []
          },
          "execution_count": 150
        }
      ]
    },
    {
      "cell_type": "code",
      "metadata": {
        "colab": {
          "base_uri": "https://localhost:8080/",
          "height": 194
        },
        "id": "G6Gtotthj7CV",
        "outputId": "4787547d-dc02-4fd6-a661-bee1a8c78fb8"
      },
      "source": [
        "df=varietal_qty\r\n",
        "df.head()"
      ],
      "execution_count": 151,
      "outputs": [
        {
          "output_type": "execute_result",
          "data": {
            "text/html": [
              "<div>\n",
              "<style scoped>\n",
              "    .dataframe tbody tr th:only-of-type {\n",
              "        vertical-align: middle;\n",
              "    }\n",
              "\n",
              "    .dataframe tbody tr th {\n",
              "        vertical-align: top;\n",
              "    }\n",
              "\n",
              "    .dataframe thead th {\n",
              "        text-align: right;\n",
              "    }\n",
              "</style>\n",
              "<table border=\"1\" class=\"dataframe\">\n",
              "  <thead>\n",
              "    <tr style=\"text-align: right;\">\n",
              "      <th></th>\n",
              "      <th>Date</th>\n",
              "      <th>9L Cases</th>\n",
              "    </tr>\n",
              "  </thead>\n",
              "  <tbody>\n",
              "    <tr>\n",
              "      <th>0</th>\n",
              "      <td>2017-02-01</td>\n",
              "      <td>0.0</td>\n",
              "    </tr>\n",
              "    <tr>\n",
              "      <th>1</th>\n",
              "      <td>2018-01-01</td>\n",
              "      <td>0.0</td>\n",
              "    </tr>\n",
              "    <tr>\n",
              "      <th>2</th>\n",
              "      <td>2018-02-01</td>\n",
              "      <td>1.0</td>\n",
              "    </tr>\n",
              "    <tr>\n",
              "      <th>3</th>\n",
              "      <td>2018-03-01</td>\n",
              "      <td>0.0</td>\n",
              "    </tr>\n",
              "    <tr>\n",
              "      <th>4</th>\n",
              "      <td>2018-04-01</td>\n",
              "      <td>0.0</td>\n",
              "    </tr>\n",
              "  </tbody>\n",
              "</table>\n",
              "</div>"
            ],
            "text/plain": [
              "        Date  9L Cases\n",
              "0 2017-02-01       0.0\n",
              "1 2018-01-01       0.0\n",
              "2 2018-02-01       1.0\n",
              "3 2018-03-01       0.0\n",
              "4 2018-04-01       0.0"
            ]
          },
          "metadata": {
            "tags": []
          },
          "execution_count": 151
        }
      ]
    },
    {
      "cell_type": "code",
      "metadata": {
        "id": "lSQh3ZQCk1HY"
      },
      "source": [
        "## Not sure if we need this step: "
      ],
      "execution_count": 112,
      "outputs": []
    },
    {
      "cell_type": "code",
      "metadata": {
        "colab": {
          "base_uri": "https://localhost:8080/"
        },
        "id": "VGA5ntl0fIC-",
        "outputId": "9f57e304-983e-4961-e62c-20771ed47183"
      },
      "source": [
        "#df = df.set_index('ds')\r\n",
        "#df.index\r\n",
        "#df.index\r\n"
      ],
      "execution_count": 108,
      "outputs": [
        {
          "output_type": "execute_result",
          "data": {
            "text/plain": [
              "DatetimeIndex(['2017-02-01', '2018-01-01', '2018-02-01', '2018-03-01',\n",
              "               '2018-04-01', '2018-05-01', '2018-06-01', '2018-07-01',\n",
              "               '2018-08-01', '2018-09-01', '2018-10-01', '2018-11-01',\n",
              "               '2018-12-01', '2019-01-01', '2019-02-01', '2019-03-01',\n",
              "               '2019-04-01', '2019-05-01', '2019-06-01', '2019-07-01',\n",
              "               '2019-08-01', '2019-09-01', '2019-10-01', '2019-11-01',\n",
              "               '2019-12-01', '2020-01-01', '2020-02-01', '2020-03-01',\n",
              "               '2020-04-01', '2020-05-01', '2020-06-01', '2020-07-01',\n",
              "               '2020-08-01', '2020-09-01', '2020-10-01', '2020-11-01',\n",
              "               '2020-12-01', '2021-03-01', '2021-04-01', '2021-05-01',\n",
              "               '2021-06-01', '2021-07-01', '2021-08-01', '2021-09-01',\n",
              "               '2021-10-01'],\n",
              "              dtype='datetime64[ns]', name='ds', freq=None)"
            ]
          },
          "metadata": {
            "tags": []
          },
          "execution_count": 108
        }
      ]
    },
    {
      "cell_type": "code",
      "metadata": {
        "id": "xozS1CN2fWsV"
      },
      "source": [
        "#y=varietal_qty\r\n",
        "#y.head(5)"
      ],
      "execution_count": 67,
      "outputs": []
    },
    {
      "cell_type": "code",
      "metadata": {
        "colab": {
          "base_uri": "https://localhost:8080/"
        },
        "id": "gT_2CQjZjcZj",
        "outputId": "fc354e95-b8cd-4097-fee2-7f5fe4cefd50"
      },
      "source": [
        ""
      ],
      "execution_count": 72,
      "outputs": [
        {
          "output_type": "stream",
          "text": [
            "<class 'pandas.core.frame.DataFrame'>\n",
            "DatetimeIndex: 45 entries, 2017-02-01 to 2021-10-01\n",
            "Data columns (total 1 columns):\n",
            " #   Column  Non-Null Count  Dtype  \n",
            "---  ------  --------------  -----  \n",
            " 0   y       45 non-null     float64\n",
            "dtypes: float64(1)\n",
            "memory usage: 720.0 bytes\n"
          ],
          "name": "stdout"
        }
      ]
    },
    {
      "cell_type": "code",
      "metadata": {
        "id": "pPzAG5g_hdB3"
      },
      "source": [
        "#df = df.rename(columns={'Date':'ds', '9L Cases':'y'})\r\n",
        "\r\n",
        "#df.head(5)"
      ],
      "execution_count": 69,
      "outputs": []
    },
    {
      "cell_type": "code",
      "metadata": {
        "colab": {
          "base_uri": "https://localhost:8080/",
          "height": 553
        },
        "id": "KGJ76dH0fPOV",
        "outputId": "21d029f2-6ef1-468a-d2f3-c65f4444d46e"
      },
      "source": [
        "#df.plot(figsize=(18, 8))\r\n",
        "#plt.show()\r\n",
        "\r\n",
        "plt.figure(figsize=(20, 8))\r\n",
        "plt.plot(df['Date'], df['9L Cases'],  label = 'Rose')\r\n",
        "\r\n",
        "plt.xlabel('Date'); plt.ylabel('Unit Sold'); plt.title('Sales of Varietal')\r\n",
        "plt.legend();"
      ],
      "execution_count": 152,
      "outputs": [
        {
          "output_type": "display_data",
          "data": {
            "image/png": "[encoded data removed]",
            "text/plain": [
              "<Figure size 1440x576 with 1 Axes>"
            ]
          },
          "metadata": {
            "tags": []
          }
        }
      ]
    },
    {
      "cell_type": "code",
      "metadata": {
        "colab": {
          "base_uri": "https://localhost:8080/"
        },
        "id": "oQOM73u-fSu4",
        "outputId": "307c9fca-d42a-45db-f68d-60ff6c35e64b"
      },
      "source": [
        "from statsmodels.tsa.stattools import adfuller\r\n",
        "from numpy import log\r\n",
        "result = adfuller(df['9L Cases'].dropna())\r\n",
        "print('ADF Statistic: %f' % result[0])\r\n",
        "print('p-value: %f' % result[1])"
      ],
      "execution_count": 153,
      "outputs": [
        {
          "output_type": "stream",
          "text": [
            "ADF Statistic: -0.519440\n",
            "p-value: 0.888167\n"
          ],
          "name": "stdout"
        }
      ]
    },
    {
      "cell_type": "code",
      "metadata": {
        "colab": {
          "base_uri": "https://localhost:8080/",
          "height": 194
        },
        "id": "yTlBZsdOikV3",
        "outputId": "3049aa85-90ea-41b5-9c47-373515e0fe04"
      },
      "source": [
        "df = df.rename(columns={'Date': 'ds', '9L Cases': 'y'})\r\n",
        "df.head()"
      ],
      "execution_count": 154,
      "outputs": [
        {
          "output_type": "execute_result",
          "data": {
            "text/html": [
              "<div>\n",
              "<style scoped>\n",
              "    .dataframe tbody tr th:only-of-type {\n",
              "        vertical-align: middle;\n",
              "    }\n",
              "\n",
              "    .dataframe tbody tr th {\n",
              "        vertical-align: top;\n",
              "    }\n",
              "\n",
              "    .dataframe thead th {\n",
              "        text-align: right;\n",
              "    }\n",
              "</style>\n",
              "<table border=\"1\" class=\"dataframe\">\n",
              "  <thead>\n",
              "    <tr style=\"text-align: right;\">\n",
              "      <th></th>\n",
              "      <th>ds</th>\n",
              "      <th>y</th>\n",
              "    </tr>\n",
              "  </thead>\n",
              "  <tbody>\n",
              "    <tr>\n",
              "      <th>0</th>\n",
              "      <td>2017-02-01</td>\n",
              "      <td>0.0</td>\n",
              "    </tr>\n",
              "    <tr>\n",
              "      <th>1</th>\n",
              "      <td>2018-01-01</td>\n",
              "      <td>0.0</td>\n",
              "    </tr>\n",
              "    <tr>\n",
              "      <th>2</th>\n",
              "      <td>2018-02-01</td>\n",
              "      <td>1.0</td>\n",
              "    </tr>\n",
              "    <tr>\n",
              "      <th>3</th>\n",
              "      <td>2018-03-01</td>\n",
              "      <td>0.0</td>\n",
              "    </tr>\n",
              "    <tr>\n",
              "      <th>4</th>\n",
              "      <td>2018-04-01</td>\n",
              "      <td>0.0</td>\n",
              "    </tr>\n",
              "  </tbody>\n",
              "</table>\n",
              "</div>"
            ],
            "text/plain": [
              "          ds    y\n",
              "0 2017-02-01  0.0\n",
              "1 2018-01-01  0.0\n",
              "2 2018-02-01  1.0\n",
              "3 2018-03-01  0.0\n",
              "4 2018-04-01  0.0"
            ]
          },
          "metadata": {
            "tags": []
          },
          "execution_count": 154
        }
      ]
    },
    {
      "cell_type": "code",
      "metadata": {
        "colab": {
          "base_uri": "https://localhost:8080/"
        },
        "id": "isMqjFf-hC8E",
        "outputId": "2c391251-38fe-4127-c940-6a1278eb9c4d"
      },
      "source": [
        "Varietal_model = Prophet(interval_width=0.95)\r\n",
        "Varietal_model.fit(df)"
      ],
      "execution_count": 155,
      "outputs": [
        {
          "output_type": "stream",
          "text": [
            "INFO:numexpr.utils:NumExpr defaulting to 2 threads.\n",
            "INFO:fbprophet:Disabling weekly seasonality. Run prophet with weekly_seasonality=True to override this.\n",
            "INFO:fbprophet:Disabling daily seasonality. Run prophet with daily_seasonality=True to override this.\n"
          ],
          "name": "stderr"
        },
        {
          "output_type": "execute_result",
          "data": {
            "text/plain": [
              "<fbprophet.forecaster.Prophet at 0x7fb16b196b38>"
            ]
          },
          "metadata": {
            "tags": []
          },
          "execution_count": 155
        }
      ]
    },
    {
      "cell_type": "code",
      "metadata": {
        "id": "TthbgItgmRD9"
      },
      "source": [
        "Varietal_forecast = Varietal_model.make_future_dataframe(periods=36, freq='MS')\r\n",
        "Varietal_forecast = Varietal_model.predict(Varietal_forecast)"
      ],
      "execution_count": 156,
      "outputs": []
    },
    {
      "cell_type": "code",
      "metadata": {
        "colab": {
          "base_uri": "https://localhost:8080/",
          "height": 472
        },
        "id": "CnDDFZmxmVaI",
        "outputId": "cc359541-673e-433f-a9b7-eb7f51232b3a"
      },
      "source": [
        "plt.figure(figsize=(18, 6))\r\n",
        "Varietal_model.plot(Varietal_forecast, xlabel = 'Date', ylabel = 'Units Sold')\r\n",
        "plt.title('Rose 9L Sales Forecast');"
      ],
      "execution_count": 157,
      "outputs": [
        {
          "output_type": "display_data",
          "data": {
            "text/plain": [
              "<Figure size 1296x432 with 0 Axes>"
            ]
          },
          "metadata": {
            "tags": []
          }
        },
        {
          "output_type": "display_data",
          "data": {
            "image/png": "[encoded data removed]",
            "text/plain": [
              "<Figure size 720x432 with 1 Axes>"
            ]
          },
          "metadata": {
            "tags": []
          }
        }
      ]
    },
    {
      "cell_type": "code",
      "metadata": {
        "id": "uE4tFDdVmv-6"
      },
      "source": [
        ""
      ],
      "execution_count": null,
      "outputs": []
    }
  ]
}