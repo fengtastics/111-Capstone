{
  "nbformat": 4,
  "nbformat_minor": 0,
  "metadata": {
    "colab": {
      "name": "Arterra Project.ipynb",
      "provenance": [],
      "collapsed_sections": [],
      "toc_visible": true,
      "include_colab_link": true
    },
    "kernelspec": {
      "name": "python3",
      "display_name": "Python 3"
    }
  },
  "cells": [
    {
      "cell_type": "markdown",
      "metadata": {
        "id": "view-in-github",
        "colab_type": "text"
      },
      "source": [
        "<a href=\"https://colab.research.google.com/github/fengtastics/111-Capstone/blob/master/Arterra_Project.ipynb\" target=\"_parent\"><img src=\"https://colab.research.google.com/assets/colab-badge.svg\" alt=\"Open In Colab\"/></a>"
      ]
    },
    {
      "cell_type": "code",
      "metadata": {
        "id": "Pbs90DPFrGMO"
      },
      "source": [
        "#https://www.machinelearningplus.com/time-series/arima-model-time-series-forecasting-python/\r\n",
        "\r\n",
        "#https://www.digitalocean.com/community/tutorials/a-guide-to-time-series-forecasting-with-prophet-in-python-3\r\n",
        "\r\n",
        "#https://towardsdatascience.com/an-end-to-end-project-on-time-series-analysis-and-forecasting-with-python-4835e6bf050b\r\n",
        "\r\n",
        "#https://www.bounteous.com/insights/2020/09/15/forecasting-time-series-model-using-python-part-one/"
      ],
      "execution_count": 1,
      "outputs": []
    },
    {
      "cell_type": "code",
      "metadata": {
        "id": "BvATbW9xc18Z"
      },
      "source": [
        "import warnings\r\n",
        "import itertools\r\n",
        "import numpy as np\r\n",
        "import matplotlib.pyplot as plt\r\n",
        "warnings.filterwarnings(\"ignore\")\r\n",
        "plt.style.use('fivethirtyeight')\r\n",
        "import pandas as pd\r\n",
        "from numpy import log\r\n",
        "import statsmodels.api as sm\r\n",
        "from statsmodels.graphics.tsaplots import plot_acf, plot_pacf\r\n",
        "\r\n",
        "import matplotlib\r\n",
        "\r\n",
        "from fbprophet import Prophet\r\n",
        "\r\n",
        "from statsmodels.tsa.arima_model import ARIMA\r\n",
        "\r\n",
        "from statsmodels.graphics.api import qqplot\r\n",
        "\r\n",
        "\r\n",
        "matplotlib.rcParams['axes.labelsize'] = 12\r\n",
        "matplotlib.rcParams['xtick.labelsize'] = 10\r\n",
        "matplotlib.rcParams['ytick.labelsize'] = 10\r\n",
        "matplotlib.rcParams['text.color'] = 'k'"
      ],
      "execution_count": 2,
      "outputs": []
    },
    {
      "cell_type": "code",
      "metadata": {
        "colab": {
          "base_uri": "https://localhost:8080/",
          "height": 195
        },
        "id": "hwOdioNKdFyP",
        "outputId": "f4226b4e-a715-48db-fcb0-e5e61677933e"
      },
      "source": [
        "#raw_df = pd.read_csv(\"C:\\\\Users\\\\mcinn\\\\Documents\\\\timeseries_vqa.csv\")\r\n",
        "raw_df = pd.read_csv(\"timeseries.csv\",encoding='latin-1')    \r\n",
        "   \r\n",
        "raw_df.head()\r\n",
        "#raw_df.info()"
      ],
      "execution_count": 3,
      "outputs": [
        {
          "output_type": "execute_result",
          "data": {
            "text/html": [
              "<div>\n",
              "<style scoped>\n",
              "    .dataframe tbody tr th:only-of-type {\n",
              "        vertical-align: middle;\n",
              "    }\n",
              "\n",
              "    .dataframe tbody tr th {\n",
              "        vertical-align: top;\n",
              "    }\n",
              "\n",
              "    .dataframe thead th {\n",
              "        text-align: right;\n",
              "    }\n",
              "</style>\n",
              "<table border=\"1\" class=\"dataframe\">\n",
              "  <thead>\n",
              "    <tr style=\"text-align: right;\">\n",
              "      <th></th>\n",
              "      <th>Region</th>\n",
              "      <th>AWC Fiscal Year Month Abbr</th>\n",
              "      <th>AWC FYr &amp; Pd No</th>\n",
              "      <th>Country Group</th>\n",
              "      <th>AWC and Comp</th>\n",
              "      <th>Varietal</th>\n",
              "      <th>Brand</th>\n",
              "      <th>Channel</th>\n",
              "      <th>Unit Size</th>\n",
              "      <th>9L Cases</th>\n",
              "    </tr>\n",
              "  </thead>\n",
              "  <tbody>\n",
              "    <tr>\n",
              "      <th>0</th>\n",
              "      <td>BC</td>\n",
              "      <td>F2021 DEC</td>\n",
              "      <td>202110</td>\n",
              "      <td>CANADA-VQA</td>\n",
              "      <td>COMPETITOR</td>\n",
              "      <td>KERNER</td>\n",
              "      <td>0918130 B.C. LIMITED   - UNASSIGNED BRAND</td>\n",
              "      <td>IND RETAILERS - SHIPMENTS</td>\n",
              "      <td>750</td>\n",
              "      <td>0</td>\n",
              "    </tr>\n",
              "    <tr>\n",
              "      <th>1</th>\n",
              "      <td>BC</td>\n",
              "      <td>F2021 DEC</td>\n",
              "      <td>202110</td>\n",
              "      <td>CANADA-VQA</td>\n",
              "      <td>COMPETITOR</td>\n",
              "      <td>MERLOT</td>\n",
              "      <td>0918130 B.C. LIMITED   - UNASSIGNED BRAND</td>\n",
              "      <td>IND RETAILERS - SHIPMENTS</td>\n",
              "      <td>750</td>\n",
              "      <td>0</td>\n",
              "    </tr>\n",
              "    <tr>\n",
              "      <th>2</th>\n",
              "      <td>BC</td>\n",
              "      <td>F2021 DEC</td>\n",
              "      <td>202110</td>\n",
              "      <td>CANADA-VQA</td>\n",
              "      <td>COMPETITOR</td>\n",
              "      <td>UNASSIGNED</td>\n",
              "      <td>0918130 B.C. LIMITED   - UNASSIGNED BRAND</td>\n",
              "      <td>IND RETAILERS - SHIPMENTS</td>\n",
              "      <td>750</td>\n",
              "      <td>0</td>\n",
              "    </tr>\n",
              "    <tr>\n",
              "      <th>3</th>\n",
              "      <td>BC</td>\n",
              "      <td>F2021 DEC</td>\n",
              "      <td>202110</td>\n",
              "      <td>CANADA-VQA</td>\n",
              "      <td>COMPETITOR</td>\n",
              "      <td>ZWEIGELT</td>\n",
              "      <td>0918130 B.C. LIMITED   - UNASSIGNED BRAND</td>\n",
              "      <td>IND RETAILERS - SHIPMENTS</td>\n",
              "      <td>750</td>\n",
              "      <td>0</td>\n",
              "    </tr>\n",
              "    <tr>\n",
              "      <th>4</th>\n",
              "      <td>BC</td>\n",
              "      <td>F2021 DEC</td>\n",
              "      <td>202110</td>\n",
              "      <td>CANADA-VQA</td>\n",
              "      <td>COMPETITOR</td>\n",
              "      <td>UNASSIGNED</td>\n",
              "      <td>0927363 BC LTD.  - UNASSIGNED BRAND</td>\n",
              "      <td>IND RETAILERS - SHIPMENTS</td>\n",
              "      <td>750</td>\n",
              "      <td>0</td>\n",
              "    </tr>\n",
              "  </tbody>\n",
              "</table>\n",
              "</div>"
            ],
            "text/plain": [
              "  Region AWC Fiscal Year Month Abbr  ...  Unit Size 9L Cases\n",
              "0     BC                  F2021 DEC  ...        750        0\n",
              "1     BC                  F2021 DEC  ...        750        0\n",
              "2     BC                  F2021 DEC  ...        750        0\n",
              "3     BC                  F2021 DEC  ...        750        0\n",
              "4     BC                  F2021 DEC  ...        750        0\n",
              "\n",
              "[5 rows x 10 columns]"
            ]
          },
          "metadata": {
            "tags": []
          },
          "execution_count": 3
        }
      ]
    },
    {
      "cell_type": "code",
      "metadata": {
        "colab": {
          "base_uri": "https://localhost:8080/",
          "height": 195
        },
        "id": "3eFCtiugd9f-",
        "outputId": "194d0213-f087-4d79-f8ac-4cf7e10b8fd7"
      },
      "source": [
        "# replace Sales Dollar , 9L Cases to NUMBERS format\r\n",
        "\r\n",
        "#raw_df['Sales Dollars'] = raw_df['Sales Dollars'].str.replace(',', '').astype(float)\r\n",
        "raw_df['9L Cases'] = raw_df['9L Cases'].str.replace(',', '').astype(float)\r\n",
        "raw_df.head()\r\n",
        "\r\n"
      ],
      "execution_count": 4,
      "outputs": [
        {
          "output_type": "execute_result",
          "data": {
            "text/html": [
              "<div>\n",
              "<style scoped>\n",
              "    .dataframe tbody tr th:only-of-type {\n",
              "        vertical-align: middle;\n",
              "    }\n",
              "\n",
              "    .dataframe tbody tr th {\n",
              "        vertical-align: top;\n",
              "    }\n",
              "\n",
              "    .dataframe thead th {\n",
              "        text-align: right;\n",
              "    }\n",
              "</style>\n",
              "<table border=\"1\" class=\"dataframe\">\n",
              "  <thead>\n",
              "    <tr style=\"text-align: right;\">\n",
              "      <th></th>\n",
              "      <th>Region</th>\n",
              "      <th>AWC Fiscal Year Month Abbr</th>\n",
              "      <th>AWC FYr &amp; Pd No</th>\n",
              "      <th>Country Group</th>\n",
              "      <th>AWC and Comp</th>\n",
              "      <th>Varietal</th>\n",
              "      <th>Brand</th>\n",
              "      <th>Channel</th>\n",
              "      <th>Unit Size</th>\n",
              "      <th>9L Cases</th>\n",
              "    </tr>\n",
              "  </thead>\n",
              "  <tbody>\n",
              "    <tr>\n",
              "      <th>0</th>\n",
              "      <td>BC</td>\n",
              "      <td>F2021 DEC</td>\n",
              "      <td>202110</td>\n",
              "      <td>CANADA-VQA</td>\n",
              "      <td>COMPETITOR</td>\n",
              "      <td>KERNER</td>\n",
              "      <td>0918130 B.C. LIMITED   - UNASSIGNED BRAND</td>\n",
              "      <td>IND RETAILERS - SHIPMENTS</td>\n",
              "      <td>750</td>\n",
              "      <td>0.0</td>\n",
              "    </tr>\n",
              "    <tr>\n",
              "      <th>1</th>\n",
              "      <td>BC</td>\n",
              "      <td>F2021 DEC</td>\n",
              "      <td>202110</td>\n",
              "      <td>CANADA-VQA</td>\n",
              "      <td>COMPETITOR</td>\n",
              "      <td>MERLOT</td>\n",
              "      <td>0918130 B.C. LIMITED   - UNASSIGNED BRAND</td>\n",
              "      <td>IND RETAILERS - SHIPMENTS</td>\n",
              "      <td>750</td>\n",
              "      <td>0.0</td>\n",
              "    </tr>\n",
              "    <tr>\n",
              "      <th>2</th>\n",
              "      <td>BC</td>\n",
              "      <td>F2021 DEC</td>\n",
              "      <td>202110</td>\n",
              "      <td>CANADA-VQA</td>\n",
              "      <td>COMPETITOR</td>\n",
              "      <td>UNASSIGNED</td>\n",
              "      <td>0918130 B.C. LIMITED   - UNASSIGNED BRAND</td>\n",
              "      <td>IND RETAILERS - SHIPMENTS</td>\n",
              "      <td>750</td>\n",
              "      <td>0.0</td>\n",
              "    </tr>\n",
              "    <tr>\n",
              "      <th>3</th>\n",
              "      <td>BC</td>\n",
              "      <td>F2021 DEC</td>\n",
              "      <td>202110</td>\n",
              "      <td>CANADA-VQA</td>\n",
              "      <td>COMPETITOR</td>\n",
              "      <td>ZWEIGELT</td>\n",
              "      <td>0918130 B.C. LIMITED   - UNASSIGNED BRAND</td>\n",
              "      <td>IND RETAILERS - SHIPMENTS</td>\n",
              "      <td>750</td>\n",
              "      <td>0.0</td>\n",
              "    </tr>\n",
              "    <tr>\n",
              "      <th>4</th>\n",
              "      <td>BC</td>\n",
              "      <td>F2021 DEC</td>\n",
              "      <td>202110</td>\n",
              "      <td>CANADA-VQA</td>\n",
              "      <td>COMPETITOR</td>\n",
              "      <td>UNASSIGNED</td>\n",
              "      <td>0927363 BC LTD.  - UNASSIGNED BRAND</td>\n",
              "      <td>IND RETAILERS - SHIPMENTS</td>\n",
              "      <td>750</td>\n",
              "      <td>0.0</td>\n",
              "    </tr>\n",
              "  </tbody>\n",
              "</table>\n",
              "</div>"
            ],
            "text/plain": [
              "  Region AWC Fiscal Year Month Abbr  ...  Unit Size 9L Cases\n",
              "0     BC                  F2021 DEC  ...        750      0.0\n",
              "1     BC                  F2021 DEC  ...        750      0.0\n",
              "2     BC                  F2021 DEC  ...        750      0.0\n",
              "3     BC                  F2021 DEC  ...        750      0.0\n",
              "4     BC                  F2021 DEC  ...        750      0.0\n",
              "\n",
              "[5 rows x 10 columns]"
            ]
          },
          "metadata": {
            "tags": []
          },
          "execution_count": 4
        }
      ]
    },
    {
      "cell_type": "code",
      "metadata": {
        "colab": {
          "base_uri": "https://localhost:8080/"
        },
        "id": "gGn7m8_TejMu",
        "outputId": "c1f6d5cc-6c85-43ba-df37-4e80fcbccc06"
      },
      "source": [
        "raw_df.info()"
      ],
      "execution_count": 5,
      "outputs": [
        {
          "output_type": "stream",
          "text": [
            "<class 'pandas.core.frame.DataFrame'>\n",
            "RangeIndex: 211587 entries, 0 to 211586\n",
            "Data columns (total 10 columns):\n",
            " #   Column                      Non-Null Count   Dtype  \n",
            "---  ------                      --------------   -----  \n",
            " 0   Region                      211587 non-null  object \n",
            " 1   AWC Fiscal Year Month Abbr  211587 non-null  object \n",
            " 2   AWC FYr & Pd No             211587 non-null  int64  \n",
            " 3   Country Group               211587 non-null  object \n",
            " 4   AWC and Comp                211587 non-null  object \n",
            " 5   Varietal                    211567 non-null  object \n",
            " 6   Brand                       211587 non-null  object \n",
            " 7   Channel                     211587 non-null  object \n",
            " 8   Unit Size                   211587 non-null  int64  \n",
            " 9   9L Cases                    211587 non-null  float64\n",
            "dtypes: float64(1), int64(2), object(7)\n",
            "memory usage: 16.1+ MB\n"
          ],
          "name": "stdout"
        }
      ]
    },
    {
      "cell_type": "code",
      "metadata": {
        "colab": {
          "base_uri": "https://localhost:8080/",
          "height": 195
        },
        "id": "Z-GueAVEelkm",
        "outputId": "968f6bcf-67ec-42fa-f95b-4ebd0ac740b4"
      },
      "source": [
        "raw_df = raw_df.rename({'AWC Fiscal Year Month Abbr': 'Date','9L Cases':'Cases'}, axis=1) \r\n",
        "\r\n",
        "raw_df['Date'] = raw_df['Date'].str[1:]\r\n",
        "raw_df.head()"
      ],
      "execution_count": 6,
      "outputs": [
        {
          "output_type": "execute_result",
          "data": {
            "text/html": [
              "<div>\n",
              "<style scoped>\n",
              "    .dataframe tbody tr th:only-of-type {\n",
              "        vertical-align: middle;\n",
              "    }\n",
              "\n",
              "    .dataframe tbody tr th {\n",
              "        vertical-align: top;\n",
              "    }\n",
              "\n",
              "    .dataframe thead th {\n",
              "        text-align: right;\n",
              "    }\n",
              "</style>\n",
              "<table border=\"1\" class=\"dataframe\">\n",
              "  <thead>\n",
              "    <tr style=\"text-align: right;\">\n",
              "      <th></th>\n",
              "      <th>Region</th>\n",
              "      <th>Date</th>\n",
              "      <th>AWC FYr &amp; Pd No</th>\n",
              "      <th>Country Group</th>\n",
              "      <th>AWC and Comp</th>\n",
              "      <th>Varietal</th>\n",
              "      <th>Brand</th>\n",
              "      <th>Channel</th>\n",
              "      <th>Unit Size</th>\n",
              "      <th>Cases</th>\n",
              "    </tr>\n",
              "  </thead>\n",
              "  <tbody>\n",
              "    <tr>\n",
              "      <th>0</th>\n",
              "      <td>BC</td>\n",
              "      <td>2021 DEC</td>\n",
              "      <td>202110</td>\n",
              "      <td>CANADA-VQA</td>\n",
              "      <td>COMPETITOR</td>\n",
              "      <td>KERNER</td>\n",
              "      <td>0918130 B.C. LIMITED   - UNASSIGNED BRAND</td>\n",
              "      <td>IND RETAILERS - SHIPMENTS</td>\n",
              "      <td>750</td>\n",
              "      <td>0.0</td>\n",
              "    </tr>\n",
              "    <tr>\n",
              "      <th>1</th>\n",
              "      <td>BC</td>\n",
              "      <td>2021 DEC</td>\n",
              "      <td>202110</td>\n",
              "      <td>CANADA-VQA</td>\n",
              "      <td>COMPETITOR</td>\n",
              "      <td>MERLOT</td>\n",
              "      <td>0918130 B.C. LIMITED   - UNASSIGNED BRAND</td>\n",
              "      <td>IND RETAILERS - SHIPMENTS</td>\n",
              "      <td>750</td>\n",
              "      <td>0.0</td>\n",
              "    </tr>\n",
              "    <tr>\n",
              "      <th>2</th>\n",
              "      <td>BC</td>\n",
              "      <td>2021 DEC</td>\n",
              "      <td>202110</td>\n",
              "      <td>CANADA-VQA</td>\n",
              "      <td>COMPETITOR</td>\n",
              "      <td>UNASSIGNED</td>\n",
              "      <td>0918130 B.C. LIMITED   - UNASSIGNED BRAND</td>\n",
              "      <td>IND RETAILERS - SHIPMENTS</td>\n",
              "      <td>750</td>\n",
              "      <td>0.0</td>\n",
              "    </tr>\n",
              "    <tr>\n",
              "      <th>3</th>\n",
              "      <td>BC</td>\n",
              "      <td>2021 DEC</td>\n",
              "      <td>202110</td>\n",
              "      <td>CANADA-VQA</td>\n",
              "      <td>COMPETITOR</td>\n",
              "      <td>ZWEIGELT</td>\n",
              "      <td>0918130 B.C. LIMITED   - UNASSIGNED BRAND</td>\n",
              "      <td>IND RETAILERS - SHIPMENTS</td>\n",
              "      <td>750</td>\n",
              "      <td>0.0</td>\n",
              "    </tr>\n",
              "    <tr>\n",
              "      <th>4</th>\n",
              "      <td>BC</td>\n",
              "      <td>2021 DEC</td>\n",
              "      <td>202110</td>\n",
              "      <td>CANADA-VQA</td>\n",
              "      <td>COMPETITOR</td>\n",
              "      <td>UNASSIGNED</td>\n",
              "      <td>0927363 BC LTD.  - UNASSIGNED BRAND</td>\n",
              "      <td>IND RETAILERS - SHIPMENTS</td>\n",
              "      <td>750</td>\n",
              "      <td>0.0</td>\n",
              "    </tr>\n",
              "  </tbody>\n",
              "</table>\n",
              "</div>"
            ],
            "text/plain": [
              "  Region      Date  ...  Unit Size Cases\n",
              "0     BC  2021 DEC  ...        750   0.0\n",
              "1     BC  2021 DEC  ...        750   0.0\n",
              "2     BC  2021 DEC  ...        750   0.0\n",
              "3     BC  2021 DEC  ...        750   0.0\n",
              "4     BC  2021 DEC  ...        750   0.0\n",
              "\n",
              "[5 rows x 10 columns]"
            ]
          },
          "metadata": {
            "tags": []
          },
          "execution_count": 6
        }
      ]
    },
    {
      "cell_type": "code",
      "metadata": {
        "colab": {
          "base_uri": "https://localhost:8080/",
          "height": 195
        },
        "id": "cbwR85r7enVO",
        "outputId": "6f6cddda-20d4-4723-9675-e42112faf8b1"
      },
      "source": [
        "import datetime\r\n",
        "raw_df['Date'] = pd.to_datetime(raw_df['Date'])\r\n",
        "raw_df.head()"
      ],
      "execution_count": 7,
      "outputs": [
        {
          "output_type": "execute_result",
          "data": {
            "text/html": [
              "<div>\n",
              "<style scoped>\n",
              "    .dataframe tbody tr th:only-of-type {\n",
              "        vertical-align: middle;\n",
              "    }\n",
              "\n",
              "    .dataframe tbody tr th {\n",
              "        vertical-align: top;\n",
              "    }\n",
              "\n",
              "    .dataframe thead th {\n",
              "        text-align: right;\n",
              "    }\n",
              "</style>\n",
              "<table border=\"1\" class=\"dataframe\">\n",
              "  <thead>\n",
              "    <tr style=\"text-align: right;\">\n",
              "      <th></th>\n",
              "      <th>Region</th>\n",
              "      <th>Date</th>\n",
              "      <th>AWC FYr &amp; Pd No</th>\n",
              "      <th>Country Group</th>\n",
              "      <th>AWC and Comp</th>\n",
              "      <th>Varietal</th>\n",
              "      <th>Brand</th>\n",
              "      <th>Channel</th>\n",
              "      <th>Unit Size</th>\n",
              "      <th>Cases</th>\n",
              "    </tr>\n",
              "  </thead>\n",
              "  <tbody>\n",
              "    <tr>\n",
              "      <th>0</th>\n",
              "      <td>BC</td>\n",
              "      <td>2021-12-01</td>\n",
              "      <td>202110</td>\n",
              "      <td>CANADA-VQA</td>\n",
              "      <td>COMPETITOR</td>\n",
              "      <td>KERNER</td>\n",
              "      <td>0918130 B.C. LIMITED   - UNASSIGNED BRAND</td>\n",
              "      <td>IND RETAILERS - SHIPMENTS</td>\n",
              "      <td>750</td>\n",
              "      <td>0.0</td>\n",
              "    </tr>\n",
              "    <tr>\n",
              "      <th>1</th>\n",
              "      <td>BC</td>\n",
              "      <td>2021-12-01</td>\n",
              "      <td>202110</td>\n",
              "      <td>CANADA-VQA</td>\n",
              "      <td>COMPETITOR</td>\n",
              "      <td>MERLOT</td>\n",
              "      <td>0918130 B.C. LIMITED   - UNASSIGNED BRAND</td>\n",
              "      <td>IND RETAILERS - SHIPMENTS</td>\n",
              "      <td>750</td>\n",
              "      <td>0.0</td>\n",
              "    </tr>\n",
              "    <tr>\n",
              "      <th>2</th>\n",
              "      <td>BC</td>\n",
              "      <td>2021-12-01</td>\n",
              "      <td>202110</td>\n",
              "      <td>CANADA-VQA</td>\n",
              "      <td>COMPETITOR</td>\n",
              "      <td>UNASSIGNED</td>\n",
              "      <td>0918130 B.C. LIMITED   - UNASSIGNED BRAND</td>\n",
              "      <td>IND RETAILERS - SHIPMENTS</td>\n",
              "      <td>750</td>\n",
              "      <td>0.0</td>\n",
              "    </tr>\n",
              "    <tr>\n",
              "      <th>3</th>\n",
              "      <td>BC</td>\n",
              "      <td>2021-12-01</td>\n",
              "      <td>202110</td>\n",
              "      <td>CANADA-VQA</td>\n",
              "      <td>COMPETITOR</td>\n",
              "      <td>ZWEIGELT</td>\n",
              "      <td>0918130 B.C. LIMITED   - UNASSIGNED BRAND</td>\n",
              "      <td>IND RETAILERS - SHIPMENTS</td>\n",
              "      <td>750</td>\n",
              "      <td>0.0</td>\n",
              "    </tr>\n",
              "    <tr>\n",
              "      <th>4</th>\n",
              "      <td>BC</td>\n",
              "      <td>2021-12-01</td>\n",
              "      <td>202110</td>\n",
              "      <td>CANADA-VQA</td>\n",
              "      <td>COMPETITOR</td>\n",
              "      <td>UNASSIGNED</td>\n",
              "      <td>0927363 BC LTD.  - UNASSIGNED BRAND</td>\n",
              "      <td>IND RETAILERS - SHIPMENTS</td>\n",
              "      <td>750</td>\n",
              "      <td>0.0</td>\n",
              "    </tr>\n",
              "  </tbody>\n",
              "</table>\n",
              "</div>"
            ],
            "text/plain": [
              "  Region       Date  ...  Unit Size Cases\n",
              "0     BC 2021-12-01  ...        750   0.0\n",
              "1     BC 2021-12-01  ...        750   0.0\n",
              "2     BC 2021-12-01  ...        750   0.0\n",
              "3     BC 2021-12-01  ...        750   0.0\n",
              "4     BC 2021-12-01  ...        750   0.0\n",
              "\n",
              "[5 rows x 10 columns]"
            ]
          },
          "metadata": {
            "tags": []
          },
          "execution_count": 7
        }
      ]
    },
    {
      "cell_type": "code",
      "metadata": {
        "colab": {
          "base_uri": "https://localhost:8080/"
        },
        "id": "OwTAEngNepLG",
        "outputId": "8bc507df-9bd9-4432-916f-ebd10c68605e"
      },
      "source": [
        "raw_df['Date'].min(), raw_df['Date'].max()"
      ],
      "execution_count": 8,
      "outputs": [
        {
          "output_type": "execute_result",
          "data": {
            "text/plain": [
              "(Timestamp('2017-01-01 00:00:00'), Timestamp('2021-12-01 00:00:00'))"
            ]
          },
          "metadata": {
            "tags": []
          },
          "execution_count": 8
        }
      ]
    },
    {
      "cell_type": "code",
      "metadata": {
        "colab": {
          "base_uri": "https://localhost:8080/"
        },
        "id": "6VlTWXrjetqy",
        "outputId": "0ee9e142-b4f3-4589-ddb0-253fb387309a"
      },
      "source": [
        "raw_df['Country Group'].unique()\r\n"
      ],
      "execution_count": 9,
      "outputs": [
        {
          "output_type": "execute_result",
          "data": {
            "text/plain": [
              "array(['CANADA-VQA', 'CANADA-ICB'], dtype=object)"
            ]
          },
          "metadata": {
            "tags": []
          },
          "execution_count": 9
        }
      ]
    },
    {
      "cell_type": "code",
      "metadata": {
        "colab": {
          "base_uri": "https://localhost:8080/"
        },
        "id": "44ApZusw4NPE",
        "outputId": "ea8c0c25-e8dd-42d2-e570-8ba6d3013234"
      },
      "source": [
        "raw_df['Channel'].unique()"
      ],
      "execution_count": 10,
      "outputs": [
        {
          "output_type": "execute_result",
          "data": {
            "text/plain": [
              "array(['IND RETAILERS - SHIPMENTS', 'BC LIQUOR STORES - OVER THE COUNTER',\n",
              "       'Regular OTC Sales', 'Grocery Scan'], dtype=object)"
            ]
          },
          "metadata": {
            "tags": []
          },
          "execution_count": 10
        }
      ]
    },
    {
      "cell_type": "code",
      "metadata": {
        "id": "L4kDs-dRevrW"
      },
      "source": [
        "\r\n",
        "#ICB\r\n",
        "icb_df = raw_df.loc[raw_df['Country Group'] == 'CANADA-ICB']\r\n",
        "bc_icb_df = icb_df.loc[icb_df['Region'] == 'BC']\r\n",
        "ont_icb_df=icb_df.loc[icb_df['Region'] == 'ONT']\r\n",
        "\r\n",
        "#VQA\r\n",
        "vqa_df = raw_df.loc[raw_df['Country Group'] == 'CANADA-VQA']\r\n",
        "bc_vqa_df = vqa_df.loc[vqa_df['Region'] == 'BC']\r\n",
        "ont_vaq_df=vqa_df.loc[vqa_df['Region'] == 'ONT']\r\n",
        "\r\n",
        "\r\n",
        "#Channel\r\n",
        "\r\n",
        "BC_ind_df = raw_df.loc[raw_df['Channel'] == 'IND RETAILERS - SHIPMENTS']\r\n",
        "BC_OTC_df = raw_df.loc[raw_df['Channel'] == 'BC LIQUOR STORES - OVER THE COUNTER']\r\n",
        "\r\n",
        "ONT_groc_df = raw_df.loc[raw_df['Channel'] == 'Grocery Scan']\r\n",
        "ONT_OTC_df = raw_df.loc[raw_df['Channel'] == 'Regular OTC Sales']\r\n",
        "\r\n"
      ],
      "execution_count": 11,
      "outputs": []
    },
    {
      "cell_type": "code",
      "metadata": {
        "colab": {
          "base_uri": "https://localhost:8080/",
          "height": 195
        },
        "id": "D4dbOJOvHjIe",
        "outputId": "7acad2f4-39fb-47de-9745-31ae7800026d"
      },
      "source": [
        "#audit\r\n",
        "bc_vqa_df.head()"
      ],
      "execution_count": 12,
      "outputs": [
        {
          "output_type": "execute_result",
          "data": {
            "text/html": [
              "<div>\n",
              "<style scoped>\n",
              "    .dataframe tbody tr th:only-of-type {\n",
              "        vertical-align: middle;\n",
              "    }\n",
              "\n",
              "    .dataframe tbody tr th {\n",
              "        vertical-align: top;\n",
              "    }\n",
              "\n",
              "    .dataframe thead th {\n",
              "        text-align: right;\n",
              "    }\n",
              "</style>\n",
              "<table border=\"1\" class=\"dataframe\">\n",
              "  <thead>\n",
              "    <tr style=\"text-align: right;\">\n",
              "      <th></th>\n",
              "      <th>Region</th>\n",
              "      <th>Date</th>\n",
              "      <th>AWC FYr &amp; Pd No</th>\n",
              "      <th>Country Group</th>\n",
              "      <th>AWC and Comp</th>\n",
              "      <th>Varietal</th>\n",
              "      <th>Brand</th>\n",
              "      <th>Channel</th>\n",
              "      <th>Unit Size</th>\n",
              "      <th>Cases</th>\n",
              "    </tr>\n",
              "  </thead>\n",
              "  <tbody>\n",
              "    <tr>\n",
              "      <th>0</th>\n",
              "      <td>BC</td>\n",
              "      <td>2021-12-01</td>\n",
              "      <td>202110</td>\n",
              "      <td>CANADA-VQA</td>\n",
              "      <td>COMPETITOR</td>\n",
              "      <td>KERNER</td>\n",
              "      <td>0918130 B.C. LIMITED   - UNASSIGNED BRAND</td>\n",
              "      <td>IND RETAILERS - SHIPMENTS</td>\n",
              "      <td>750</td>\n",
              "      <td>0.0</td>\n",
              "    </tr>\n",
              "    <tr>\n",
              "      <th>1</th>\n",
              "      <td>BC</td>\n",
              "      <td>2021-12-01</td>\n",
              "      <td>202110</td>\n",
              "      <td>CANADA-VQA</td>\n",
              "      <td>COMPETITOR</td>\n",
              "      <td>MERLOT</td>\n",
              "      <td>0918130 B.C. LIMITED   - UNASSIGNED BRAND</td>\n",
              "      <td>IND RETAILERS - SHIPMENTS</td>\n",
              "      <td>750</td>\n",
              "      <td>0.0</td>\n",
              "    </tr>\n",
              "    <tr>\n",
              "      <th>2</th>\n",
              "      <td>BC</td>\n",
              "      <td>2021-12-01</td>\n",
              "      <td>202110</td>\n",
              "      <td>CANADA-VQA</td>\n",
              "      <td>COMPETITOR</td>\n",
              "      <td>UNASSIGNED</td>\n",
              "      <td>0918130 B.C. LIMITED   - UNASSIGNED BRAND</td>\n",
              "      <td>IND RETAILERS - SHIPMENTS</td>\n",
              "      <td>750</td>\n",
              "      <td>0.0</td>\n",
              "    </tr>\n",
              "    <tr>\n",
              "      <th>3</th>\n",
              "      <td>BC</td>\n",
              "      <td>2021-12-01</td>\n",
              "      <td>202110</td>\n",
              "      <td>CANADA-VQA</td>\n",
              "      <td>COMPETITOR</td>\n",
              "      <td>ZWEIGELT</td>\n",
              "      <td>0918130 B.C. LIMITED   - UNASSIGNED BRAND</td>\n",
              "      <td>IND RETAILERS - SHIPMENTS</td>\n",
              "      <td>750</td>\n",
              "      <td>0.0</td>\n",
              "    </tr>\n",
              "    <tr>\n",
              "      <th>4</th>\n",
              "      <td>BC</td>\n",
              "      <td>2021-12-01</td>\n",
              "      <td>202110</td>\n",
              "      <td>CANADA-VQA</td>\n",
              "      <td>COMPETITOR</td>\n",
              "      <td>UNASSIGNED</td>\n",
              "      <td>0927363 BC LTD.  - UNASSIGNED BRAND</td>\n",
              "      <td>IND RETAILERS - SHIPMENTS</td>\n",
              "      <td>750</td>\n",
              "      <td>0.0</td>\n",
              "    </tr>\n",
              "  </tbody>\n",
              "</table>\n",
              "</div>"
            ],
            "text/plain": [
              "  Region       Date  ...  Unit Size Cases\n",
              "0     BC 2021-12-01  ...        750   0.0\n",
              "1     BC 2021-12-01  ...        750   0.0\n",
              "2     BC 2021-12-01  ...        750   0.0\n",
              "3     BC 2021-12-01  ...        750   0.0\n",
              "4     BC 2021-12-01  ...        750   0.0\n",
              "\n",
              "[5 rows x 10 columns]"
            ]
          },
          "metadata": {
            "tags": []
          },
          "execution_count": 12
        }
      ]
    },
    {
      "cell_type": "markdown",
      "metadata": {
        "id": "A4yE60nye8ov"
      },
      "source": [
        "### TRY 1 Country group\r\n"
      ]
    },
    {
      "cell_type": "code",
      "metadata": {
        "colab": {
          "base_uri": "https://localhost:8080/",
          "height": 195
        },
        "id": "Az_ESLSvexs9",
        "outputId": "ea504dd1-fb6f-4c12-aa77-b21e0fb062f9"
      },
      "source": [
        "bc_icb_df.head()\r\n"
      ],
      "execution_count": 13,
      "outputs": [
        {
          "output_type": "execute_result",
          "data": {
            "text/html": [
              "<div>\n",
              "<style scoped>\n",
              "    .dataframe tbody tr th:only-of-type {\n",
              "        vertical-align: middle;\n",
              "    }\n",
              "\n",
              "    .dataframe tbody tr th {\n",
              "        vertical-align: top;\n",
              "    }\n",
              "\n",
              "    .dataframe thead th {\n",
              "        text-align: right;\n",
              "    }\n",
              "</style>\n",
              "<table border=\"1\" class=\"dataframe\">\n",
              "  <thead>\n",
              "    <tr style=\"text-align: right;\">\n",
              "      <th></th>\n",
              "      <th>Region</th>\n",
              "      <th>Date</th>\n",
              "      <th>AWC FYr &amp; Pd No</th>\n",
              "      <th>Country Group</th>\n",
              "      <th>AWC and Comp</th>\n",
              "      <th>Varietal</th>\n",
              "      <th>Brand</th>\n",
              "      <th>Channel</th>\n",
              "      <th>Unit Size</th>\n",
              "      <th>Cases</th>\n",
              "    </tr>\n",
              "  </thead>\n",
              "  <tbody>\n",
              "    <tr>\n",
              "      <th>56</th>\n",
              "      <td>BC</td>\n",
              "      <td>2021-12-01</td>\n",
              "      <td>202110</td>\n",
              "      <td>CANADA-ICB</td>\n",
              "      <td>COMPETITOR</td>\n",
              "      <td>ROSE</td>\n",
              "      <td>40 KNOTS</td>\n",
              "      <td>IND RETAILERS - SHIPMENTS</td>\n",
              "      <td>1500</td>\n",
              "      <td>0.0</td>\n",
              "    </tr>\n",
              "    <tr>\n",
              "      <th>58</th>\n",
              "      <td>BC</td>\n",
              "      <td>2021-12-01</td>\n",
              "      <td>202110</td>\n",
              "      <td>CANADA-ICB</td>\n",
              "      <td>COMPETITOR</td>\n",
              "      <td>GAMAY</td>\n",
              "      <td>40 KNOTS</td>\n",
              "      <td>IND RETAILERS - SHIPMENTS</td>\n",
              "      <td>750</td>\n",
              "      <td>7.0</td>\n",
              "    </tr>\n",
              "    <tr>\n",
              "      <th>59</th>\n",
              "      <td>BC</td>\n",
              "      <td>2021-12-01</td>\n",
              "      <td>202110</td>\n",
              "      <td>CANADA-ICB</td>\n",
              "      <td>COMPETITOR</td>\n",
              "      <td>MERITAGE</td>\n",
              "      <td>40 KNOTS</td>\n",
              "      <td>IND RETAILERS - SHIPMENTS</td>\n",
              "      <td>750</td>\n",
              "      <td>1.0</td>\n",
              "    </tr>\n",
              "    <tr>\n",
              "      <th>60</th>\n",
              "      <td>BC</td>\n",
              "      <td>2021-12-01</td>\n",
              "      <td>202110</td>\n",
              "      <td>CANADA-ICB</td>\n",
              "      <td>COMPETITOR</td>\n",
              "      <td>MERLOT</td>\n",
              "      <td>40 KNOTS</td>\n",
              "      <td>IND RETAILERS - SHIPMENTS</td>\n",
              "      <td>750</td>\n",
              "      <td>0.0</td>\n",
              "    </tr>\n",
              "    <tr>\n",
              "      <th>62</th>\n",
              "      <td>BC</td>\n",
              "      <td>2021-12-01</td>\n",
              "      <td>202110</td>\n",
              "      <td>CANADA-ICB</td>\n",
              "      <td>COMPETITOR</td>\n",
              "      <td>PINOT GRIGIO</td>\n",
              "      <td>40 KNOTS</td>\n",
              "      <td>IND RETAILERS - SHIPMENTS</td>\n",
              "      <td>750</td>\n",
              "      <td>12.0</td>\n",
              "    </tr>\n",
              "  </tbody>\n",
              "</table>\n",
              "</div>"
            ],
            "text/plain": [
              "   Region       Date  ...  Unit Size Cases\n",
              "56     BC 2021-12-01  ...       1500   0.0\n",
              "58     BC 2021-12-01  ...        750   7.0\n",
              "59     BC 2021-12-01  ...        750   1.0\n",
              "60     BC 2021-12-01  ...        750   0.0\n",
              "62     BC 2021-12-01  ...        750  12.0\n",
              "\n",
              "[5 rows x 10 columns]"
            ]
          },
          "metadata": {
            "tags": []
          },
          "execution_count": 13
        }
      ]
    },
    {
      "cell_type": "code",
      "metadata": {
        "colab": {
          "base_uri": "https://localhost:8080/"
        },
        "id": "ZHajksIn6Dak",
        "outputId": "6137f275-631f-4f12-a8c7-b5a942826e88"
      },
      "source": [
        "bc_icb_df['Region'].unique()"
      ],
      "execution_count": 14,
      "outputs": [
        {
          "output_type": "execute_result",
          "data": {
            "text/plain": [
              "array(['BC'], dtype=object)"
            ]
          },
          "metadata": {
            "tags": []
          },
          "execution_count": 14
        }
      ]
    },
    {
      "cell_type": "code",
      "metadata": {
        "colab": {
          "base_uri": "https://localhost:8080/"
        },
        "id": "IQbZdbfXezyz",
        "outputId": "141564c2-a137-4de1-a657-83de3a9c8e46"
      },
      "source": [
        "bc_icb_df.isnull().sum()\r\n"
      ],
      "execution_count": 15,
      "outputs": [
        {
          "output_type": "execute_result",
          "data": {
            "text/plain": [
              "Region             0\n",
              "Date               0\n",
              "AWC FYr & Pd No    0\n",
              "Country Group      0\n",
              "AWC and Comp       0\n",
              "Varietal           0\n",
              "Brand              0\n",
              "Channel            0\n",
              "Unit Size          0\n",
              "Cases              0\n",
              "dtype: int64"
            ]
          },
          "metadata": {
            "tags": []
          },
          "execution_count": 15
        }
      ]
    },
    {
      "cell_type": "code",
      "metadata": {
        "colab": {
          "base_uri": "https://localhost:8080/",
          "height": 195
        },
        "id": "x0tYGtjJ7B0Q",
        "outputId": "82c1623e-5668-4873-ba60-a16ead4a06d9"
      },
      "source": [
        "\r\n",
        "bc_icb_region_cases=bc_icb_df.groupby(['Date'])['Cases'].sum().reset_index()\r\n",
        "bc_icb_region_cases.tail()"
      ],
      "execution_count": 16,
      "outputs": [
        {
          "output_type": "execute_result",
          "data": {
            "text/html": [
              "<div>\n",
              "<style scoped>\n",
              "    .dataframe tbody tr th:only-of-type {\n",
              "        vertical-align: middle;\n",
              "    }\n",
              "\n",
              "    .dataframe tbody tr th {\n",
              "        vertical-align: top;\n",
              "    }\n",
              "\n",
              "    .dataframe thead th {\n",
              "        text-align: right;\n",
              "    }\n",
              "</style>\n",
              "<table border=\"1\" class=\"dataframe\">\n",
              "  <thead>\n",
              "    <tr style=\"text-align: right;\">\n",
              "      <th></th>\n",
              "      <th>Date</th>\n",
              "      <th>Cases</th>\n",
              "    </tr>\n",
              "  </thead>\n",
              "  <tbody>\n",
              "    <tr>\n",
              "      <th>42</th>\n",
              "      <td>2021-08-01</td>\n",
              "      <td>246490.0</td>\n",
              "    </tr>\n",
              "    <tr>\n",
              "      <th>43</th>\n",
              "      <td>2021-09-01</td>\n",
              "      <td>185493.0</td>\n",
              "    </tr>\n",
              "    <tr>\n",
              "      <th>44</th>\n",
              "      <td>2021-10-01</td>\n",
              "      <td>219732.0</td>\n",
              "    </tr>\n",
              "    <tr>\n",
              "      <th>45</th>\n",
              "      <td>2021-11-01</td>\n",
              "      <td>212922.0</td>\n",
              "    </tr>\n",
              "    <tr>\n",
              "      <th>46</th>\n",
              "      <td>2021-12-01</td>\n",
              "      <td>288252.0</td>\n",
              "    </tr>\n",
              "  </tbody>\n",
              "</table>\n",
              "</div>"
            ],
            "text/plain": [
              "         Date     Cases\n",
              "42 2021-08-01  246490.0\n",
              "43 2021-09-01  185493.0\n",
              "44 2021-10-01  219732.0\n",
              "45 2021-11-01  212922.0\n",
              "46 2021-12-01  288252.0"
            ]
          },
          "metadata": {
            "tags": []
          },
          "execution_count": 16
        }
      ]
    },
    {
      "cell_type": "markdown",
      "metadata": {
        "id": "VQ_t_K0xGIdr"
      },
      "source": [
        "##  ARMA MODEL BEGIN HERE \r\n"
      ]
    },
    {
      "cell_type": "code",
      "metadata": {
        "id": "-ufM81rMfF2t"
      },
      "source": [
        "##  ARMA MODEL BEGIN HERE "
      ],
      "execution_count": 17,
      "outputs": []
    },
    {
      "cell_type": "code",
      "metadata": {
        "colab": {
          "base_uri": "https://localhost:8080/",
          "height": 229
        },
        "id": "oQOM73u-fSu4",
        "outputId": "6b391457-566c-43d3-aeb7-4bf0e0fc91af"
      },
      "source": [
        "# VQA statistics\r\n",
        "\r\n",
        "result = adfuller(bc_icb_region_cases['Cases'])\r\n",
        "\r\n",
        "print('ADF Statistic: {}'.format(result[0]))\r\n",
        "print('p-value: {}'.format(result[1]))\r\n",
        "print('Critical Values:')\r\n",
        "for key, value in result[4].items():\r\n",
        "    print('\\t{}: {}'.format(key, value))"
      ],
      "execution_count": 18,
      "outputs": [
        {
          "output_type": "error",
          "ename": "NameError",
          "evalue": "ignored",
          "traceback": [
            "\u001b[0;31m---------------------------------------------------------------------------\u001b[0m",
            "\u001b[0;31mNameError\u001b[0m                                 Traceback (most recent call last)",
            "\u001b[0;32m<ipython-input-18-919fe9b6fc7c>\u001b[0m in \u001b[0;36m<module>\u001b[0;34m()\u001b[0m\n\u001b[1;32m      1\u001b[0m \u001b[0;31m# VQA statistics\u001b[0m\u001b[0;34m\u001b[0m\u001b[0;34m\u001b[0m\u001b[0;34m\u001b[0m\u001b[0m\n\u001b[1;32m      2\u001b[0m \u001b[0;34m\u001b[0m\u001b[0m\n\u001b[0;32m----> 3\u001b[0;31m \u001b[0mresult\u001b[0m \u001b[0;34m=\u001b[0m \u001b[0madfuller\u001b[0m\u001b[0;34m(\u001b[0m\u001b[0mbc_icb_region_cases\u001b[0m\u001b[0;34m[\u001b[0m\u001b[0;34m'Cases'\u001b[0m\u001b[0;34m]\u001b[0m\u001b[0;34m)\u001b[0m\u001b[0;34m\u001b[0m\u001b[0;34m\u001b[0m\u001b[0m\n\u001b[0m\u001b[1;32m      4\u001b[0m \u001b[0;34m\u001b[0m\u001b[0m\n\u001b[1;32m      5\u001b[0m \u001b[0mprint\u001b[0m\u001b[0;34m(\u001b[0m\u001b[0;34m'ADF Statistic: {}'\u001b[0m\u001b[0;34m.\u001b[0m\u001b[0mformat\u001b[0m\u001b[0;34m(\u001b[0m\u001b[0mresult\u001b[0m\u001b[0;34m[\u001b[0m\u001b[0;36m0\u001b[0m\u001b[0;34m]\u001b[0m\u001b[0;34m)\u001b[0m\u001b[0;34m)\u001b[0m\u001b[0;34m\u001b[0m\u001b[0;34m\u001b[0m\u001b[0m\n",
            "\u001b[0;31mNameError\u001b[0m: name 'adfuller' is not defined"
          ]
        }
      ]
    },
    {
      "cell_type": "code",
      "metadata": {
        "id": "IDoaT8zcVm98"
      },
      "source": [
        ""
      ],
      "execution_count": null,
      "outputs": []
    },
    {
      "cell_type": "code",
      "metadata": {
        "id": "lc8r_Ty4M12h"
      },
      "source": [
        "#\r\n",
        "#ICB\r\n",
        "\r\n",
        "plt.rcParams.update({'figure.figsize':(8,5), 'figure.dpi':120})\r\n",
        "# Original Series\r\n",
        "fig, axes = plt.subplots(3, 2, sharex=True)\r\n",
        "axes[0, 0].plot(bc_icb_region_cases.Cases); axes[0, 0].set_title('Original Series')\r\n",
        "sm.graphics.tsa.plot_acf(bc_icb_region_cases.Cases, ax=axes[0, 1])\r\n",
        "\r\n",
        "# 1st Differencing\r\n",
        "axes[1, 0].plot(bc_icb_region_cases.Cases.diff()); axes[1, 0].set_title('1st Order Differencing')\r\n",
        "plot_acf(bc_icb_region_cases.Cases.diff().dropna(), ax=axes[1, 1])\r\n",
        "\r\n",
        "# 2nd Differencing\r\n",
        "axes[2, 0].plot(bc_icb_region_cases.Cases.diff().diff()); axes[2, 0].set_title('2nd Order Differencing')\r\n",
        "plot_acf(bc_icb_region_cases.Cases.diff().diff().dropna(), ax=axes[2, 1])\r\n",
        "\r\n",
        "## we need *2nd* order differencing\r\n",
        "\r\n",
        "\r\n",
        "plt.show()"
      ],
      "execution_count": null,
      "outputs": []
    },
    {
      "cell_type": "code",
      "metadata": {
        "id": "-phqBLQXPsjh"
      },
      "source": [
        ""
      ],
      "execution_count": null,
      "outputs": []
    },
    {
      "cell_type": "markdown",
      "metadata": {
        "id": "ei4LHmYDPtnO"
      },
      "source": [
        "ARIMA MODEL BEGINS HERE"
      ]
    },
    {
      "cell_type": "code",
      "metadata": {
        "id": "6tHaR2OhPv6L"
      },
      "source": [
        "# bc_icb_region_cases\r\n",
        "\r\n",
        "\r\n",
        "# 0,0,0 ARIMA Model\r\n",
        "bc_icb_model = ARIMA(bc_icb_region_cases.Cases,order=(0,0,0))\r\n",
        "bc_icb_model_fit = bc_icb_model.fit(disp=0)\r\n",
        "print(bc_icb_model_fit.summary())"
      ],
      "execution_count": null,
      "outputs": []
    },
    {
      "cell_type": "code",
      "metadata": {
        "id": "X6mHYUhaQZPu"
      },
      "source": [
        "# Plot residual errors\r\n",
        "\r\n",
        "\r\n",
        "residuals = pd.DataFrame(bc_icb_model_fit.resid)\r\n",
        "fig, ax = plt.subplots(1,2)\r\n",
        "residuals.plot(title=\"Residuals\", ax=ax[0])\r\n",
        "residuals.plot(kind='kde', title='Density', ax=ax[1])\r\n",
        "plt.show()"
      ],
      "execution_count": null,
      "outputs": []
    },
    {
      "cell_type": "code",
      "metadata": {
        "id": "-rQ2jKYfQpHR"
      },
      "source": [
        "# TEST and TRAIN\r\n",
        "\r\n",
        "#https://www.machinelearningplus.com/time-series/arima-model-time-series-forecasting-python/\r\n",
        "# Create Training and Test\r\n",
        "#train = bc_icb_region_cases.Cases[:85]\r\n",
        "#test = bc_icb_region_cases.Cases[85:]\r\n",
        "\r\n",
        "# Build Model\r\n",
        "# model = ARIMA(train, order=(3,2,1))  \r\n",
        "#model = ARIMA(train, order=(1, 1, 1))  \r\n",
        "#fitted = model.fit(disp=-1)  \r\n",
        "\r\n",
        "# Forecast\r\n",
        "#fc, se, conf = fitted.forecast(15, alpha=0.05)  # 95% conf\r\n",
        "\r\n",
        "# Make as pandas series\r\n",
        "#fc_series = pd.Series(fc, index=test.index)\r\n",
        "#lower_series = pd.Series(conf[:, 0], index=test.index)\r\n",
        "#upper_series = pd.Series(conf[:, 1], index=test.index)\r\n",
        "\r\n",
        "# Plot\r\n",
        "#plt.figure(figsize=(12,5), dpi=100)\r\n",
        "#plt.plot(train, label='training')\r\n",
        "#plt.plot(test, label='actual')\r\n",
        "#plt.plot(fc_series, label='forecast')\r\n",
        "#plt.fill_between(lower_series.index, lower_series, upper_series, color='k', alpha=.15)\r\n",
        "#plt.title('Forecast vs Actuals')\r\n",
        "#plt.legend(loc='upper left', fontsize=8)\r\n",
        "#plt.show()\r\n",
        "\r\n"
      ],
      "execution_count": null,
      "outputs": []
    },
    {
      "cell_type": "code",
      "metadata": {
        "id": "JL29F6EGZRoE"
      },
      "source": [
        "#https://www.geeksforgeeks.org/python-arima-model-for-time-series-forecasting/\r\n",
        "\r\n",
        "\r\n",
        "# Split data into train / test sets \r\n",
        "train = bc_icb_region_cases.iloc[:len(bc_icb_region_cases)-12] \r\n",
        "test = bc_icb_region_cases.iloc[len(bc_icb_region_cases)-12:] # set one year(12 months) for testing \r\n",
        "\r\n",
        "  \r\n",
        "model = ARIMA(train['Cases'],  order = (0, 0, 0),  \r\n",
        ") \r\n",
        "  \r\n",
        "result = model.fit() \r\n",
        "result.summary() \r\n",
        "\r\n"
      ],
      "execution_count": null,
      "outputs": []
    },
    {
      "cell_type": "code",
      "metadata": {
        "id": "XyjEM6uveWEH"
      },
      "source": [
        ""
      ],
      "execution_count": null,
      "outputs": []
    },
    {
      "cell_type": "code",
      "metadata": {
        "id": "yTlBZsdOikV3"
      },
      "source": [
        "A\r\n",
        "df_icb_region_cases = icb_region_cases.rename(columns={'Date': 'ds', '9L Cases': 'y'})\r\n",
        "\r\n",
        "# VQA\r\n",
        "df_icb_region_cases.head()"
      ],
      "execution_count": null,
      "outputs": []
    },
    {
      "cell_type": "code",
      "metadata": {
        "id": "9a_Z8BEN9E6N"
      },
      "source": [
        "#\r\n",
        "#ICB\r\n",
        "\r\n",
        "plt.rcParams.update({'figure.figsize':(8,5), 'figure.dpi':120})\r\n",
        "# Original Series\r\n",
        "fig, axes = plt.subplots(3, 2, sharex=True)\r\n",
        "axes[0, 0].plot(df_icb_region_cases.y); axes[0, 0].set_title('Original Series')\r\n",
        "sm.graphics.tsa.plot_acf(df_icb_region_cases.y, ax=axes[0, 1])\r\n",
        "\r\n",
        "# 1st Differencing\r\n",
        "axes[1, 0].plot(df_icb_region_cases.y.diff()); axes[1, 0].set_title('1st Order Differencing')\r\n",
        "plot_acf(df_icb_region_cases.y.diff().dropna(), ax=axes[1, 1])\r\n",
        "\r\n",
        "# 2nd Differencing\r\n",
        "axes[2, 0].plot(df_icb_region_cases.y.diff().diff()); axes[2, 0].set_title('2nd Order Differencing')\r\n",
        "plot_acf(df_icb_region_cases.y.diff().diff().dropna(), ax=axes[2, 1])\r\n",
        "\r\n",
        "## we need *2nd* order differencing\r\n",
        "\r\n",
        "\r\n",
        "plt.show()"
      ],
      "execution_count": null,
      "outputs": []
    },
    {
      "cell_type": "code",
      "metadata": {
        "id": "v-0vvpNIEVCD"
      },
      "source": [
        "# 2nd order diff\r\n",
        "#????????????  not sure if we neeed this for Prophet  #####\r\n",
        "\r\n",
        "#df.y=df.y.diff()"
      ],
      "execution_count": null,
      "outputs": []
    },
    {
      "cell_type": "code",
      "metadata": {
        "id": "pkD1quWg3y4b"
      },
      "source": [
        "## Prophet Begins Here ##"
      ],
      "execution_count": null,
      "outputs": []
    },
    {
      "cell_type": "code",
      "metadata": {
        "id": "isMqjFf-hC8E"
      },
      "source": [
        "# prophet defaults to 80% interval.  \r\n",
        "# set up holidays  https://github.com/dr-prodigy/python-holidays\r\n",
        "\r\n",
        "icb_model = Prophet(interval_width=0.80)\r\n",
        "icb_model = icb_model.add_country_holidays(country_name='CA')\r\n",
        "icb_model.train_holiday_names\r\n"
      ],
      "execution_count": null,
      "outputs": []
    },
    {
      "cell_type": "code",
      "metadata": {
        "id": "-sLV-odw49Qi"
      },
      "source": [
        "icb_model.train_holiday_names"
      ],
      "execution_count": null,
      "outputs": []
    },
    {
      "cell_type": "code",
      "metadata": {
        "id": "zMlJZvmf4SPl"
      },
      "source": [
        "\r\n",
        "icb_model.fit(df_icb_region_cases)"
      ],
      "execution_count": null,
      "outputs": []
    },
    {
      "cell_type": "code",
      "metadata": {
        "id": "fV0Khl4W9s3v"
      },
      "source": [
        ""
      ],
      "execution_count": null,
      "outputs": []
    },
    {
      "cell_type": "code",
      "metadata": {
        "id": "N7KP-ZydGxmp"
      },
      "source": [
        ""
      ],
      "execution_count": null,
      "outputs": []
    },
    {
      "cell_type": "code",
      "metadata": {
        "id": "I7JGvRIxG03Y"
      },
      "source": [
        ""
      ],
      "execution_count": null,
      "outputs": []
    },
    {
      "cell_type": "code",
      "metadata": {
        "id": "TthbgItgmRD9"
      },
      "source": [
        "# Frequency  = M monthly;  MS month start !?\r\n",
        "icb_forecast = icb_model.make_future_dataframe(periods=24, freq='MS')\r\n",
        "\r\n",
        "\r\n",
        "#predict\r\n",
        "icb_forecast=icb_model.predict(icb_forecast)"
      ],
      "execution_count": null,
      "outputs": []
    },
    {
      "cell_type": "code",
      "metadata": {
        "id": "pjfjI9ovtCX8"
      },
      "source": [
        "#forecasted value\r\n",
        "#rose_forecast[['ds', 'yhat', 'yhat_lower', 'yhat_upper']].tail()\r\n",
        "#vqa_forecast[['ds', 'yhat', 'yhat_lower', 'yhat_upper']].tail()\r\n",
        "icb_forecast.head()"
      ],
      "execution_count": null,
      "outputs": []
    },
    {
      "cell_type": "code",
      "metadata": {
        "id": "3DGD-vQb_nL5"
      },
      "source": [
        "## CROSS VALIDATION Starts HERE ------------"
      ],
      "execution_count": null,
      "outputs": []
    },
    {
      "cell_type": "code",
      "metadata": {
        "id": "AXKqA49cGS-x"
      },
      "source": [
        ""
      ],
      "execution_count": null,
      "outputs": []
    },
    {
      "cell_type": "code",
      "metadata": {
        "id": "3-XNKHoZxVtd"
      },
      "source": [
        "m = Prophet(seasonality_mode='multiplicative',\r\n",
        "                interval_width=0.95).fit(df_icb_region_cases)\r\n",
        "\r\n",
        "future = m.make_future_dataframe(periods=12, freq='MS')\r\n",
        "forecast = m.predict(future)\r\n",
        "\r\n",
        "forecast = forecast[['ds','yhat_lower', 'yhat', 'yhat_upper']]"
      ],
      "execution_count": null,
      "outputs": []
    },
    {
      "cell_type": "code",
      "metadata": {
        "id": "BwUw4VMfoliY"
      },
      "source": [
        "from fbprophet.diagnostics import cross_validation\r\n",
        "df_cv = cross_validation(m, initial='900 days', period='90 days', horizon = '180 days')\r\n"
      ],
      "execution_count": null,
      "outputs": []
    },
    {
      "cell_type": "code",
      "metadata": {
        "id": "SzsOSZoDpNix"
      },
      "source": [
        "df_cv.head()"
      ],
      "execution_count": null,
      "outputs": []
    },
    {
      "cell_type": "code",
      "metadata": {
        "id": "M7mHPNrjpXPA"
      },
      "source": [
        "from fbprophet.diagnostics import performance_metrics\r\n",
        "df_p = performance_metrics(df_cv)\r\n",
        "df_p.head(10)"
      ],
      "execution_count": null,
      "outputs": []
    },
    {
      "cell_type": "code",
      "metadata": {
        "id": "QqPfPa1WEmcY"
      },
      "source": [
        "# calculate MAE between expected and predicted values for december\r\n",
        "from sklearn.metrics import mean_absolute_error, mean_squared_error\r\n",
        "y_true = df_cv['y'].values\r\n",
        "y_pred = df_cv['yhat'][-140:].values\r\n",
        "mae = mean_absolute_error(y_true, y_pred)\r\n",
        "#mse = mean_squared_error (y_true, y_pred)\r\n",
        "print('MAE: %.3f' % mae)\r\n",
        "#print('MAE: %.3f' % mse)"
      ],
      "execution_count": null,
      "outputs": []
    },
    {
      "cell_type": "code",
      "metadata": {
        "id": "1sfpZSgtFOfY"
      },
      "source": [
        "#y_true\r\n",
        "y_pred"
      ],
      "execution_count": null,
      "outputs": []
    },
    {
      "cell_type": "code",
      "metadata": {
        "id": "RhoPl1SotBBi"
      },
      "source": [
        "from fbprophet.plot import plot_cross_validation_metric\r\n",
        "fig = plot_cross_validation_metric(df_cv, metric='mape')\r\n"
      ],
      "execution_count": null,
      "outputs": []
    },
    {
      "cell_type": "code",
      "metadata": {
        "id": "YGqa_MrGuK41"
      },
      "source": [
        "#fb prophet\r\n",
        "from fbprophet.plot import plot_plotly, plot_components_plotly\r\n"
      ],
      "execution_count": null,
      "outputs": []
    },
    {
      "cell_type": "code",
      "metadata": {
        "id": "CnDDFZmxmVaI"
      },
      "source": [
        "#plt.figure(figsize=(6, 3))\r\n",
        "\r\n",
        "m.plot(forecast, xlabel = 'Date', ylabel = 'Units Sold')\r\n",
        "plt.title('Forecast');"
      ],
      "execution_count": null,
      "outputs": []
    },
    {
      "cell_type": "code",
      "metadata": {
        "id": "dvCKsvEnr6AQ"
      },
      "source": [
        "# decomposition\r\n",
        "\r\n",
        "#m.plot_components(forecast)"
      ],
      "execution_count": null,
      "outputs": []
    },
    {
      "cell_type": "code",
      "metadata": {
        "id": "Y328TtbZjSTP"
      },
      "source": [
        "#ICB\r\n",
        "plot_plotly(m, forecast)"
      ],
      "execution_count": null,
      "outputs": []
    }
  ]
}