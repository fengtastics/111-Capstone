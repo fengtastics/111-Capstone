{
  "nbformat": 4,
  "nbformat_minor": 0,
  "metadata": {
    "colab": {
      "name": "Arterra Project.ipynb",
      "provenance": [],
      "authorship_tag": "ABX9TyM6c4EN0eskGxwacGDsgpeX",
      "include_colab_link": true
    },
    "kernelspec": {
      "name": "python3",
      "display_name": "Python 3"
    }
  },
  "cells": [
    {
      "cell_type": "markdown",
      "metadata": {
        "id": "view-in-github",
        "colab_type": "text"
      },
      "source": [
        "<a href=\"https://colab.research.google.com/github/fengtastics/111-Capstone/blob/master/Arterra_Project.ipynb\" target=\"_parent\"><img src=\"https://colab.research.google.com/assets/colab-badge.svg\" alt=\"Open In Colab\"/></a>"
      ]
    },
    {
      "cell_type": "code",
      "metadata": {
        "id": "BvATbW9xc18Z"
      },
      "source": [
        "import warnings\r\n",
        "import itertools\r\n",
        "import numpy as np\r\n",
        "import matplotlib.pyplot as plt\r\n",
        "warnings.filterwarnings(\"ignore\")\r\n",
        "plt.style.use('fivethirtyeight')\r\n",
        "import pandas as pd\r\n",
        "import statsmodels.api as sm\r\n",
        "import matplotlib\r\n",
        "matplotlib.rcParams['axes.labelsize'] = 14\r\n",
        "matplotlib.rcParams['xtick.labelsize'] = 12\r\n",
        "matplotlib.rcParams['ytick.labelsize'] = 12\r\n",
        "matplotlib.rcParams['text.color'] = 'k'"
      ],
      "execution_count": 7,
      "outputs": []
    },
    {
      "cell_type": "code",
      "metadata": {
        "id": "FK6ikshac4DW"
      },
      "source": [
        "from numpy import log"
      ],
      "execution_count": 2,
      "outputs": []
    },
    {
      "cell_type": "code",
      "metadata": {
        "colab": {
          "base_uri": "https://localhost:8080/",
          "height": 194
        },
        "id": "hwOdioNKdFyP",
        "outputId": "7d296b1c-c5b8-4c50-d24a-c8340bb22fd7"
      },
      "source": [
        "#raw_df = pd.read_csv(\"C:\\\\Users\\\\mcinn\\\\Documents\\\\timeseries_vqa.csv\")\r\n",
        "raw_df = pd.read_csv(\r\n",
        "   \"timeseries_vqa.csv\",      # relative python path to subdirectory\r\n",
        "    usecols=[ \"AWC Fiscal Year Month Abbr\",\t\"Brand\",\"Varietal Group\", \r\n",
        "    \"9L Cases\",\"Avg Sales Price\",\"Sales Dollars\"],  # Only load the columns specified.\r\n",
        "   )\r\n",
        "\r\n",
        "raw_df.head()\r\n",
        "#raw_df.info()"
      ],
      "execution_count": 10,
      "outputs": [
        {
          "output_type": "execute_result",
          "data": {
            "text/html": [
              "<div>\n",
              "<style scoped>\n",
              "    .dataframe tbody tr th:only-of-type {\n",
              "        vertical-align: middle;\n",
              "    }\n",
              "\n",
              "    .dataframe tbody tr th {\n",
              "        vertical-align: top;\n",
              "    }\n",
              "\n",
              "    .dataframe thead th {\n",
              "        text-align: right;\n",
              "    }\n",
              "</style>\n",
              "<table border=\"1\" class=\"dataframe\">\n",
              "  <thead>\n",
              "    <tr style=\"text-align: right;\">\n",
              "      <th></th>\n",
              "      <th>AWC Fiscal Year Month Abbr</th>\n",
              "      <th>Brand</th>\n",
              "      <th>Varietal Group</th>\n",
              "      <th>9L Cases</th>\n",
              "      <th>Avg Sales Price</th>\n",
              "      <th>Sales Dollars</th>\n",
              "    </tr>\n",
              "  </thead>\n",
              "  <tbody>\n",
              "    <tr>\n",
              "      <th>0</th>\n",
              "      <td>F2017 FEB</td>\n",
              "      <td>BLACK SAGE VINEYARD</td>\n",
              "      <td>CABERNET FRANC</td>\n",
              "      <td>17</td>\n",
              "      <td>$28.74</td>\n",
              "      <td>5,912</td>\n",
              "    </tr>\n",
              "    <tr>\n",
              "      <th>1</th>\n",
              "      <td>F2017 FEB</td>\n",
              "      <td>BLACK SAGE VINEYARD</td>\n",
              "      <td>CABERNET SAUVIGNON</td>\n",
              "      <td>1</td>\n",
              "      <td>$28.74</td>\n",
              "      <td>368</td>\n",
              "    </tr>\n",
              "    <tr>\n",
              "      <th>2</th>\n",
              "      <td>F2017 FEB</td>\n",
              "      <td>BLACK SAGE VINEYARD</td>\n",
              "      <td>MERLOT</td>\n",
              "      <td>11</td>\n",
              "      <td>$28.74</td>\n",
              "      <td>3,698</td>\n",
              "    </tr>\n",
              "    <tr>\n",
              "      <th>3</th>\n",
              "      <td>F2017 FEB</td>\n",
              "      <td>BLACK SAGE VINEYARD</td>\n",
              "      <td>OTHER</td>\n",
              "      <td>2</td>\n",
              "      <td>$29.89</td>\n",
              "      <td>909</td>\n",
              "    </tr>\n",
              "    <tr>\n",
              "      <th>4</th>\n",
              "      <td>F2017 FEB</td>\n",
              "      <td>CULMINA</td>\n",
              "      <td>CHARDONNAY</td>\n",
              "      <td>0</td>\n",
              "      <td>$41.50</td>\n",
              "      <td>85</td>\n",
              "    </tr>\n",
              "  </tbody>\n",
              "</table>\n",
              "</div>"
            ],
            "text/plain": [
              "  AWC Fiscal Year Month Abbr                Brand  ... Avg Sales Price Sales Dollars\n",
              "0                  F2017 FEB  BLACK SAGE VINEYARD  ...          $28.74         5,912\n",
              "1                  F2017 FEB  BLACK SAGE VINEYARD  ...          $28.74           368\n",
              "2                  F2017 FEB  BLACK SAGE VINEYARD  ...          $28.74         3,698\n",
              "3                  F2017 FEB  BLACK SAGE VINEYARD  ...          $29.89           909\n",
              "4                  F2017 FEB              CULMINA  ...          $41.50            85\n",
              "\n",
              "[5 rows x 6 columns]"
            ]
          },
          "metadata": {
            "tags": []
          },
          "execution_count": 10
        }
      ]
    },
    {
      "cell_type": "code",
      "metadata": {
        "colab": {
          "base_uri": "https://localhost:8080/",
          "height": 194
        },
        "id": "3eFCtiugd9f-",
        "outputId": "defe2cbd-8c85-4a0c-ae14-2518b837ee0e"
      },
      "source": [
        "# replace Sales Dollar , 9L Cases to NUMBERS format\r\n",
        "\r\n",
        "raw_df['Sales Dollars'] = raw_df['Sales Dollars'].str.replace(',', '').astype(float)\r\n",
        "raw_df['9L Cases'] = raw_df['9L Cases'].str.replace(',', '').astype(float)\r\n",
        "raw_df['Avg Sales Price'] = raw_df['Avg Sales Price'].str.replace('$', '').astype(float)\r\n",
        "raw_df.head()\r\n",
        "\r\n"
      ],
      "execution_count": 11,
      "outputs": [
        {
          "output_type": "execute_result",
          "data": {
            "text/html": [
              "<div>\n",
              "<style scoped>\n",
              "    .dataframe tbody tr th:only-of-type {\n",
              "        vertical-align: middle;\n",
              "    }\n",
              "\n",
              "    .dataframe tbody tr th {\n",
              "        vertical-align: top;\n",
              "    }\n",
              "\n",
              "    .dataframe thead th {\n",
              "        text-align: right;\n",
              "    }\n",
              "</style>\n",
              "<table border=\"1\" class=\"dataframe\">\n",
              "  <thead>\n",
              "    <tr style=\"text-align: right;\">\n",
              "      <th></th>\n",
              "      <th>AWC Fiscal Year Month Abbr</th>\n",
              "      <th>Brand</th>\n",
              "      <th>Varietal Group</th>\n",
              "      <th>9L Cases</th>\n",
              "      <th>Avg Sales Price</th>\n",
              "      <th>Sales Dollars</th>\n",
              "    </tr>\n",
              "  </thead>\n",
              "  <tbody>\n",
              "    <tr>\n",
              "      <th>0</th>\n",
              "      <td>F2017 FEB</td>\n",
              "      <td>BLACK SAGE VINEYARD</td>\n",
              "      <td>CABERNET FRANC</td>\n",
              "      <td>17.0</td>\n",
              "      <td>28.74</td>\n",
              "      <td>5912.0</td>\n",
              "    </tr>\n",
              "    <tr>\n",
              "      <th>1</th>\n",
              "      <td>F2017 FEB</td>\n",
              "      <td>BLACK SAGE VINEYARD</td>\n",
              "      <td>CABERNET SAUVIGNON</td>\n",
              "      <td>1.0</td>\n",
              "      <td>28.74</td>\n",
              "      <td>368.0</td>\n",
              "    </tr>\n",
              "    <tr>\n",
              "      <th>2</th>\n",
              "      <td>F2017 FEB</td>\n",
              "      <td>BLACK SAGE VINEYARD</td>\n",
              "      <td>MERLOT</td>\n",
              "      <td>11.0</td>\n",
              "      <td>28.74</td>\n",
              "      <td>3698.0</td>\n",
              "    </tr>\n",
              "    <tr>\n",
              "      <th>3</th>\n",
              "      <td>F2017 FEB</td>\n",
              "      <td>BLACK SAGE VINEYARD</td>\n",
              "      <td>OTHER</td>\n",
              "      <td>2.0</td>\n",
              "      <td>29.89</td>\n",
              "      <td>909.0</td>\n",
              "    </tr>\n",
              "    <tr>\n",
              "      <th>4</th>\n",
              "      <td>F2017 FEB</td>\n",
              "      <td>CULMINA</td>\n",
              "      <td>CHARDONNAY</td>\n",
              "      <td>0.0</td>\n",
              "      <td>41.50</td>\n",
              "      <td>85.0</td>\n",
              "    </tr>\n",
              "  </tbody>\n",
              "</table>\n",
              "</div>"
            ],
            "text/plain": [
              "  AWC Fiscal Year Month Abbr  ... Sales Dollars\n",
              "0                  F2017 FEB  ...        5912.0\n",
              "1                  F2017 FEB  ...         368.0\n",
              "2                  F2017 FEB  ...        3698.0\n",
              "3                  F2017 FEB  ...         909.0\n",
              "4                  F2017 FEB  ...          85.0\n",
              "\n",
              "[5 rows x 6 columns]"
            ]
          },
          "metadata": {
            "tags": []
          },
          "execution_count": 11
        }
      ]
    },
    {
      "cell_type": "code",
      "metadata": {
        "colab": {
          "base_uri": "https://localhost:8080/"
        },
        "id": "gGn7m8_TejMu",
        "outputId": "d78e2280-7da2-4885-b85c-6c4e6b78eb05"
      },
      "source": [
        "raw_df.info()"
      ],
      "execution_count": 12,
      "outputs": [
        {
          "output_type": "stream",
          "text": [
            "<class 'pandas.core.frame.DataFrame'>\n",
            "RangeIndex: 3671 entries, 0 to 3670\n",
            "Data columns (total 6 columns):\n",
            " #   Column                      Non-Null Count  Dtype  \n",
            "---  ------                      --------------  -----  \n",
            " 0   AWC Fiscal Year Month Abbr  3671 non-null   object \n",
            " 1   Brand                       3671 non-null   object \n",
            " 2   Varietal Group              3671 non-null   object \n",
            " 3   9L Cases                    3671 non-null   float64\n",
            " 4   Avg Sales Price             3217 non-null   float64\n",
            " 5   Sales Dollars               3671 non-null   float64\n",
            "dtypes: float64(3), object(3)\n",
            "memory usage: 172.2+ KB\n"
          ],
          "name": "stdout"
        }
      ]
    },
    {
      "cell_type": "code",
      "metadata": {
        "colab": {
          "base_uri": "https://localhost:8080/",
          "height": 194
        },
        "id": "Z-GueAVEelkm",
        "outputId": "3aec0ad9-e2fb-4148-d58e-352e62084274"
      },
      "source": [
        "raw_df = raw_df.rename({'AWC Fiscal Year Month Abbr': 'Date'}, axis=1) \r\n",
        "raw_df['Date'] = raw_df['Date'].str[1:]\r\n",
        "raw_df.head()"
      ],
      "execution_count": 13,
      "outputs": [
        {
          "output_type": "execute_result",
          "data": {
            "text/html": [
              "<div>\n",
              "<style scoped>\n",
              "    .dataframe tbody tr th:only-of-type {\n",
              "        vertical-align: middle;\n",
              "    }\n",
              "\n",
              "    .dataframe tbody tr th {\n",
              "        vertical-align: top;\n",
              "    }\n",
              "\n",
              "    .dataframe thead th {\n",
              "        text-align: right;\n",
              "    }\n",
              "</style>\n",
              "<table border=\"1\" class=\"dataframe\">\n",
              "  <thead>\n",
              "    <tr style=\"text-align: right;\">\n",
              "      <th></th>\n",
              "      <th>Date</th>\n",
              "      <th>Brand</th>\n",
              "      <th>Varietal Group</th>\n",
              "      <th>9L Cases</th>\n",
              "      <th>Avg Sales Price</th>\n",
              "      <th>Sales Dollars</th>\n",
              "    </tr>\n",
              "  </thead>\n",
              "  <tbody>\n",
              "    <tr>\n",
              "      <th>0</th>\n",
              "      <td>2017 FEB</td>\n",
              "      <td>BLACK SAGE VINEYARD</td>\n",
              "      <td>CABERNET FRANC</td>\n",
              "      <td>17.0</td>\n",
              "      <td>28.74</td>\n",
              "      <td>5912.0</td>\n",
              "    </tr>\n",
              "    <tr>\n",
              "      <th>1</th>\n",
              "      <td>2017 FEB</td>\n",
              "      <td>BLACK SAGE VINEYARD</td>\n",
              "      <td>CABERNET SAUVIGNON</td>\n",
              "      <td>1.0</td>\n",
              "      <td>28.74</td>\n",
              "      <td>368.0</td>\n",
              "    </tr>\n",
              "    <tr>\n",
              "      <th>2</th>\n",
              "      <td>2017 FEB</td>\n",
              "      <td>BLACK SAGE VINEYARD</td>\n",
              "      <td>MERLOT</td>\n",
              "      <td>11.0</td>\n",
              "      <td>28.74</td>\n",
              "      <td>3698.0</td>\n",
              "    </tr>\n",
              "    <tr>\n",
              "      <th>3</th>\n",
              "      <td>2017 FEB</td>\n",
              "      <td>BLACK SAGE VINEYARD</td>\n",
              "      <td>OTHER</td>\n",
              "      <td>2.0</td>\n",
              "      <td>29.89</td>\n",
              "      <td>909.0</td>\n",
              "    </tr>\n",
              "    <tr>\n",
              "      <th>4</th>\n",
              "      <td>2017 FEB</td>\n",
              "      <td>CULMINA</td>\n",
              "      <td>CHARDONNAY</td>\n",
              "      <td>0.0</td>\n",
              "      <td>41.50</td>\n",
              "      <td>85.0</td>\n",
              "    </tr>\n",
              "  </tbody>\n",
              "</table>\n",
              "</div>"
            ],
            "text/plain": [
              "       Date                Brand  ... Avg Sales Price  Sales Dollars\n",
              "0  2017 FEB  BLACK SAGE VINEYARD  ...           28.74         5912.0\n",
              "1  2017 FEB  BLACK SAGE VINEYARD  ...           28.74          368.0\n",
              "2  2017 FEB  BLACK SAGE VINEYARD  ...           28.74         3698.0\n",
              "3  2017 FEB  BLACK SAGE VINEYARD  ...           29.89          909.0\n",
              "4  2017 FEB              CULMINA  ...           41.50           85.0\n",
              "\n",
              "[5 rows x 6 columns]"
            ]
          },
          "metadata": {
            "tags": []
          },
          "execution_count": 13
        }
      ]
    },
    {
      "cell_type": "code",
      "metadata": {
        "colab": {
          "base_uri": "https://localhost:8080/",
          "height": 194
        },
        "id": "cbwR85r7enVO",
        "outputId": "6724e5b4-6fb5-4b2e-9420-0e6374b1b1b7"
      },
      "source": [
        "import datetime\r\n",
        "raw_df['Date'] = pd.to_datetime(raw_df['Date'])\r\n",
        "raw_df.head()"
      ],
      "execution_count": 14,
      "outputs": [
        {
          "output_type": "execute_result",
          "data": {
            "text/html": [
              "<div>\n",
              "<style scoped>\n",
              "    .dataframe tbody tr th:only-of-type {\n",
              "        vertical-align: middle;\n",
              "    }\n",
              "\n",
              "    .dataframe tbody tr th {\n",
              "        vertical-align: top;\n",
              "    }\n",
              "\n",
              "    .dataframe thead th {\n",
              "        text-align: right;\n",
              "    }\n",
              "</style>\n",
              "<table border=\"1\" class=\"dataframe\">\n",
              "  <thead>\n",
              "    <tr style=\"text-align: right;\">\n",
              "      <th></th>\n",
              "      <th>Date</th>\n",
              "      <th>Brand</th>\n",
              "      <th>Varietal Group</th>\n",
              "      <th>9L Cases</th>\n",
              "      <th>Avg Sales Price</th>\n",
              "      <th>Sales Dollars</th>\n",
              "    </tr>\n",
              "  </thead>\n",
              "  <tbody>\n",
              "    <tr>\n",
              "      <th>0</th>\n",
              "      <td>2017-02-01</td>\n",
              "      <td>BLACK SAGE VINEYARD</td>\n",
              "      <td>CABERNET FRANC</td>\n",
              "      <td>17.0</td>\n",
              "      <td>28.74</td>\n",
              "      <td>5912.0</td>\n",
              "    </tr>\n",
              "    <tr>\n",
              "      <th>1</th>\n",
              "      <td>2017-02-01</td>\n",
              "      <td>BLACK SAGE VINEYARD</td>\n",
              "      <td>CABERNET SAUVIGNON</td>\n",
              "      <td>1.0</td>\n",
              "      <td>28.74</td>\n",
              "      <td>368.0</td>\n",
              "    </tr>\n",
              "    <tr>\n",
              "      <th>2</th>\n",
              "      <td>2017-02-01</td>\n",
              "      <td>BLACK SAGE VINEYARD</td>\n",
              "      <td>MERLOT</td>\n",
              "      <td>11.0</td>\n",
              "      <td>28.74</td>\n",
              "      <td>3698.0</td>\n",
              "    </tr>\n",
              "    <tr>\n",
              "      <th>3</th>\n",
              "      <td>2017-02-01</td>\n",
              "      <td>BLACK SAGE VINEYARD</td>\n",
              "      <td>OTHER</td>\n",
              "      <td>2.0</td>\n",
              "      <td>29.89</td>\n",
              "      <td>909.0</td>\n",
              "    </tr>\n",
              "    <tr>\n",
              "      <th>4</th>\n",
              "      <td>2017-02-01</td>\n",
              "      <td>CULMINA</td>\n",
              "      <td>CHARDONNAY</td>\n",
              "      <td>0.0</td>\n",
              "      <td>41.50</td>\n",
              "      <td>85.0</td>\n",
              "    </tr>\n",
              "  </tbody>\n",
              "</table>\n",
              "</div>"
            ],
            "text/plain": [
              "        Date                Brand  ... Avg Sales Price  Sales Dollars\n",
              "0 2017-02-01  BLACK SAGE VINEYARD  ...           28.74         5912.0\n",
              "1 2017-02-01  BLACK SAGE VINEYARD  ...           28.74          368.0\n",
              "2 2017-02-01  BLACK SAGE VINEYARD  ...           28.74         3698.0\n",
              "3 2017-02-01  BLACK SAGE VINEYARD  ...           29.89          909.0\n",
              "4 2017-02-01              CULMINA  ...           41.50           85.0\n",
              "\n",
              "[5 rows x 6 columns]"
            ]
          },
          "metadata": {
            "tags": []
          },
          "execution_count": 14
        }
      ]
    },
    {
      "cell_type": "code",
      "metadata": {
        "colab": {
          "base_uri": "https://localhost:8080/"
        },
        "id": "OwTAEngNepLG",
        "outputId": "abc289e4-2ad2-4344-feff-69c3dc8b0c38"
      },
      "source": [
        "raw_df['Date'].min(), raw_df['Date'].max()"
      ],
      "execution_count": 15,
      "outputs": [
        {
          "output_type": "execute_result",
          "data": {
            "text/plain": [
              "(Timestamp('2017-02-01 00:00:00'), Timestamp('2021-10-01 00:00:00'))"
            ]
          },
          "metadata": {
            "tags": []
          },
          "execution_count": 15
        }
      ]
    },
    {
      "cell_type": "code",
      "metadata": {
        "colab": {
          "base_uri": "https://localhost:8080/"
        },
        "id": "6VlTWXrjetqy",
        "outputId": "e2397367-328d-4948-bbea-b90722d2acf2"
      },
      "source": [
        "raw_df['Varietal Group'].unique()\r\n"
      ],
      "execution_count": 16,
      "outputs": [
        {
          "output_type": "execute_result",
          "data": {
            "text/plain": [
              "array(['CABERNET FRANC', 'CABERNET SAUVIGNON', 'MERLOT', 'OTHER',\n",
              "       'CHARDONNAY', 'RED BLEND', 'RIESLING', 'VIDAL', 'PINOT NOIR',\n",
              "       'CHENIN BLANC', 'PINOT BLANC', 'PINOT GRIGIO', 'SHIRAZ',\n",
              "       'ZINFANDEL', 'WHITE BLEND', 'SAUVIGNON BLANC', 'VIOGNIER', 'ROSE',\n",
              "       'GEWURZTRAMINER', 'TEMPRANILLO', 'MALBEC', 'UNASSIGNED'],\n",
              "      dtype=object)"
            ]
          },
          "metadata": {
            "tags": []
          },
          "execution_count": 16
        }
      ]
    },
    {
      "cell_type": "code",
      "metadata": {
        "id": "L4kDs-dRevrW"
      },
      "source": [
        "cabernet_franc = raw_df.loc[raw_df['Varietal Group'] == 'CABERNET FRANC']\r\n",
        "cabernet_sav = raw_df.loc[raw_df['Varietal Group'] == 'CABERNET SAUVIGNON']\r\n",
        "merlot = raw_df.loc[raw_df['Varietal Group'] == 'MERLOT']\r\n",
        "chardonnay = raw_df.loc[raw_df['Varietal Group'] == 'CHARDONNAY']\r\n",
        "red_blend = raw_df.loc[raw_df['Varietal Group'] == 'RED BLEND']\r\n",
        "riesling = raw_df.loc[raw_df['Varietal Group'] == 'RIESLING']\r\n",
        "vidal = raw_df.loc[raw_df['Varietal Group'] == 'VIDAL']\r\n",
        "pinot_noir = raw_df.loc[raw_df['Varietal Group'] == 'PINOT NOIR']\r\n",
        "chenin_blanc = raw_df.loc[raw_df['Varietal Group'] == 'CHENIN BLANC']\r\n",
        "pinot_blanc = raw_df.loc[raw_df['Varietal Group'] == 'PINOT BLANC']\r\n",
        "pinot_grigio = raw_df.loc[raw_df['Varietal Group'] == 'PINOT GRIGIO']\r\n",
        "shiraz = raw_df.loc[raw_df['Varietal Group'] == 'SHIRAZ']\r\n",
        "zinfandel = raw_df.loc[raw_df['Varietal Group'] == 'ZINFANDEL']\r\n",
        "white_blend = raw_df.loc[raw_df['Varietal Group'] == 'WHITE BLEND']\r\n",
        "sav_blanc = raw_df.loc[raw_df['Varietal Group'] == 'SAUVIGNON BLANC']\r\n",
        "viognier = raw_df.loc[raw_df['Varietal Group'] == 'VIOGNIER']\r\n",
        "rose = raw_df.loc[raw_df['Varietal Group'] == 'ROSE']\r\n",
        "gewurz = raw_df.loc[raw_df['Varietal Group'] == 'GEWURZTRAMINER']\r\n",
        "tempranillo = raw_df.loc[raw_df['Varietal Group'] == 'TEMPRANILLO']\r\n",
        "malbec = raw_df.loc[raw_df['Varietal Group'] == 'MALBEC']\r\n",
        "unassigned = raw_df.loc[raw_df['Varietal Group'] == 'UNASSIGNED']\r\n",
        "other = raw_df.loc[raw_df['Varietal Group'] == 'OTHER']"
      ],
      "execution_count": 17,
      "outputs": []
    },
    {
      "cell_type": "markdown",
      "metadata": {
        "id": "A4yE60nye8ov"
      },
      "source": [
        "### TRY 1 Varietal group"
      ]
    },
    {
      "cell_type": "code",
      "metadata": {
        "colab": {
          "base_uri": "https://localhost:8080/",
          "height": 194
        },
        "id": "Az_ESLSvexs9",
        "outputId": "43045552-0b12-4aa6-862c-6ed4a68d2016"
      },
      "source": [
        "rose.head()"
      ],
      "execution_count": 18,
      "outputs": [
        {
          "output_type": "execute_result",
          "data": {
            "text/html": [
              "<div>\n",
              "<style scoped>\n",
              "    .dataframe tbody tr th:only-of-type {\n",
              "        vertical-align: middle;\n",
              "    }\n",
              "\n",
              "    .dataframe tbody tr th {\n",
              "        vertical-align: top;\n",
              "    }\n",
              "\n",
              "    .dataframe thead th {\n",
              "        text-align: right;\n",
              "    }\n",
              "</style>\n",
              "<table border=\"1\" class=\"dataframe\">\n",
              "  <thead>\n",
              "    <tr style=\"text-align: right;\">\n",
              "      <th></th>\n",
              "      <th>Date</th>\n",
              "      <th>Brand</th>\n",
              "      <th>Varietal Group</th>\n",
              "      <th>9L Cases</th>\n",
              "      <th>Avg Sales Price</th>\n",
              "      <th>Sales Dollars</th>\n",
              "    </tr>\n",
              "  </thead>\n",
              "  <tbody>\n",
              "    <tr>\n",
              "      <th>54</th>\n",
              "      <td>2017-02-01</td>\n",
              "      <td>NKMIP</td>\n",
              "      <td>ROSE</td>\n",
              "      <td>0.0</td>\n",
              "      <td>20.69</td>\n",
              "      <td>17.0</td>\n",
              "    </tr>\n",
              "    <tr>\n",
              "      <th>132</th>\n",
              "      <td>2018-03-01</td>\n",
              "      <td>NKMIP</td>\n",
              "      <td>ROSE</td>\n",
              "      <td>0.0</td>\n",
              "      <td>NaN</td>\n",
              "      <td>0.0</td>\n",
              "    </tr>\n",
              "    <tr>\n",
              "      <th>212</th>\n",
              "      <td>2018-04-01</td>\n",
              "      <td>NKMIP</td>\n",
              "      <td>ROSE</td>\n",
              "      <td>0.0</td>\n",
              "      <td>NaN</td>\n",
              "      <td>0.0</td>\n",
              "    </tr>\n",
              "    <tr>\n",
              "      <th>292</th>\n",
              "      <td>2018-05-01</td>\n",
              "      <td>NKMIP</td>\n",
              "      <td>ROSE</td>\n",
              "      <td>0.0</td>\n",
              "      <td>NaN</td>\n",
              "      <td>0.0</td>\n",
              "    </tr>\n",
              "    <tr>\n",
              "      <th>327</th>\n",
              "      <td>2018-06-01</td>\n",
              "      <td>CULMINA</td>\n",
              "      <td>ROSE</td>\n",
              "      <td>13.0</td>\n",
              "      <td>23.91</td>\n",
              "      <td>3586.0</td>\n",
              "    </tr>\n",
              "  </tbody>\n",
              "</table>\n",
              "</div>"
            ],
            "text/plain": [
              "          Date    Brand  ... Avg Sales Price  Sales Dollars\n",
              "54  2017-02-01    NKMIP  ...           20.69           17.0\n",
              "132 2018-03-01    NKMIP  ...             NaN            0.0\n",
              "212 2018-04-01    NKMIP  ...             NaN            0.0\n",
              "292 2018-05-01    NKMIP  ...             NaN            0.0\n",
              "327 2018-06-01  CULMINA  ...           23.91         3586.0\n",
              "\n",
              "[5 rows x 6 columns]"
            ]
          },
          "metadata": {
            "tags": []
          },
          "execution_count": 18
        }
      ]
    },
    {
      "cell_type": "code",
      "metadata": {
        "colab": {
          "base_uri": "https://localhost:8080/"
        },
        "id": "IQbZdbfXezyz",
        "outputId": "6a601a65-915d-4045-8620-70dbc7fba816"
      },
      "source": [
        "varietal = rose\r\n",
        "#cols = ['BC Sales Channel',\t'AWC and Comp',  'AWC FYr & Pd No',\t'Avg Sales Price']\r\n",
        "#varietal.drop(cols, axis=1, inplace=True)\r\n",
        "varietal = varietal.sort_values('Date')\r\n",
        "varietal.isnull().sum()"
      ],
      "execution_count": 20,
      "outputs": [
        {
          "output_type": "execute_result",
          "data": {
            "text/plain": [
              "Date                0\n",
              "Brand               0\n",
              "Varietal Group      0\n",
              "9L Cases            0\n",
              "Avg Sales Price    14\n",
              "Sales Dollars       0\n",
              "dtype: int64"
            ]
          },
          "metadata": {
            "tags": []
          },
          "execution_count": 20
        }
      ]
    },
    {
      "cell_type": "code",
      "metadata": {
        "colab": {
          "base_uri": "https://localhost:8080/",
          "height": 194
        },
        "id": "qnnAyy5-fECe",
        "outputId": "e0008a0c-96b9-4b1f-f44c-20e44770b1d3"
      },
      "source": [
        "varietal.head()"
      ],
      "execution_count": 21,
      "outputs": [
        {
          "output_type": "execute_result",
          "data": {
            "text/html": [
              "<div>\n",
              "<style scoped>\n",
              "    .dataframe tbody tr th:only-of-type {\n",
              "        vertical-align: middle;\n",
              "    }\n",
              "\n",
              "    .dataframe tbody tr th {\n",
              "        vertical-align: top;\n",
              "    }\n",
              "\n",
              "    .dataframe thead th {\n",
              "        text-align: right;\n",
              "    }\n",
              "</style>\n",
              "<table border=\"1\" class=\"dataframe\">\n",
              "  <thead>\n",
              "    <tr style=\"text-align: right;\">\n",
              "      <th></th>\n",
              "      <th>Date</th>\n",
              "      <th>Brand</th>\n",
              "      <th>Varietal Group</th>\n",
              "      <th>9L Cases</th>\n",
              "      <th>Avg Sales Price</th>\n",
              "      <th>Sales Dollars</th>\n",
              "    </tr>\n",
              "  </thead>\n",
              "  <tbody>\n",
              "    <tr>\n",
              "      <th>54</th>\n",
              "      <td>2017-02-01</td>\n",
              "      <td>NKMIP</td>\n",
              "      <td>ROSE</td>\n",
              "      <td>0.0</td>\n",
              "      <td>20.69</td>\n",
              "      <td>17.0</td>\n",
              "    </tr>\n",
              "    <tr>\n",
              "      <th>923</th>\n",
              "      <td>2018-01-01</td>\n",
              "      <td>NKMIP</td>\n",
              "      <td>ROSE</td>\n",
              "      <td>0.0</td>\n",
              "      <td>NaN</td>\n",
              "      <td>0.0</td>\n",
              "    </tr>\n",
              "    <tr>\n",
              "      <th>883</th>\n",
              "      <td>2018-01-01</td>\n",
              "      <td>CULMINA</td>\n",
              "      <td>ROSE</td>\n",
              "      <td>0.0</td>\n",
              "      <td>22.99</td>\n",
              "      <td>46.0</td>\n",
              "    </tr>\n",
              "    <tr>\n",
              "      <th>1007</th>\n",
              "      <td>2018-02-01</td>\n",
              "      <td>NKMIP</td>\n",
              "      <td>ROSE</td>\n",
              "      <td>0.0</td>\n",
              "      <td>NaN</td>\n",
              "      <td>0.0</td>\n",
              "    </tr>\n",
              "    <tr>\n",
              "      <th>958</th>\n",
              "      <td>2018-02-01</td>\n",
              "      <td>CULMINA</td>\n",
              "      <td>ROSE</td>\n",
              "      <td>1.0</td>\n",
              "      <td>22.99</td>\n",
              "      <td>230.0</td>\n",
              "    </tr>\n",
              "  </tbody>\n",
              "</table>\n",
              "</div>"
            ],
            "text/plain": [
              "           Date    Brand  ... Avg Sales Price  Sales Dollars\n",
              "54   2017-02-01    NKMIP  ...           20.69           17.0\n",
              "923  2018-01-01    NKMIP  ...             NaN            0.0\n",
              "883  2018-01-01  CULMINA  ...           22.99           46.0\n",
              "1007 2018-02-01    NKMIP  ...             NaN            0.0\n",
              "958  2018-02-01  CULMINA  ...           22.99          230.0\n",
              "\n",
              "[5 rows x 6 columns]"
            ]
          },
          "metadata": {
            "tags": []
          },
          "execution_count": 21
        }
      ]
    },
    {
      "cell_type": "code",
      "metadata": {
        "colab": {
          "base_uri": "https://localhost:8080/",
          "height": 194
        },
        "id": "-ufM81rMfF2t",
        "outputId": "d98b083a-d601-4c64-bcfe-ba5f22d35d30"
      },
      "source": [
        "varietal_qty= varietal.groupby(['Date'])['9L Cases'].sum().reset_index()\r\n",
        "varietal_qty = varietal_qty.sort_values(by=\"Date\",ascending=True)\r\n",
        "varietal_qty.head()\r\n"
      ],
      "execution_count": 22,
      "outputs": [
        {
          "output_type": "execute_result",
          "data": {
            "text/html": [
              "<div>\n",
              "<style scoped>\n",
              "    .dataframe tbody tr th:only-of-type {\n",
              "        vertical-align: middle;\n",
              "    }\n",
              "\n",
              "    .dataframe tbody tr th {\n",
              "        vertical-align: top;\n",
              "    }\n",
              "\n",
              "    .dataframe thead th {\n",
              "        text-align: right;\n",
              "    }\n",
              "</style>\n",
              "<table border=\"1\" class=\"dataframe\">\n",
              "  <thead>\n",
              "    <tr style=\"text-align: right;\">\n",
              "      <th></th>\n",
              "      <th>Date</th>\n",
              "      <th>9L Cases</th>\n",
              "    </tr>\n",
              "  </thead>\n",
              "  <tbody>\n",
              "    <tr>\n",
              "      <th>0</th>\n",
              "      <td>2017-02-01</td>\n",
              "      <td>0.0</td>\n",
              "    </tr>\n",
              "    <tr>\n",
              "      <th>1</th>\n",
              "      <td>2018-01-01</td>\n",
              "      <td>0.0</td>\n",
              "    </tr>\n",
              "    <tr>\n",
              "      <th>2</th>\n",
              "      <td>2018-02-01</td>\n",
              "      <td>1.0</td>\n",
              "    </tr>\n",
              "    <tr>\n",
              "      <th>3</th>\n",
              "      <td>2018-03-01</td>\n",
              "      <td>0.0</td>\n",
              "    </tr>\n",
              "    <tr>\n",
              "      <th>4</th>\n",
              "      <td>2018-04-01</td>\n",
              "      <td>0.0</td>\n",
              "    </tr>\n",
              "  </tbody>\n",
              "</table>\n",
              "</div>"
            ],
            "text/plain": [
              "        Date  9L Cases\n",
              "0 2017-02-01       0.0\n",
              "1 2018-01-01       0.0\n",
              "2 2018-02-01       1.0\n",
              "3 2018-03-01       0.0\n",
              "4 2018-04-01       0.0"
            ]
          },
          "metadata": {
            "tags": []
          },
          "execution_count": 22
        }
      ]
    },
    {
      "cell_type": "code",
      "metadata": {
        "colab": {
          "base_uri": "https://localhost:8080/"
        },
        "id": "VGA5ntl0fIC-",
        "outputId": "007115da-37ae-4831-fbb7-da2878ccff47"
      },
      "source": [
        "varietal_qty = varietal_qty.set_index('Date')\r\n",
        "varietal_qty.index\r\n",
        "varietal_qty.index\r\n"
      ],
      "execution_count": 24,
      "outputs": [
        {
          "output_type": "execute_result",
          "data": {
            "text/plain": [
              "DatetimeIndex(['2017-02-01', '2018-01-01', '2018-02-01', '2018-03-01',\n",
              "               '2018-04-01', '2018-05-01', '2018-06-01', '2018-07-01',\n",
              "               '2018-08-01', '2018-09-01', '2018-10-01', '2018-11-01',\n",
              "               '2018-12-01', '2019-01-01', '2019-02-01', '2019-03-01',\n",
              "               '2019-04-01', '2019-05-01', '2019-06-01', '2019-07-01',\n",
              "               '2019-08-01', '2019-09-01', '2019-10-01', '2019-11-01',\n",
              "               '2019-12-01', '2020-01-01', '2020-02-01', '2020-03-01',\n",
              "               '2020-04-01', '2020-05-01', '2020-06-01', '2020-07-01',\n",
              "               '2020-08-01', '2020-09-01', '2020-10-01', '2020-11-01',\n",
              "               '2020-12-01', '2021-03-01', '2021-04-01', '2021-05-01',\n",
              "               '2021-06-01', '2021-07-01', '2021-08-01', '2021-09-01',\n",
              "               '2021-10-01'],\n",
              "              dtype='datetime64[ns]', name='Date', freq=None)"
            ]
          },
          "metadata": {
            "tags": []
          },
          "execution_count": 24
        }
      ]
    },
    {
      "cell_type": "code",
      "metadata": {
        "colab": {
          "base_uri": "https://localhost:8080/",
          "height": 223
        },
        "id": "iH7FSPZSfKtl",
        "outputId": "f520a04a-1036-484f-e868-80e34f5bdc76"
      },
      "source": [
        "varietal_qty.head()"
      ],
      "execution_count": 25,
      "outputs": [
        {
          "output_type": "execute_result",
          "data": {
            "text/html": [
              "<div>\n",
              "<style scoped>\n",
              "    .dataframe tbody tr th:only-of-type {\n",
              "        vertical-align: middle;\n",
              "    }\n",
              "\n",
              "    .dataframe tbody tr th {\n",
              "        vertical-align: top;\n",
              "    }\n",
              "\n",
              "    .dataframe thead th {\n",
              "        text-align: right;\n",
              "    }\n",
              "</style>\n",
              "<table border=\"1\" class=\"dataframe\">\n",
              "  <thead>\n",
              "    <tr style=\"text-align: right;\">\n",
              "      <th></th>\n",
              "      <th>9L Cases</th>\n",
              "    </tr>\n",
              "    <tr>\n",
              "      <th>Date</th>\n",
              "      <th></th>\n",
              "    </tr>\n",
              "  </thead>\n",
              "  <tbody>\n",
              "    <tr>\n",
              "      <th>2017-02-01</th>\n",
              "      <td>0.0</td>\n",
              "    </tr>\n",
              "    <tr>\n",
              "      <th>2018-01-01</th>\n",
              "      <td>0.0</td>\n",
              "    </tr>\n",
              "    <tr>\n",
              "      <th>2018-02-01</th>\n",
              "      <td>1.0</td>\n",
              "    </tr>\n",
              "    <tr>\n",
              "      <th>2018-03-01</th>\n",
              "      <td>0.0</td>\n",
              "    </tr>\n",
              "    <tr>\n",
              "      <th>2018-04-01</th>\n",
              "      <td>0.0</td>\n",
              "    </tr>\n",
              "  </tbody>\n",
              "</table>\n",
              "</div>"
            ],
            "text/plain": [
              "            9L Cases\n",
              "Date                \n",
              "2017-02-01       0.0\n",
              "2018-01-01       0.0\n",
              "2018-02-01       1.0\n",
              "2018-03-01       0.0\n",
              "2018-04-01       0.0"
            ]
          },
          "metadata": {
            "tags": []
          },
          "execution_count": 25
        }
      ]
    },
    {
      "cell_type": "code",
      "metadata": {
        "colab": {
          "base_uri": "https://localhost:8080/",
          "height": 223
        },
        "id": "xozS1CN2fWsV",
        "outputId": "1877932e-701c-430e-f7c3-b9392b081318"
      },
      "source": [
        "y=varietal_qty\r\n",
        "y.head(5)"
      ],
      "execution_count": 27,
      "outputs": [
        {
          "output_type": "execute_result",
          "data": {
            "text/html": [
              "<div>\n",
              "<style scoped>\n",
              "    .dataframe tbody tr th:only-of-type {\n",
              "        vertical-align: middle;\n",
              "    }\n",
              "\n",
              "    .dataframe tbody tr th {\n",
              "        vertical-align: top;\n",
              "    }\n",
              "\n",
              "    .dataframe thead th {\n",
              "        text-align: right;\n",
              "    }\n",
              "</style>\n",
              "<table border=\"1\" class=\"dataframe\">\n",
              "  <thead>\n",
              "    <tr style=\"text-align: right;\">\n",
              "      <th></th>\n",
              "      <th>9L Cases</th>\n",
              "    </tr>\n",
              "    <tr>\n",
              "      <th>Date</th>\n",
              "      <th></th>\n",
              "    </tr>\n",
              "  </thead>\n",
              "  <tbody>\n",
              "    <tr>\n",
              "      <th>2017-02-01</th>\n",
              "      <td>0.0</td>\n",
              "    </tr>\n",
              "    <tr>\n",
              "      <th>2018-01-01</th>\n",
              "      <td>0.0</td>\n",
              "    </tr>\n",
              "    <tr>\n",
              "      <th>2018-02-01</th>\n",
              "      <td>1.0</td>\n",
              "    </tr>\n",
              "    <tr>\n",
              "      <th>2018-03-01</th>\n",
              "      <td>0.0</td>\n",
              "    </tr>\n",
              "    <tr>\n",
              "      <th>2018-04-01</th>\n",
              "      <td>0.0</td>\n",
              "    </tr>\n",
              "  </tbody>\n",
              "</table>\n",
              "</div>"
            ],
            "text/plain": [
              "            9L Cases\n",
              "Date                \n",
              "2017-02-01       0.0\n",
              "2018-01-01       0.0\n",
              "2018-02-01       1.0\n",
              "2018-03-01       0.0\n",
              "2018-04-01       0.0"
            ]
          },
          "metadata": {
            "tags": []
          },
          "execution_count": 27
        }
      ]
    },
    {
      "cell_type": "code",
      "metadata": {
        "colab": {
          "base_uri": "https://localhost:8080/",
          "height": 471
        },
        "id": "KGJ76dH0fPOV",
        "outputId": "682e43a4-eea3-4fae-e807-9c156f2c9d6c"
      },
      "source": [
        "y.plot(figsize=(18, 8))\r\n",
        "plt.show()"
      ],
      "execution_count": 28,
      "outputs": [
        {
          "output_type": "display_data",
          "data": {
            "image/png": "[encoded data removed]",
            "text/plain": [
              "<Figure size 1296x576 with 1 Axes>"
            ]
          },
          "metadata": {
            "tags": []
          }
        }
      ]
    },
    {
      "cell_type": "code",
      "metadata": {
        "colab": {
          "base_uri": "https://localhost:8080/"
        },
        "id": "oQOM73u-fSu4",
        "outputId": "c44e7461-77b3-44fc-bc96-83b0a73f49cd"
      },
      "source": [
        "from statsmodels.tsa.stattools import adfuller\r\n",
        "from numpy import log\r\n",
        "result = adfuller(y['9L Cases'].dropna())\r\n",
        "print('ADF Statistic: %f' % result[0])\r\n",
        "print('p-value: %f' % result[1])"
      ],
      "execution_count": 31,
      "outputs": [
        {
          "output_type": "stream",
          "text": [
            "ADF Statistic: -0.519440\n",
            "p-value: 0.888167\n"
          ],
          "name": "stdout"
        }
      ]
    },
    {
      "cell_type": "code",
      "metadata": {
        "colab": {
          "base_uri": "https://localhost:8080/",
          "height": 328
        },
        "id": "uNu335_Vfh_a",
        "outputId": "d21927bb-5a59-453a-8fae-f524dac6727a"
      },
      "source": [
        "decomposition = sm.tsa.seasonal_decompose(y, model='additive')\r\n",
        "fig = decomposition.plot()\r\n",
        "plt.show()"
      ],
      "execution_count": 32,
      "outputs": [
        {
          "output_type": "error",
          "ename": "ValueError",
          "evalue": "ignored",
          "traceback": [
            "\u001b[0;31m---------------------------------------------------------------------------\u001b[0m",
            "\u001b[0;31mValueError\u001b[0m                                Traceback (most recent call last)",
            "\u001b[0;32m<ipython-input-32-5fc53767aae2>\u001b[0m in \u001b[0;36m<module>\u001b[0;34m()\u001b[0m\n\u001b[0;32m----> 1\u001b[0;31m \u001b[0mdecomposition\u001b[0m \u001b[0;34m=\u001b[0m \u001b[0msm\u001b[0m\u001b[0;34m.\u001b[0m\u001b[0mtsa\u001b[0m\u001b[0;34m.\u001b[0m\u001b[0mseasonal_decompose\u001b[0m\u001b[0;34m(\u001b[0m\u001b[0my\u001b[0m\u001b[0;34m,\u001b[0m \u001b[0mmodel\u001b[0m\u001b[0;34m=\u001b[0m\u001b[0;34m'additive'\u001b[0m\u001b[0;34m)\u001b[0m\u001b[0;34m\u001b[0m\u001b[0;34m\u001b[0m\u001b[0m\n\u001b[0m\u001b[1;32m      2\u001b[0m \u001b[0mfig\u001b[0m \u001b[0;34m=\u001b[0m \u001b[0mdecomposition\u001b[0m\u001b[0;34m.\u001b[0m\u001b[0mplot\u001b[0m\u001b[0;34m(\u001b[0m\u001b[0;34m)\u001b[0m\u001b[0;34m\u001b[0m\u001b[0;34m\u001b[0m\u001b[0m\n\u001b[1;32m      3\u001b[0m \u001b[0mplt\u001b[0m\u001b[0;34m.\u001b[0m\u001b[0mshow\u001b[0m\u001b[0;34m(\u001b[0m\u001b[0;34m)\u001b[0m\u001b[0;34m\u001b[0m\u001b[0;34m\u001b[0m\u001b[0m\n",
            "\u001b[0;32m/usr/local/lib/python3.6/dist-packages/statsmodels/tsa/seasonal.py\u001b[0m in \u001b[0;36mseasonal_decompose\u001b[0;34m(x, model, filt, freq, two_sided, extrapolate_trend)\u001b[0m\n\u001b[1;32m    125\u001b[0m             \u001b[0mfreq\u001b[0m \u001b[0;34m=\u001b[0m \u001b[0mpfreq\u001b[0m\u001b[0;34m\u001b[0m\u001b[0;34m\u001b[0m\u001b[0m\n\u001b[1;32m    126\u001b[0m         \u001b[0;32melse\u001b[0m\u001b[0;34m:\u001b[0m\u001b[0;34m\u001b[0m\u001b[0;34m\u001b[0m\u001b[0m\n\u001b[0;32m--> 127\u001b[0;31m             raise ValueError(\"You must specify a freq or x must be a \"\n\u001b[0m\u001b[1;32m    128\u001b[0m                              \u001b[0;34m\"pandas object with a timeseries index with \"\u001b[0m\u001b[0;34m\u001b[0m\u001b[0;34m\u001b[0m\u001b[0m\n\u001b[1;32m    129\u001b[0m                              \"a freq not set to None\")\n",
            "\u001b[0;31mValueError\u001b[0m: You must specify a freq or x must be a pandas object with a timeseries index with a freq not set to None"
          ]
        }
      ]
    },
    {
      "cell_type": "code",
      "metadata": {
        "id": "cwcsylvXgULJ"
      },
      "source": [
        ""
      ],
      "execution_count": null,
      "outputs": []
    }
  ]
}