{
 "metadata": {
  "language_info": {
   "codemirror_mode": {
    "name": "ipython",
    "version": 3
   },
   "file_extension": ".py",
   "mimetype": "text/x-python",
   "name": "python",
   "nbconvert_exporter": "python",
   "pygments_lexer": "ipython3",
   "version": "3.7.7-final"
  },
  "orig_nbformat": 2,
  "kernelspec": {
   "name": "python3",
   "display_name": "Python 3.7.7 64-bit",
   "metadata": {
    "interpreter": {
     "hash": "c276cc7a905a9b1f9dc7cd744196db5470c559a6c6f2c4a41272adf390bf8260"
    }
   }
  }
 },
 "nbformat": 4,
 "nbformat_minor": 2,
 "cells": [
  {
   "cell_type": "code",
   "execution_count": null,
   "metadata": {},
   "outputs": [],
   "source": [
    "#https://towardsdatascience.com/an-end-to-end-project-on-time-series-analysis-and-forecasting-with-python-4835e6bf050b"
   ]
  },
  {
   "cell_type": "code",
   "execution_count": 14,
   "metadata": {},
   "outputs": [],
   "source": [
    "import warnings\n",
    "import itertools\n",
    "import numpy as np\n",
    "import matplotlib.pyplot as plt\n",
    "warnings.filterwarnings(\"ignore\")\n",
    "plt.style.use('fivethirtyeight')\n",
    "import pandas as pd\n",
    "import statsmodels.api as sm\n",
    "import matplotlib\n",
    "matplotlib.rcParams['axes.labelsize'] = 14\n",
    "matplotlib.rcParams['xtick.labelsize'] = 12\n",
    "matplotlib.rcParams['ytick.labelsize'] = 12\n",
    "matplotlib.rcParams['text.color'] = 'k'\n"
   ]
  },
  {
   "cell_type": "code",
   "execution_count": 92,
   "metadata": {},
   "outputs": [
    {
     "output_type": "execute_result",
     "data": {
      "text/plain": [
       "  BC Sales Channel          AWC and Comp AWC Fiscal Year Month Abbr  \\\n",
       "0             BCLS  CONSTELLATION BRANDS                  F2017 FEB   \n",
       "1             BCLS  CONSTELLATION BRANDS                  F2017 FEB   \n",
       "2             BCLS  CONSTELLATION BRANDS                  F2017 FEB   \n",
       "3             BCLS  CONSTELLATION BRANDS                  F2017 FEB   \n",
       "4             BCLS  CONSTELLATION BRANDS                  F2017 FEB   \n",
       "\n",
       "                 Brand      Varietal Group 9L Cases  AWC FYr & Pd No  \\\n",
       "0  BLACK SAGE VINEYARD      CABERNET FRANC       17           201712   \n",
       "1  BLACK SAGE VINEYARD  CABERNET SAUVIGNON        1           201712   \n",
       "2  BLACK SAGE VINEYARD              MERLOT       11           201712   \n",
       "3  BLACK SAGE VINEYARD               OTHER        2           201712   \n",
       "4              CULMINA          CHARDONNAY        0           201712   \n",
       "\n",
       "  Avg Sales Price Sales Dollars  \n",
       "0          $28.74         5,912  \n",
       "1          $28.74           368  \n",
       "2          $28.74         3,698  \n",
       "3          $29.89           909  \n",
       "4          $41.50            85  "
      ],
      "text/html": "<div>\n<style scoped>\n    .dataframe tbody tr th:only-of-type {\n        vertical-align: middle;\n    }\n\n    .dataframe tbody tr th {\n        vertical-align: top;\n    }\n\n    .dataframe thead th {\n        text-align: right;\n    }\n</style>\n<table border=\"1\" class=\"dataframe\">\n  <thead>\n    <tr style=\"text-align: right;\">\n      <th></th>\n      <th>BC Sales Channel</th>\n      <th>AWC and Comp</th>\n      <th>AWC Fiscal Year Month Abbr</th>\n      <th>Brand</th>\n      <th>Varietal Group</th>\n      <th>9L Cases</th>\n      <th>AWC FYr &amp; Pd No</th>\n      <th>Avg Sales Price</th>\n      <th>Sales Dollars</th>\n    </tr>\n  </thead>\n  <tbody>\n    <tr>\n      <th>0</th>\n      <td>BCLS</td>\n      <td>CONSTELLATION BRANDS</td>\n      <td>F2017 FEB</td>\n      <td>BLACK SAGE VINEYARD</td>\n      <td>CABERNET FRANC</td>\n      <td>17</td>\n      <td>201712</td>\n      <td>$28.74</td>\n      <td>5,912</td>\n    </tr>\n    <tr>\n      <th>1</th>\n      <td>BCLS</td>\n      <td>CONSTELLATION BRANDS</td>\n      <td>F2017 FEB</td>\n      <td>BLACK SAGE VINEYARD</td>\n      <td>CABERNET SAUVIGNON</td>\n      <td>1</td>\n      <td>201712</td>\n      <td>$28.74</td>\n      <td>368</td>\n    </tr>\n    <tr>\n      <th>2</th>\n      <td>BCLS</td>\n      <td>CONSTELLATION BRANDS</td>\n      <td>F2017 FEB</td>\n      <td>BLACK SAGE VINEYARD</td>\n      <td>MERLOT</td>\n      <td>11</td>\n      <td>201712</td>\n      <td>$28.74</td>\n      <td>3,698</td>\n    </tr>\n    <tr>\n      <th>3</th>\n      <td>BCLS</td>\n      <td>CONSTELLATION BRANDS</td>\n      <td>F2017 FEB</td>\n      <td>BLACK SAGE VINEYARD</td>\n      <td>OTHER</td>\n      <td>2</td>\n      <td>201712</td>\n      <td>$29.89</td>\n      <td>909</td>\n    </tr>\n    <tr>\n      <th>4</th>\n      <td>BCLS</td>\n      <td>CONSTELLATION BRANDS</td>\n      <td>F2017 FEB</td>\n      <td>CULMINA</td>\n      <td>CHARDONNAY</td>\n      <td>0</td>\n      <td>201712</td>\n      <td>$41.50</td>\n      <td>85</td>\n    </tr>\n  </tbody>\n</table>\n</div>"
     },
     "metadata": {},
     "execution_count": 92
    }
   ],
   "source": [
    "#raw_df = pd.read_csv(\"timeseries_vqa.csv\")\n",
    "raw_df = pd.read_csv(\"C:\\\\Users\\\\mcinn\\\\Documents\\\\timeseries_vqa.csv\")\n",
    "raw_df.head()"
   ]
  },
  {
   "cell_type": "code",
   "execution_count": 93,
   "metadata": {},
   "outputs": [
    {
     "output_type": "execute_result",
     "data": {
      "text/plain": [
       "  BC Sales Channel          AWC and Comp      Date                Brand  \\\n",
       "0             BCLS  CONSTELLATION BRANDS  2017 FEB  BLACK SAGE VINEYARD   \n",
       "1             BCLS  CONSTELLATION BRANDS  2017 FEB  BLACK SAGE VINEYARD   \n",
       "2             BCLS  CONSTELLATION BRANDS  2017 FEB  BLACK SAGE VINEYARD   \n",
       "3             BCLS  CONSTELLATION BRANDS  2017 FEB  BLACK SAGE VINEYARD   \n",
       "4             BCLS  CONSTELLATION BRANDS  2017 FEB              CULMINA   \n",
       "\n",
       "       Varietal Group 9L Cases  AWC FYr & Pd No Avg Sales Price Sales Dollars  \n",
       "0      CABERNET FRANC       17           201712          $28.74         5,912  \n",
       "1  CABERNET SAUVIGNON        1           201712          $28.74           368  \n",
       "2              MERLOT       11           201712          $28.74         3,698  \n",
       "3               OTHER        2           201712          $29.89           909  \n",
       "4          CHARDONNAY        0           201712          $41.50            85  "
      ],
      "text/html": "<div>\n<style scoped>\n    .dataframe tbody tr th:only-of-type {\n        vertical-align: middle;\n    }\n\n    .dataframe tbody tr th {\n        vertical-align: top;\n    }\n\n    .dataframe thead th {\n        text-align: right;\n    }\n</style>\n<table border=\"1\" class=\"dataframe\">\n  <thead>\n    <tr style=\"text-align: right;\">\n      <th></th>\n      <th>BC Sales Channel</th>\n      <th>AWC and Comp</th>\n      <th>Date</th>\n      <th>Brand</th>\n      <th>Varietal Group</th>\n      <th>9L Cases</th>\n      <th>AWC FYr &amp; Pd No</th>\n      <th>Avg Sales Price</th>\n      <th>Sales Dollars</th>\n    </tr>\n  </thead>\n  <tbody>\n    <tr>\n      <th>0</th>\n      <td>BCLS</td>\n      <td>CONSTELLATION BRANDS</td>\n      <td>2017 FEB</td>\n      <td>BLACK SAGE VINEYARD</td>\n      <td>CABERNET FRANC</td>\n      <td>17</td>\n      <td>201712</td>\n      <td>$28.74</td>\n      <td>5,912</td>\n    </tr>\n    <tr>\n      <th>1</th>\n      <td>BCLS</td>\n      <td>CONSTELLATION BRANDS</td>\n      <td>2017 FEB</td>\n      <td>BLACK SAGE VINEYARD</td>\n      <td>CABERNET SAUVIGNON</td>\n      <td>1</td>\n      <td>201712</td>\n      <td>$28.74</td>\n      <td>368</td>\n    </tr>\n    <tr>\n      <th>2</th>\n      <td>BCLS</td>\n      <td>CONSTELLATION BRANDS</td>\n      <td>2017 FEB</td>\n      <td>BLACK SAGE VINEYARD</td>\n      <td>MERLOT</td>\n      <td>11</td>\n      <td>201712</td>\n      <td>$28.74</td>\n      <td>3,698</td>\n    </tr>\n    <tr>\n      <th>3</th>\n      <td>BCLS</td>\n      <td>CONSTELLATION BRANDS</td>\n      <td>2017 FEB</td>\n      <td>BLACK SAGE VINEYARD</td>\n      <td>OTHER</td>\n      <td>2</td>\n      <td>201712</td>\n      <td>$29.89</td>\n      <td>909</td>\n    </tr>\n    <tr>\n      <th>4</th>\n      <td>BCLS</td>\n      <td>CONSTELLATION BRANDS</td>\n      <td>2017 FEB</td>\n      <td>CULMINA</td>\n      <td>CHARDONNAY</td>\n      <td>0</td>\n      <td>201712</td>\n      <td>$41.50</td>\n      <td>85</td>\n    </tr>\n  </tbody>\n</table>\n</div>"
     },
     "metadata": {},
     "execution_count": 93
    }
   ],
   "source": [
    "raw_df = raw_df.rename({'AWC Fiscal Year Month Abbr': 'Date'}, axis=1) \n",
    "raw_df['Date'] = raw_df['Date'].str[1:]\n",
    "raw_df.head()"
   ]
  },
  {
   "cell_type": "code",
   "execution_count": 94,
   "metadata": {},
   "outputs": [
    {
     "output_type": "execute_result",
     "data": {
      "text/plain": [
       "  BC Sales Channel          AWC and Comp      Date                Brand  \\\n",
       "0             BCLS  CONSTELLATION BRANDS  02/01/17  BLACK SAGE VINEYARD   \n",
       "1             BCLS  CONSTELLATION BRANDS  02/01/17  BLACK SAGE VINEYARD   \n",
       "2             BCLS  CONSTELLATION BRANDS  02/01/17  BLACK SAGE VINEYARD   \n",
       "3             BCLS  CONSTELLATION BRANDS  02/01/17  BLACK SAGE VINEYARD   \n",
       "4             BCLS  CONSTELLATION BRANDS  02/01/17              CULMINA   \n",
       "\n",
       "       Varietal Group 9L Cases  AWC FYr & Pd No Avg Sales Price Sales Dollars  \n",
       "0      CABERNET FRANC       17           201712          $28.74         5,912  \n",
       "1  CABERNET SAUVIGNON        1           201712          $28.74           368  \n",
       "2              MERLOT       11           201712          $28.74         3,698  \n",
       "3               OTHER        2           201712          $29.89           909  \n",
       "4          CHARDONNAY        0           201712          $41.50            85  "
      ],
      "text/html": "<div>\n<style scoped>\n    .dataframe tbody tr th:only-of-type {\n        vertical-align: middle;\n    }\n\n    .dataframe tbody tr th {\n        vertical-align: top;\n    }\n\n    .dataframe thead th {\n        text-align: right;\n    }\n</style>\n<table border=\"1\" class=\"dataframe\">\n  <thead>\n    <tr style=\"text-align: right;\">\n      <th></th>\n      <th>BC Sales Channel</th>\n      <th>AWC and Comp</th>\n      <th>Date</th>\n      <th>Brand</th>\n      <th>Varietal Group</th>\n      <th>9L Cases</th>\n      <th>AWC FYr &amp; Pd No</th>\n      <th>Avg Sales Price</th>\n      <th>Sales Dollars</th>\n    </tr>\n  </thead>\n  <tbody>\n    <tr>\n      <th>0</th>\n      <td>BCLS</td>\n      <td>CONSTELLATION BRANDS</td>\n      <td>02/01/17</td>\n      <td>BLACK SAGE VINEYARD</td>\n      <td>CABERNET FRANC</td>\n      <td>17</td>\n      <td>201712</td>\n      <td>$28.74</td>\n      <td>5,912</td>\n    </tr>\n    <tr>\n      <th>1</th>\n      <td>BCLS</td>\n      <td>CONSTELLATION BRANDS</td>\n      <td>02/01/17</td>\n      <td>BLACK SAGE VINEYARD</td>\n      <td>CABERNET SAUVIGNON</td>\n      <td>1</td>\n      <td>201712</td>\n      <td>$28.74</td>\n      <td>368</td>\n    </tr>\n    <tr>\n      <th>2</th>\n      <td>BCLS</td>\n      <td>CONSTELLATION BRANDS</td>\n      <td>02/01/17</td>\n      <td>BLACK SAGE VINEYARD</td>\n      <td>MERLOT</td>\n      <td>11</td>\n      <td>201712</td>\n      <td>$28.74</td>\n      <td>3,698</td>\n    </tr>\n    <tr>\n      <th>3</th>\n      <td>BCLS</td>\n      <td>CONSTELLATION BRANDS</td>\n      <td>02/01/17</td>\n      <td>BLACK SAGE VINEYARD</td>\n      <td>OTHER</td>\n      <td>2</td>\n      <td>201712</td>\n      <td>$29.89</td>\n      <td>909</td>\n    </tr>\n    <tr>\n      <th>4</th>\n      <td>BCLS</td>\n      <td>CONSTELLATION BRANDS</td>\n      <td>02/01/17</td>\n      <td>CULMINA</td>\n      <td>CHARDONNAY</td>\n      <td>0</td>\n      <td>201712</td>\n      <td>$41.50</td>\n      <td>85</td>\n    </tr>\n  </tbody>\n</table>\n</div>"
     },
     "metadata": {},
     "execution_count": 94
    }
   ],
   "source": [
    "import datetime\n",
    "raw_df['Date'] = pd.to_datetime(raw_df['Date'], errors='coerce')\n",
    "raw_df['Date'] = raw_df['Date'].dt.strftime('%D')\n",
    "raw_df.head()"
   ]
  },
  {
   "cell_type": "code",
   "execution_count": 95,
   "metadata": {},
   "outputs": [
    {
     "output_type": "execute_result",
     "data": {
      "text/plain": [
       "('01/01/18', '12/01/20')"
      ]
     },
     "metadata": {},
     "execution_count": 95
    }
   ],
   "source": [
    "raw_df['Date'].min(), raw_df['Date'].max()\n"
   ]
  },
  {
   "cell_type": "code",
   "execution_count": 96,
   "metadata": {},
   "outputs": [
    {
     "output_type": "execute_result",
     "data": {
      "text/plain": [
       "array(['CABERNET FRANC', 'CABERNET SAUVIGNON', 'MERLOT', 'OTHER',\n",
       "       'CHARDONNAY', 'RED BLEND', 'RIESLING', 'VIDAL', 'PINOT NOIR',\n",
       "       'CHENIN BLANC', 'PINOT BLANC', 'PINOT GRIGIO', 'SHIRAZ',\n",
       "       'ZINFANDEL', 'WHITE BLEND', 'SAUVIGNON BLANC', 'VIOGNIER', 'ROSE',\n",
       "       'GEWURZTRAMINER', 'TEMPRANILLO', 'MALBEC', 'UNASSIGNED'],\n",
       "      dtype=object)"
      ]
     },
     "metadata": {},
     "execution_count": 96
    }
   ],
   "source": [
    "raw_df['Varietal Group'].unique()"
   ]
  },
  {
   "cell_type": "code",
   "execution_count": 97,
   "metadata": {},
   "outputs": [],
   "source": [
    "cabernet_franc = raw_df.loc[raw_df['Varietal Group'] == 'CABERNET FRANC']\n",
    "cabernet_sav = raw_df.loc[raw_df['Varietal Group'] == 'CABERNET SAUVIGNON']\n",
    "merlot = raw_df.loc[raw_df['Varietal Group'] == 'MERLOT']\n",
    "chardonnay = raw_df.loc[raw_df['Varietal Group'] == 'CHARDONNAY']\n",
    "red_blend = raw_df.loc[raw_df['Varietal Group'] == 'RED BLEND']\n",
    "riesling = raw_df.loc[raw_df['Varietal Group'] == 'RIESLING']\n",
    "vidal = raw_df.loc[raw_df['Varietal Group'] == 'VIDAL']\n",
    "pinot_noir = raw_df.loc[raw_df['Varietal Group'] == 'PINOT NOIR']\n",
    "chenin_blanc = raw_df.loc[raw_df['Varietal Group'] == 'CHENIN BLANC']\n",
    "pinot_blanc = raw_df.loc[raw_df['Varietal Group'] == 'PINOT BLANC']\n",
    "pinot_grigio = raw_df.loc[raw_df['Varietal Group'] == 'PINOT GRIGIO']\n",
    "shiraz = raw_df.loc[raw_df['Varietal Group'] == 'SHIRAZ']\n",
    "zinfandel = raw_df.loc[raw_df['Varietal Group'] == 'ZINFANDEL']\n",
    "white_blend = raw_df.loc[raw_df['Varietal Group'] == 'WHITE BLEND']\n",
    "sav_blanc = raw_df.loc[raw_df['Varietal Group'] == 'SAUVIGNON BLANC']\n",
    "viognier = raw_df.loc[raw_df['Varietal Group'] == 'VIOGNIER']\n",
    "rose = raw_df.loc[raw_df['Varietal Group'] == 'ROSE']\n",
    "gewurz = raw_df.loc[raw_df['Varietal Group'] == 'GEWURZTRAMINER']\n",
    "tempranillo = raw_df.loc[raw_df['Varietal Group'] == 'TEMPRANILLO']\n",
    "malbec = raw_df.loc[raw_df['Varietal Group'] == 'MALBEC']\n",
    "unassigned = raw_df.loc[raw_df['Varietal Group'] == 'UNASSIGNED']\n",
    "other = raw_df.loc[raw_df['Varietal Group'] == 'OHER']"
   ]
  },
  {
   "cell_type": "code",
   "execution_count": 71,
   "metadata": {},
   "outputs": [
    {
     "output_type": "execute_result",
     "data": {
      "text/plain": [
       "   BC Sales Channel          AWC and Comp     Date                   Brand  \\\n",
       "0              BCLS  CONSTELLATION BRANDS  2017-02     BLACK SAGE VINEYARD   \n",
       "8              BCLS  CONSTELLATION BRANDS  2017-02     INNISKILLIN ICEWINE   \n",
       "12             BCLS  CONSTELLATION BRANDS  2017-02     INNISKILLIN NIAGARA   \n",
       "25             BCLS  CONSTELLATION BRANDS  2017-02  JACKSON TRIGGS NIAGARA   \n",
       "77             BCLS  CONSTELLATION BRANDS  2018-03     BLACK SAGE VINEYARD   \n",
       "\n",
       "    Varietal Group 9L Cases  AWC FYr & Pd No Avg Sales Price Sales Dollars  \n",
       "0   CABERNET FRANC       17           201712          $28.74         5,912  \n",
       "8   CABERNET FRANC        3           201712          $69.99         5,663  \n",
       "12  CABERNET FRANC        2           201712          $17.24           465  \n",
       "25  CABERNET FRANC        0           201712          $44.72           368  \n",
       "77  CABERNET FRANC       99           201801          $28.74        34,285  "
      ],
      "text/html": "<div>\n<style scoped>\n    .dataframe tbody tr th:only-of-type {\n        vertical-align: middle;\n    }\n\n    .dataframe tbody tr th {\n        vertical-align: top;\n    }\n\n    .dataframe thead th {\n        text-align: right;\n    }\n</style>\n<table border=\"1\" class=\"dataframe\">\n  <thead>\n    <tr style=\"text-align: right;\">\n      <th></th>\n      <th>BC Sales Channel</th>\n      <th>AWC and Comp</th>\n      <th>Date</th>\n      <th>Brand</th>\n      <th>Varietal Group</th>\n      <th>9L Cases</th>\n      <th>AWC FYr &amp; Pd No</th>\n      <th>Avg Sales Price</th>\n      <th>Sales Dollars</th>\n    </tr>\n  </thead>\n  <tbody>\n    <tr>\n      <th>0</th>\n      <td>BCLS</td>\n      <td>CONSTELLATION BRANDS</td>\n      <td>2017-02</td>\n      <td>BLACK SAGE VINEYARD</td>\n      <td>CABERNET FRANC</td>\n      <td>17</td>\n      <td>201712</td>\n      <td>$28.74</td>\n      <td>5,912</td>\n    </tr>\n    <tr>\n      <th>8</th>\n      <td>BCLS</td>\n      <td>CONSTELLATION BRANDS</td>\n      <td>2017-02</td>\n      <td>INNISKILLIN ICEWINE</td>\n      <td>CABERNET FRANC</td>\n      <td>3</td>\n      <td>201712</td>\n      <td>$69.99</td>\n      <td>5,663</td>\n    </tr>\n    <tr>\n      <th>12</th>\n      <td>BCLS</td>\n      <td>CONSTELLATION BRANDS</td>\n      <td>2017-02</td>\n      <td>INNISKILLIN NIAGARA</td>\n      <td>CABERNET FRANC</td>\n      <td>2</td>\n      <td>201712</td>\n      <td>$17.24</td>\n      <td>465</td>\n    </tr>\n    <tr>\n      <th>25</th>\n      <td>BCLS</td>\n      <td>CONSTELLATION BRANDS</td>\n      <td>2017-02</td>\n      <td>JACKSON TRIGGS NIAGARA</td>\n      <td>CABERNET FRANC</td>\n      <td>0</td>\n      <td>201712</td>\n      <td>$44.72</td>\n      <td>368</td>\n    </tr>\n    <tr>\n      <th>77</th>\n      <td>BCLS</td>\n      <td>CONSTELLATION BRANDS</td>\n      <td>2018-03</td>\n      <td>BLACK SAGE VINEYARD</td>\n      <td>CABERNET FRANC</td>\n      <td>99</td>\n      <td>201801</td>\n      <td>$28.74</td>\n      <td>34,285</td>\n    </tr>\n  </tbody>\n</table>\n</div>"
     },
     "metadata": {},
     "execution_count": 71
    }
   ],
   "source": [
    "cabernet_franc.head()"
   ]
  },
  {
   "cell_type": "code",
   "execution_count": 98,
   "metadata": {},
   "outputs": [
    {
     "output_type": "execute_result",
     "data": {
      "text/plain": [
       "Date              0\n",
       "Brand             0\n",
       "Varietal Group    0\n",
       "Sales Dollars     0\n",
       "dtype: int64"
      ]
     },
     "metadata": {},
     "execution_count": 98
    }
   ],
   "source": [
    "varietal = cabernet_franc\n",
    "cols = ['BC Sales Channel',\t'AWC and Comp', '9L Cases', 'AWC FYr & Pd No',\t'Avg Sales Price']\n",
    "varietal.drop(cols, axis=1, inplace=True)\n",
    "varietal = varietal.sort_values('Date')\n",
    "varietal.isnull().sum()"
   ]
  },
  {
   "cell_type": "code",
   "execution_count": 103,
   "metadata": {},
   "outputs": [
    {
     "output_type": "stream",
     "name": "stdout",
     "text": [
      "<class 'pandas.core.frame.DataFrame'>\nRangeIndex: 168 entries, 0 to 167\nData columns (total 3 columns):\n #   Column         Non-Null Count  Dtype \n---  ------         --------------  ----- \n 0   Date           168 non-null    object\n 1   Brand          168 non-null    object\n 2   Sales Dollars  168 non-null    object\ndtypes: object(3)\nmemory usage: 4.1+ KB\n"
     ]
    }
   ],
   "source": [
    "varietal = varietal.groupby(['Date','Brand'])['Sales Dollars'].sum().reset_index()\n",
    "varietal.info()"
   ]
  },
  {
   "cell_type": "code",
   "execution_count": 105,
   "metadata": {},
   "outputs": [
    {
     "output_type": "execute_result",
     "data": {
      "text/plain": [
       "Index(['01/01/18', '01/01/18', '01/01/18', '01/01/18', '01/01/19', '01/01/19',\n",
       "       '01/01/19', '01/01/19', '01/01/20', '01/01/20',\n",
       "       ...\n",
       "       '12/01/18', '12/01/18', '12/01/18', '12/01/19', '12/01/19', '12/01/19',\n",
       "       '12/01/19', '12/01/20', '12/01/20', '12/01/20'],\n",
       "      dtype='object', name='Date', length=168)"
      ]
     },
     "metadata": {},
     "execution_count": 105
    }
   ],
   "source": [
    "varietal = varietal.set_index('Date')\n",
    "varietal.index"
   ]
  },
  {
   "cell_type": "code",
   "execution_count": 106,
   "metadata": {},
   "outputs": [
    {
     "output_type": "stream",
     "name": "stdout",
     "text": [
      "<class 'pandas.core.frame.DataFrame'>\nIndex: 168 entries, 01/01/18 to 12/01/20\nData columns (total 2 columns):\n #   Column         Non-Null Count  Dtype \n---  ------         --------------  ----- \n 0   Brand          168 non-null    object\n 1   Sales Dollars  168 non-null    object\ndtypes: object(2)\nmemory usage: 3.9+ KB\n"
     ]
    }
   ],
   "source": [
    "varietal.info()"
   ]
  },
  {
   "cell_type": "code",
   "execution_count": 107,
   "metadata": {},
   "outputs": [
    {
     "output_type": "error",
     "ename": "TypeError",
     "evalue": "Only valid with DatetimeIndex, TimedeltaIndex or PeriodIndex, but got an instance of 'Index'",
     "traceback": [
      "\u001b[1;31m---------------------------------------------------------------------------\u001b[0m",
      "\u001b[1;31mTypeError\u001b[0m                                 Traceback (most recent call last)",
      "\u001b[1;32m<ipython-input-107-2bdb17320581>\u001b[0m in \u001b[0;36m<module>\u001b[1;34m\u001b[0m\n\u001b[1;32m----> 1\u001b[1;33m \u001b[0my\u001b[0m \u001b[1;33m=\u001b[0m \u001b[0mvarietal\u001b[0m\u001b[1;33m[\u001b[0m\u001b[1;34m'Sales Dollars'\u001b[0m\u001b[1;33m]\u001b[0m\u001b[1;33m.\u001b[0m\u001b[0mresample\u001b[0m\u001b[1;33m(\u001b[0m\u001b[1;34m'MS'\u001b[0m\u001b[1;33m)\u001b[0m\u001b[1;33m.\u001b[0m\u001b[0mmean\u001b[0m\u001b[1;33m(\u001b[0m\u001b[1;33m)\u001b[0m\u001b[1;33m\u001b[0m\u001b[1;33m\u001b[0m\u001b[0m\n\u001b[0m\u001b[0;32m      2\u001b[0m \u001b[1;33m\u001b[0m\u001b[0m\n",
      "\u001b[1;32m~\\AppData\\Local\\Programs\\Python\\Python37\\lib\\site-packages\\pandas\\core\\generic.py\u001b[0m in \u001b[0;36mresample\u001b[1;34m(self, rule, axis, closed, label, convention, kind, loffset, base, on, level)\u001b[0m\n\u001b[0;32m   8113\u001b[0m             \u001b[0mbase\u001b[0m\u001b[1;33m=\u001b[0m\u001b[0mbase\u001b[0m\u001b[1;33m,\u001b[0m\u001b[1;33m\u001b[0m\u001b[1;33m\u001b[0m\u001b[0m\n\u001b[0;32m   8114\u001b[0m             \u001b[0mkey\u001b[0m\u001b[1;33m=\u001b[0m\u001b[0mon\u001b[0m\u001b[1;33m,\u001b[0m\u001b[1;33m\u001b[0m\u001b[1;33m\u001b[0m\u001b[0m\n\u001b[1;32m-> 8115\u001b[1;33m             \u001b[0mlevel\u001b[0m\u001b[1;33m=\u001b[0m\u001b[0mlevel\u001b[0m\u001b[1;33m,\u001b[0m\u001b[1;33m\u001b[0m\u001b[1;33m\u001b[0m\u001b[0m\n\u001b[0m\u001b[0;32m   8116\u001b[0m         )\n\u001b[0;32m   8117\u001b[0m \u001b[1;33m\u001b[0m\u001b[0m\n",
      "\u001b[1;32m~\\AppData\\Local\\Programs\\Python\\Python37\\lib\\site-packages\\pandas\\core\\resample.py\u001b[0m in \u001b[0;36mresample\u001b[1;34m(obj, kind, **kwds)\u001b[0m\n\u001b[0;32m   1268\u001b[0m     \"\"\"\n\u001b[0;32m   1269\u001b[0m     \u001b[0mtg\u001b[0m \u001b[1;33m=\u001b[0m \u001b[0mTimeGrouper\u001b[0m\u001b[1;33m(\u001b[0m\u001b[1;33m**\u001b[0m\u001b[0mkwds\u001b[0m\u001b[1;33m)\u001b[0m\u001b[1;33m\u001b[0m\u001b[1;33m\u001b[0m\u001b[0m\n\u001b[1;32m-> 1270\u001b[1;33m     \u001b[1;32mreturn\u001b[0m \u001b[0mtg\u001b[0m\u001b[1;33m.\u001b[0m\u001b[0m_get_resampler\u001b[0m\u001b[1;33m(\u001b[0m\u001b[0mobj\u001b[0m\u001b[1;33m,\u001b[0m \u001b[0mkind\u001b[0m\u001b[1;33m=\u001b[0m\u001b[0mkind\u001b[0m\u001b[1;33m)\u001b[0m\u001b[1;33m\u001b[0m\u001b[1;33m\u001b[0m\u001b[0m\n\u001b[0m\u001b[0;32m   1271\u001b[0m \u001b[1;33m\u001b[0m\u001b[0m\n\u001b[0;32m   1272\u001b[0m \u001b[1;33m\u001b[0m\u001b[0m\n",
      "\u001b[1;32m~\\AppData\\Local\\Programs\\Python\\Python37\\lib\\site-packages\\pandas\\core\\resample.py\u001b[0m in \u001b[0;36m_get_resampler\u001b[1;34m(self, obj, kind)\u001b[0m\n\u001b[0;32m   1402\u001b[0m \u001b[1;33m\u001b[0m\u001b[0m\n\u001b[0;32m   1403\u001b[0m         raise TypeError(\n\u001b[1;32m-> 1404\u001b[1;33m             \u001b[1;34m\"Only valid with DatetimeIndex, \"\u001b[0m\u001b[1;33m\u001b[0m\u001b[1;33m\u001b[0m\u001b[0m\n\u001b[0m\u001b[0;32m   1405\u001b[0m             \u001b[1;34m\"TimedeltaIndex or PeriodIndex, \"\u001b[0m\u001b[1;33m\u001b[0m\u001b[1;33m\u001b[0m\u001b[0m\n\u001b[0;32m   1406\u001b[0m             \u001b[1;34mf\"but got an instance of '{type(ax).__name__}'\"\u001b[0m\u001b[1;33m\u001b[0m\u001b[1;33m\u001b[0m\u001b[0m\n",
      "\u001b[1;31mTypeError\u001b[0m: Only valid with DatetimeIndex, TimedeltaIndex or PeriodIndex, but got an instance of 'Index'"
     ]
    }
   ],
   "source": [
    "y = varietal['Sales Dollars'].resample('MS').mean()\n",
    "\n"
   ]
  },
  {
   "cell_type": "code",
   "execution_count": 108,
   "metadata": {},
   "outputs": [
    {
     "output_type": "error",
     "ename": "TypeError",
     "evalue": "no numeric data to plot",
     "traceback": [
      "\u001b[1;31m---------------------------------------------------------------------------\u001b[0m",
      "\u001b[1;31mTypeError\u001b[0m                                 Traceback (most recent call last)",
      "\u001b[1;32m<ipython-input-108-95cea63ac2f5>\u001b[0m in \u001b[0;36m<module>\u001b[1;34m\u001b[0m\n\u001b[1;32m----> 1\u001b[1;33m \u001b[0my\u001b[0m\u001b[1;33m.\u001b[0m\u001b[0mplot\u001b[0m\u001b[1;33m(\u001b[0m\u001b[0mfigsize\u001b[0m\u001b[1;33m=\u001b[0m\u001b[1;33m(\u001b[0m\u001b[1;36m15\u001b[0m\u001b[1;33m,\u001b[0m \u001b[1;36m6\u001b[0m\u001b[1;33m)\u001b[0m\u001b[1;33m)\u001b[0m\u001b[1;33m\u001b[0m\u001b[1;33m\u001b[0m\u001b[0m\n\u001b[0m\u001b[0;32m      2\u001b[0m \u001b[0mplt\u001b[0m\u001b[1;33m.\u001b[0m\u001b[0mshow\u001b[0m\u001b[1;33m(\u001b[0m\u001b[1;33m)\u001b[0m\u001b[1;33m\u001b[0m\u001b[1;33m\u001b[0m\u001b[0m\n",
      "\u001b[1;32m~\\AppData\\Local\\Programs\\Python\\Python37\\lib\\site-packages\\pandas\\plotting\\_core.py\u001b[0m in \u001b[0;36m__call__\u001b[1;34m(self, *args, **kwargs)\u001b[0m\n\u001b[0;32m    845\u001b[0m                     \u001b[0mdata\u001b[0m\u001b[1;33m.\u001b[0m\u001b[0mcolumns\u001b[0m \u001b[1;33m=\u001b[0m \u001b[0mlabel_name\u001b[0m\u001b[1;33m\u001b[0m\u001b[1;33m\u001b[0m\u001b[0m\n\u001b[0;32m    846\u001b[0m \u001b[1;33m\u001b[0m\u001b[0m\n\u001b[1;32m--> 847\u001b[1;33m         \u001b[1;32mreturn\u001b[0m \u001b[0mplot_backend\u001b[0m\u001b[1;33m.\u001b[0m\u001b[0mplot\u001b[0m\u001b[1;33m(\u001b[0m\u001b[0mdata\u001b[0m\u001b[1;33m,\u001b[0m \u001b[0mkind\u001b[0m\u001b[1;33m=\u001b[0m\u001b[0mkind\u001b[0m\u001b[1;33m,\u001b[0m \u001b[1;33m**\u001b[0m\u001b[0mkwargs\u001b[0m\u001b[1;33m)\u001b[0m\u001b[1;33m\u001b[0m\u001b[1;33m\u001b[0m\u001b[0m\n\u001b[0m\u001b[0;32m    848\u001b[0m \u001b[1;33m\u001b[0m\u001b[0m\n\u001b[0;32m    849\u001b[0m     \u001b[0m__call__\u001b[0m\u001b[1;33m.\u001b[0m\u001b[0m__doc__\u001b[0m \u001b[1;33m=\u001b[0m \u001b[0m__doc__\u001b[0m\u001b[1;33m\u001b[0m\u001b[1;33m\u001b[0m\u001b[0m\n",
      "\u001b[1;32m~\\AppData\\Local\\Programs\\Python\\Python37\\lib\\site-packages\\pandas\\plotting\\_matplotlib\\__init__.py\u001b[0m in \u001b[0;36mplot\u001b[1;34m(data, kind, **kwargs)\u001b[0m\n\u001b[0;32m     59\u001b[0m             \u001b[0mkwargs\u001b[0m\u001b[1;33m[\u001b[0m\u001b[1;34m\"ax\"\u001b[0m\u001b[1;33m]\u001b[0m \u001b[1;33m=\u001b[0m \u001b[0mgetattr\u001b[0m\u001b[1;33m(\u001b[0m\u001b[0max\u001b[0m\u001b[1;33m,\u001b[0m \u001b[1;34m\"left_ax\"\u001b[0m\u001b[1;33m,\u001b[0m \u001b[0max\u001b[0m\u001b[1;33m)\u001b[0m\u001b[1;33m\u001b[0m\u001b[1;33m\u001b[0m\u001b[0m\n\u001b[0;32m     60\u001b[0m     \u001b[0mplot_obj\u001b[0m \u001b[1;33m=\u001b[0m \u001b[0mPLOT_CLASSES\u001b[0m\u001b[1;33m[\u001b[0m\u001b[0mkind\u001b[0m\u001b[1;33m]\u001b[0m\u001b[1;33m(\u001b[0m\u001b[0mdata\u001b[0m\u001b[1;33m,\u001b[0m \u001b[1;33m**\u001b[0m\u001b[0mkwargs\u001b[0m\u001b[1;33m)\u001b[0m\u001b[1;33m\u001b[0m\u001b[1;33m\u001b[0m\u001b[0m\n\u001b[1;32m---> 61\u001b[1;33m     \u001b[0mplot_obj\u001b[0m\u001b[1;33m.\u001b[0m\u001b[0mgenerate\u001b[0m\u001b[1;33m(\u001b[0m\u001b[1;33m)\u001b[0m\u001b[1;33m\u001b[0m\u001b[1;33m\u001b[0m\u001b[0m\n\u001b[0m\u001b[0;32m     62\u001b[0m     \u001b[0mplot_obj\u001b[0m\u001b[1;33m.\u001b[0m\u001b[0mdraw\u001b[0m\u001b[1;33m(\u001b[0m\u001b[1;33m)\u001b[0m\u001b[1;33m\u001b[0m\u001b[1;33m\u001b[0m\u001b[0m\n\u001b[0;32m     63\u001b[0m     \u001b[1;32mreturn\u001b[0m \u001b[0mplot_obj\u001b[0m\u001b[1;33m.\u001b[0m\u001b[0mresult\u001b[0m\u001b[1;33m\u001b[0m\u001b[1;33m\u001b[0m\u001b[0m\n",
      "\u001b[1;32m~\\AppData\\Local\\Programs\\Python\\Python37\\lib\\site-packages\\pandas\\plotting\\_matplotlib\\core.py\u001b[0m in \u001b[0;36mgenerate\u001b[1;34m(self)\u001b[0m\n\u001b[0;32m    259\u001b[0m     \u001b[1;32mdef\u001b[0m \u001b[0mgenerate\u001b[0m\u001b[1;33m(\u001b[0m\u001b[0mself\u001b[0m\u001b[1;33m)\u001b[0m\u001b[1;33m:\u001b[0m\u001b[1;33m\u001b[0m\u001b[1;33m\u001b[0m\u001b[0m\n\u001b[0;32m    260\u001b[0m         \u001b[0mself\u001b[0m\u001b[1;33m.\u001b[0m\u001b[0m_args_adjust\u001b[0m\u001b[1;33m(\u001b[0m\u001b[1;33m)\u001b[0m\u001b[1;33m\u001b[0m\u001b[1;33m\u001b[0m\u001b[0m\n\u001b[1;32m--> 261\u001b[1;33m         \u001b[0mself\u001b[0m\u001b[1;33m.\u001b[0m\u001b[0m_compute_plot_data\u001b[0m\u001b[1;33m(\u001b[0m\u001b[1;33m)\u001b[0m\u001b[1;33m\u001b[0m\u001b[1;33m\u001b[0m\u001b[0m\n\u001b[0m\u001b[0;32m    262\u001b[0m         \u001b[0mself\u001b[0m\u001b[1;33m.\u001b[0m\u001b[0m_setup_subplots\u001b[0m\u001b[1;33m(\u001b[0m\u001b[1;33m)\u001b[0m\u001b[1;33m\u001b[0m\u001b[1;33m\u001b[0m\u001b[0m\n\u001b[0;32m    263\u001b[0m         \u001b[0mself\u001b[0m\u001b[1;33m.\u001b[0m\u001b[0m_make_plot\u001b[0m\u001b[1;33m(\u001b[0m\u001b[1;33m)\u001b[0m\u001b[1;33m\u001b[0m\u001b[1;33m\u001b[0m\u001b[0m\n",
      "\u001b[1;32m~\\AppData\\Local\\Programs\\Python\\Python37\\lib\\site-packages\\pandas\\plotting\\_matplotlib\\core.py\u001b[0m in \u001b[0;36m_compute_plot_data\u001b[1;34m(self)\u001b[0m\n\u001b[0;32m    408\u001b[0m         \u001b[1;31m# no non-numeric frames or series allowed\u001b[0m\u001b[1;33m\u001b[0m\u001b[1;33m\u001b[0m\u001b[1;33m\u001b[0m\u001b[0m\n\u001b[0;32m    409\u001b[0m         \u001b[1;32mif\u001b[0m \u001b[0mis_empty\u001b[0m\u001b[1;33m:\u001b[0m\u001b[1;33m\u001b[0m\u001b[1;33m\u001b[0m\u001b[0m\n\u001b[1;32m--> 410\u001b[1;33m             \u001b[1;32mraise\u001b[0m \u001b[0mTypeError\u001b[0m\u001b[1;33m(\u001b[0m\u001b[1;34m\"no numeric data to plot\"\u001b[0m\u001b[1;33m)\u001b[0m\u001b[1;33m\u001b[0m\u001b[1;33m\u001b[0m\u001b[0m\n\u001b[0m\u001b[0;32m    411\u001b[0m \u001b[1;33m\u001b[0m\u001b[0m\n\u001b[0;32m    412\u001b[0m         \u001b[1;31m# GH25587: cast ExtensionArray of pandas (IntegerArray, etc.) to\u001b[0m\u001b[1;33m\u001b[0m\u001b[1;33m\u001b[0m\u001b[1;33m\u001b[0m\u001b[0m\n",
      "\u001b[1;31mTypeError\u001b[0m: no numeric data to plot"
     ]
    }
   ],
   "source": [
    "y.plot(figsize=(15, 6))\n",
    "plt.show()"
   ]
  },
  {
   "cell_type": "code",
   "execution_count": null,
   "metadata": {},
   "outputs": [],
   "source": []
  }
 ]
}