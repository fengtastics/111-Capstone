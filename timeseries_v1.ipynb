{
 "metadata": {
  "language_info": {
   "codemirror_mode": {
    "name": "ipython",
    "version": 3
   },
   "file_extension": ".py",
   "mimetype": "text/x-python",
   "name": "python",
   "nbconvert_exporter": "python",
   "pygments_lexer": "ipython3",
   "version": "3.7.7-final"
  },
  "orig_nbformat": 2,
  "kernelspec": {
   "name": "python3",
   "display_name": "Python 3.7.7 64-bit",
   "metadata": {
    "interpreter": {
     "hash": "bf3095728541cef7af126a1da245b47f88109b97bd76a778e316aed2a41b01be"
    }
   }
  }
 },
 "nbformat": 4,
 "nbformat_minor": 2,
 "cells": [
  {
   "cell_type": "code",
   "execution_count": 279,
   "metadata": {},
   "outputs": [],
   "source": [
    "#https://towardsdatascience.com/an-end-to-end-project-on-time-series-analysis-and-forecasting-with-python-4835e6bf050b\n",
    "\n",
    "#https://www.digitalocean.com/community/tutorials/a-guide-to-time-series-forecasting-with-prophet-in-python-3 "
   ]
  },
  {
   "cell_type": "code",
   "execution_count": 280,
   "metadata": {},
   "outputs": [],
   "source": [
    "import warnings\n",
    "import itertools\n",
    "import numpy as np\n",
    "import matplotlib.pyplot as plt\n",
    "warnings.filterwarnings(\"ignore\")\n",
    "plt.style.use('fivethirtyeight')\n",
    "import pandas as pd\n",
    "#import statsmodels.api as sm\n",
    "import matplotlib\n",
    "matplotlib.rcParams['axes.labelsize'] = 14\n",
    "matplotlib.rcParams['xtick.labelsize'] = 12\n",
    "matplotlib.rcParams['ytick.labelsize'] = 12\n",
    "matplotlib.rcParams['text.color'] = 'k'\n"
   ]
  },
  {
   "cell_type": "code",
   "execution_count": 281,
   "metadata": {},
   "outputs": [
    {
     "output_type": "execute_result",
     "data": {
      "text/plain": [
       "  AWC Fiscal Year Month Abbr                Brand      Varietal Group  \\\n",
       "0                  F2017 FEB  BLACK SAGE VINEYARD      CABERNET FRANC   \n",
       "1                  F2017 FEB  BLACK SAGE VINEYARD  CABERNET SAUVIGNON   \n",
       "2                  F2017 FEB  BLACK SAGE VINEYARD              MERLOT   \n",
       "3                  F2017 FEB  BLACK SAGE VINEYARD               OTHER   \n",
       "4                  F2017 FEB              CULMINA          CHARDONNAY   \n",
       "\n",
       "  9L Cases Avg Sales Price Sales Dollars  \n",
       "0       17          $28.74         5,912  \n",
       "1        1          $28.74           368  \n",
       "2       11          $28.74         3,698  \n",
       "3        2          $29.89           909  \n",
       "4        0          $41.50            85  "
      ],
      "text/html": "<div>\n<style scoped>\n    .dataframe tbody tr th:only-of-type {\n        vertical-align: middle;\n    }\n\n    .dataframe tbody tr th {\n        vertical-align: top;\n    }\n\n    .dataframe thead th {\n        text-align: right;\n    }\n</style>\n<table border=\"1\" class=\"dataframe\">\n  <thead>\n    <tr style=\"text-align: right;\">\n      <th></th>\n      <th>AWC Fiscal Year Month Abbr</th>\n      <th>Brand</th>\n      <th>Varietal Group</th>\n      <th>9L Cases</th>\n      <th>Avg Sales Price</th>\n      <th>Sales Dollars</th>\n    </tr>\n  </thead>\n  <tbody>\n    <tr>\n      <th>0</th>\n      <td>F2017 FEB</td>\n      <td>BLACK SAGE VINEYARD</td>\n      <td>CABERNET FRANC</td>\n      <td>17</td>\n      <td>$28.74</td>\n      <td>5,912</td>\n    </tr>\n    <tr>\n      <th>1</th>\n      <td>F2017 FEB</td>\n      <td>BLACK SAGE VINEYARD</td>\n      <td>CABERNET SAUVIGNON</td>\n      <td>1</td>\n      <td>$28.74</td>\n      <td>368</td>\n    </tr>\n    <tr>\n      <th>2</th>\n      <td>F2017 FEB</td>\n      <td>BLACK SAGE VINEYARD</td>\n      <td>MERLOT</td>\n      <td>11</td>\n      <td>$28.74</td>\n      <td>3,698</td>\n    </tr>\n    <tr>\n      <th>3</th>\n      <td>F2017 FEB</td>\n      <td>BLACK SAGE VINEYARD</td>\n      <td>OTHER</td>\n      <td>2</td>\n      <td>$29.89</td>\n      <td>909</td>\n    </tr>\n    <tr>\n      <th>4</th>\n      <td>F2017 FEB</td>\n      <td>CULMINA</td>\n      <td>CHARDONNAY</td>\n      <td>0</td>\n      <td>$41.50</td>\n      <td>85</td>\n    </tr>\n  </tbody>\n</table>\n</div>"
     },
     "metadata": {},
     "execution_count": 281
    }
   ],
   "source": [
    "#raw_df = pd.read_csv(\"C:\\\\Users\\\\mcinn\\\\Documents\\\\timeseries_vqa.csv\")\n",
    "raw_df = pd.read_csv(\n",
    "   \"timeseries_vqa.csv\",      # relative python path to subdirectory\n",
    "    usecols=[ \"AWC Fiscal Year Month Abbr\",\t\"Brand\",\"Varietal Group\", \n",
    "    \"9L Cases\",\"Avg Sales Price\",\"Sales Dollars\"],  # Only load the columns specified.\n",
    "   )\n",
    "\n",
    "raw_df.head()\n",
    "#raw_df.info()"
   ]
  },
  {
   "cell_type": "code",
   "execution_count": 282,
   "metadata": {},
   "outputs": [
    {
     "output_type": "execute_result",
     "data": {
      "text/plain": [
       "  AWC Fiscal Year Month Abbr                Brand      Varietal Group  \\\n",
       "0                  F2017 FEB  BLACK SAGE VINEYARD      CABERNET FRANC   \n",
       "1                  F2017 FEB  BLACK SAGE VINEYARD  CABERNET SAUVIGNON   \n",
       "2                  F2017 FEB  BLACK SAGE VINEYARD              MERLOT   \n",
       "3                  F2017 FEB  BLACK SAGE VINEYARD               OTHER   \n",
       "4                  F2017 FEB              CULMINA          CHARDONNAY   \n",
       "\n",
       "   9L Cases  Avg Sales Price  Sales Dollars  \n",
       "0      17.0            28.74         5912.0  \n",
       "1       1.0            28.74          368.0  \n",
       "2      11.0            28.74         3698.0  \n",
       "3       2.0            29.89          909.0  \n",
       "4       0.0            41.50           85.0  "
      ],
      "text/html": "<div>\n<style scoped>\n    .dataframe tbody tr th:only-of-type {\n        vertical-align: middle;\n    }\n\n    .dataframe tbody tr th {\n        vertical-align: top;\n    }\n\n    .dataframe thead th {\n        text-align: right;\n    }\n</style>\n<table border=\"1\" class=\"dataframe\">\n  <thead>\n    <tr style=\"text-align: right;\">\n      <th></th>\n      <th>AWC Fiscal Year Month Abbr</th>\n      <th>Brand</th>\n      <th>Varietal Group</th>\n      <th>9L Cases</th>\n      <th>Avg Sales Price</th>\n      <th>Sales Dollars</th>\n    </tr>\n  </thead>\n  <tbody>\n    <tr>\n      <th>0</th>\n      <td>F2017 FEB</td>\n      <td>BLACK SAGE VINEYARD</td>\n      <td>CABERNET FRANC</td>\n      <td>17.0</td>\n      <td>28.74</td>\n      <td>5912.0</td>\n    </tr>\n    <tr>\n      <th>1</th>\n      <td>F2017 FEB</td>\n      <td>BLACK SAGE VINEYARD</td>\n      <td>CABERNET SAUVIGNON</td>\n      <td>1.0</td>\n      <td>28.74</td>\n      <td>368.0</td>\n    </tr>\n    <tr>\n      <th>2</th>\n      <td>F2017 FEB</td>\n      <td>BLACK SAGE VINEYARD</td>\n      <td>MERLOT</td>\n      <td>11.0</td>\n      <td>28.74</td>\n      <td>3698.0</td>\n    </tr>\n    <tr>\n      <th>3</th>\n      <td>F2017 FEB</td>\n      <td>BLACK SAGE VINEYARD</td>\n      <td>OTHER</td>\n      <td>2.0</td>\n      <td>29.89</td>\n      <td>909.0</td>\n    </tr>\n    <tr>\n      <th>4</th>\n      <td>F2017 FEB</td>\n      <td>CULMINA</td>\n      <td>CHARDONNAY</td>\n      <td>0.0</td>\n      <td>41.50</td>\n      <td>85.0</td>\n    </tr>\n  </tbody>\n</table>\n</div>"
     },
     "metadata": {},
     "execution_count": 282
    }
   ],
   "source": [
    "# replace Sales Dollar , 9L Cases to NUMBERS format\n",
    "\n",
    "raw_df['Sales Dollars'] = raw_df['Sales Dollars'].str.replace(',', '').astype(float)\n",
    "raw_df['9L Cases'] = raw_df['9L Cases'].str.replace(',', '').astype(float)\n",
    "raw_df['Avg Sales Price'] = raw_df['Avg Sales Price'].str.replace('$', '').astype(float)\n",
    "raw_df.head()\n",
    "\n",
    "\n"
   ]
  },
  {
   "cell_type": "code",
   "execution_count": 283,
   "metadata": {},
   "outputs": [
    {
     "output_type": "stream",
     "name": "stdout",
     "text": [
      "<class 'pandas.core.frame.DataFrame'>\nRangeIndex: 3671 entries, 0 to 3670\nData columns (total 6 columns):\n #   Column                      Non-Null Count  Dtype  \n---  ------                      --------------  -----  \n 0   AWC Fiscal Year Month Abbr  3671 non-null   object \n 1   Brand                       3671 non-null   object \n 2   Varietal Group              3671 non-null   object \n 3   9L Cases                    3671 non-null   float64\n 4   Avg Sales Price             3217 non-null   float64\n 5   Sales Dollars               3671 non-null   float64\ndtypes: float64(3), object(3)\nmemory usage: 172.2+ KB\n"
     ]
    }
   ],
   "source": [
    "raw_df.info()"
   ]
  },
  {
   "cell_type": "code",
   "execution_count": 284,
   "metadata": {},
   "outputs": [
    {
     "output_type": "execute_result",
     "data": {
      "text/plain": [
       "       Date                Brand      Varietal Group  9L Cases  \\\n",
       "0  2017 FEB  BLACK SAGE VINEYARD      CABERNET FRANC      17.0   \n",
       "1  2017 FEB  BLACK SAGE VINEYARD  CABERNET SAUVIGNON       1.0   \n",
       "2  2017 FEB  BLACK SAGE VINEYARD              MERLOT      11.0   \n",
       "3  2017 FEB  BLACK SAGE VINEYARD               OTHER       2.0   \n",
       "4  2017 FEB              CULMINA          CHARDONNAY       0.0   \n",
       "\n",
       "   Avg Sales Price  Sales Dollars  \n",
       "0            28.74         5912.0  \n",
       "1            28.74          368.0  \n",
       "2            28.74         3698.0  \n",
       "3            29.89          909.0  \n",
       "4            41.50           85.0  "
      ],
      "text/html": "<div>\n<style scoped>\n    .dataframe tbody tr th:only-of-type {\n        vertical-align: middle;\n    }\n\n    .dataframe tbody tr th {\n        vertical-align: top;\n    }\n\n    .dataframe thead th {\n        text-align: right;\n    }\n</style>\n<table border=\"1\" class=\"dataframe\">\n  <thead>\n    <tr style=\"text-align: right;\">\n      <th></th>\n      <th>Date</th>\n      <th>Brand</th>\n      <th>Varietal Group</th>\n      <th>9L Cases</th>\n      <th>Avg Sales Price</th>\n      <th>Sales Dollars</th>\n    </tr>\n  </thead>\n  <tbody>\n    <tr>\n      <th>0</th>\n      <td>2017 FEB</td>\n      <td>BLACK SAGE VINEYARD</td>\n      <td>CABERNET FRANC</td>\n      <td>17.0</td>\n      <td>28.74</td>\n      <td>5912.0</td>\n    </tr>\n    <tr>\n      <th>1</th>\n      <td>2017 FEB</td>\n      <td>BLACK SAGE VINEYARD</td>\n      <td>CABERNET SAUVIGNON</td>\n      <td>1.0</td>\n      <td>28.74</td>\n      <td>368.0</td>\n    </tr>\n    <tr>\n      <th>2</th>\n      <td>2017 FEB</td>\n      <td>BLACK SAGE VINEYARD</td>\n      <td>MERLOT</td>\n      <td>11.0</td>\n      <td>28.74</td>\n      <td>3698.0</td>\n    </tr>\n    <tr>\n      <th>3</th>\n      <td>2017 FEB</td>\n      <td>BLACK SAGE VINEYARD</td>\n      <td>OTHER</td>\n      <td>2.0</td>\n      <td>29.89</td>\n      <td>909.0</td>\n    </tr>\n    <tr>\n      <th>4</th>\n      <td>2017 FEB</td>\n      <td>CULMINA</td>\n      <td>CHARDONNAY</td>\n      <td>0.0</td>\n      <td>41.50</td>\n      <td>85.0</td>\n    </tr>\n  </tbody>\n</table>\n</div>"
     },
     "metadata": {},
     "execution_count": 284
    }
   ],
   "source": [
    "raw_df = raw_df.rename({'AWC Fiscal Year Month Abbr': 'Date'}, axis=1) \n",
    "raw_df['Date'] = raw_df['Date'].str[1:]\n",
    "raw_df.head()"
   ]
  },
  {
   "cell_type": "code",
   "execution_count": 285,
   "metadata": {},
   "outputs": [
    {
     "output_type": "execute_result",
     "data": {
      "text/plain": [
       "       Date                Brand      Varietal Group  9L Cases  \\\n",
       "0  02/01/17  BLACK SAGE VINEYARD      CABERNET FRANC      17.0   \n",
       "1  02/01/17  BLACK SAGE VINEYARD  CABERNET SAUVIGNON       1.0   \n",
       "2  02/01/17  BLACK SAGE VINEYARD              MERLOT      11.0   \n",
       "3  02/01/17  BLACK SAGE VINEYARD               OTHER       2.0   \n",
       "4  02/01/17              CULMINA          CHARDONNAY       0.0   \n",
       "\n",
       "   Avg Sales Price  Sales Dollars  \n",
       "0            28.74         5912.0  \n",
       "1            28.74          368.0  \n",
       "2            28.74         3698.0  \n",
       "3            29.89          909.0  \n",
       "4            41.50           85.0  "
      ],
      "text/html": "<div>\n<style scoped>\n    .dataframe tbody tr th:only-of-type {\n        vertical-align: middle;\n    }\n\n    .dataframe tbody tr th {\n        vertical-align: top;\n    }\n\n    .dataframe thead th {\n        text-align: right;\n    }\n</style>\n<table border=\"1\" class=\"dataframe\">\n  <thead>\n    <tr style=\"text-align: right;\">\n      <th></th>\n      <th>Date</th>\n      <th>Brand</th>\n      <th>Varietal Group</th>\n      <th>9L Cases</th>\n      <th>Avg Sales Price</th>\n      <th>Sales Dollars</th>\n    </tr>\n  </thead>\n  <tbody>\n    <tr>\n      <th>0</th>\n      <td>02/01/17</td>\n      <td>BLACK SAGE VINEYARD</td>\n      <td>CABERNET FRANC</td>\n      <td>17.0</td>\n      <td>28.74</td>\n      <td>5912.0</td>\n    </tr>\n    <tr>\n      <th>1</th>\n      <td>02/01/17</td>\n      <td>BLACK SAGE VINEYARD</td>\n      <td>CABERNET SAUVIGNON</td>\n      <td>1.0</td>\n      <td>28.74</td>\n      <td>368.0</td>\n    </tr>\n    <tr>\n      <th>2</th>\n      <td>02/01/17</td>\n      <td>BLACK SAGE VINEYARD</td>\n      <td>MERLOT</td>\n      <td>11.0</td>\n      <td>28.74</td>\n      <td>3698.0</td>\n    </tr>\n    <tr>\n      <th>3</th>\n      <td>02/01/17</td>\n      <td>BLACK SAGE VINEYARD</td>\n      <td>OTHER</td>\n      <td>2.0</td>\n      <td>29.89</td>\n      <td>909.0</td>\n    </tr>\n    <tr>\n      <th>4</th>\n      <td>02/01/17</td>\n      <td>CULMINA</td>\n      <td>CHARDONNAY</td>\n      <td>0.0</td>\n      <td>41.50</td>\n      <td>85.0</td>\n    </tr>\n  </tbody>\n</table>\n</div>"
     },
     "metadata": {},
     "execution_count": 285
    }
   ],
   "source": [
    "import datetime\n",
    "raw_df['Date'] = pd.to_datetime(raw_df['Date'], errors='coerce')\n",
    "raw_df['Date'] = raw_df['Date'].dt.strftime('%D')\n",
    "raw_df.head()"
   ]
  },
  {
   "cell_type": "code",
   "execution_count": 286,
   "metadata": {},
   "outputs": [
    {
     "output_type": "execute_result",
     "data": {
      "text/plain": [
       "('01/01/18', '12/01/20')"
      ]
     },
     "metadata": {},
     "execution_count": 286
    }
   ],
   "source": [
    "raw_df['Date'].min(), raw_df['Date'].max()\n"
   ]
  },
  {
   "cell_type": "code",
   "execution_count": 287,
   "metadata": {},
   "outputs": [
    {
     "output_type": "execute_result",
     "data": {
      "text/plain": [
       "array(['CABERNET FRANC', 'CABERNET SAUVIGNON', 'MERLOT', 'OTHER',\n",
       "       'CHARDONNAY', 'RED BLEND', 'RIESLING', 'VIDAL', 'PINOT NOIR',\n",
       "       'CHENIN BLANC', 'PINOT BLANC', 'PINOT GRIGIO', 'SHIRAZ',\n",
       "       'ZINFANDEL', 'WHITE BLEND', 'SAUVIGNON BLANC', 'VIOGNIER', 'ROSE',\n",
       "       'GEWURZTRAMINER', 'TEMPRANILLO', 'MALBEC', 'UNASSIGNED'],\n",
       "      dtype=object)"
      ]
     },
     "metadata": {},
     "execution_count": 287
    }
   ],
   "source": [
    "raw_df['Varietal Group'].unique()"
   ]
  },
  {
   "cell_type": "code",
   "execution_count": 288,
   "metadata": {},
   "outputs": [],
   "source": [
    "cabernet_franc = raw_df.loc[raw_df['Varietal Group'] == 'CABERNET FRANC']\n",
    "cabernet_sav = raw_df.loc[raw_df['Varietal Group'] == 'CABERNET SAUVIGNON']\n",
    "merlot = raw_df.loc[raw_df['Varietal Group'] == 'MERLOT']\n",
    "chardonnay = raw_df.loc[raw_df['Varietal Group'] == 'CHARDONNAY']\n",
    "red_blend = raw_df.loc[raw_df['Varietal Group'] == 'RED BLEND']\n",
    "riesling = raw_df.loc[raw_df['Varietal Group'] == 'RIESLING']\n",
    "vidal = raw_df.loc[raw_df['Varietal Group'] == 'VIDAL']\n",
    "pinot_noir = raw_df.loc[raw_df['Varietal Group'] == 'PINOT NOIR']\n",
    "chenin_blanc = raw_df.loc[raw_df['Varietal Group'] == 'CHENIN BLANC']\n",
    "pinot_blanc = raw_df.loc[raw_df['Varietal Group'] == 'PINOT BLANC']\n",
    "pinot_grigio = raw_df.loc[raw_df['Varietal Group'] == 'PINOT GRIGIO']\n",
    "shiraz = raw_df.loc[raw_df['Varietal Group'] == 'SHIRAZ']\n",
    "zinfandel = raw_df.loc[raw_df['Varietal Group'] == 'ZINFANDEL']\n",
    "white_blend = raw_df.loc[raw_df['Varietal Group'] == 'WHITE BLEND']\n",
    "sav_blanc = raw_df.loc[raw_df['Varietal Group'] == 'SAUVIGNON BLANC']\n",
    "viognier = raw_df.loc[raw_df['Varietal Group'] == 'VIOGNIER']\n",
    "rose = raw_df.loc[raw_df['Varietal Group'] == 'ROSE']\n",
    "gewurz = raw_df.loc[raw_df['Varietal Group'] == 'GEWURZTRAMINER']\n",
    "tempranillo = raw_df.loc[raw_df['Varietal Group'] == 'TEMPRANILLO']\n",
    "malbec = raw_df.loc[raw_df['Varietal Group'] == 'MALBEC']\n",
    "unassigned = raw_df.loc[raw_df['Varietal Group'] == 'UNASSIGNED']\n",
    "other = raw_df.loc[raw_df['Varietal Group'] == 'OTHER']"
   ]
  },
  {
   "cell_type": "code",
   "execution_count": 289,
   "metadata": {},
   "outputs": [
    {
     "output_type": "execute_result",
     "data": {
      "text/plain": [
       "        Date                   Brand  Varietal Group  9L Cases  \\\n",
       "0   02/01/17     BLACK SAGE VINEYARD  CABERNET FRANC      17.0   \n",
       "8   02/01/17     INNISKILLIN ICEWINE  CABERNET FRANC       3.0   \n",
       "12  02/01/17     INNISKILLIN NIAGARA  CABERNET FRANC       2.0   \n",
       "25  02/01/17  JACKSON TRIGGS NIAGARA  CABERNET FRANC       0.0   \n",
       "77  03/01/18     BLACK SAGE VINEYARD  CABERNET FRANC      99.0   \n",
       "\n",
       "    Avg Sales Price  Sales Dollars  \n",
       "0             28.74         5912.0  \n",
       "8             69.99         5663.0  \n",
       "12            17.24          465.0  \n",
       "25            44.72          368.0  \n",
       "77            28.74        34285.0  "
      ],
      "text/html": "<div>\n<style scoped>\n    .dataframe tbody tr th:only-of-type {\n        vertical-align: middle;\n    }\n\n    .dataframe tbody tr th {\n        vertical-align: top;\n    }\n\n    .dataframe thead th {\n        text-align: right;\n    }\n</style>\n<table border=\"1\" class=\"dataframe\">\n  <thead>\n    <tr style=\"text-align: right;\">\n      <th></th>\n      <th>Date</th>\n      <th>Brand</th>\n      <th>Varietal Group</th>\n      <th>9L Cases</th>\n      <th>Avg Sales Price</th>\n      <th>Sales Dollars</th>\n    </tr>\n  </thead>\n  <tbody>\n    <tr>\n      <th>0</th>\n      <td>02/01/17</td>\n      <td>BLACK SAGE VINEYARD</td>\n      <td>CABERNET FRANC</td>\n      <td>17.0</td>\n      <td>28.74</td>\n      <td>5912.0</td>\n    </tr>\n    <tr>\n      <th>8</th>\n      <td>02/01/17</td>\n      <td>INNISKILLIN ICEWINE</td>\n      <td>CABERNET FRANC</td>\n      <td>3.0</td>\n      <td>69.99</td>\n      <td>5663.0</td>\n    </tr>\n    <tr>\n      <th>12</th>\n      <td>02/01/17</td>\n      <td>INNISKILLIN NIAGARA</td>\n      <td>CABERNET FRANC</td>\n      <td>2.0</td>\n      <td>17.24</td>\n      <td>465.0</td>\n    </tr>\n    <tr>\n      <th>25</th>\n      <td>02/01/17</td>\n      <td>JACKSON TRIGGS NIAGARA</td>\n      <td>CABERNET FRANC</td>\n      <td>0.0</td>\n      <td>44.72</td>\n      <td>368.0</td>\n    </tr>\n    <tr>\n      <th>77</th>\n      <td>03/01/18</td>\n      <td>BLACK SAGE VINEYARD</td>\n      <td>CABERNET FRANC</td>\n      <td>99.0</td>\n      <td>28.74</td>\n      <td>34285.0</td>\n    </tr>\n  </tbody>\n</table>\n</div>"
     },
     "metadata": {},
     "execution_count": 289
    }
   ],
   "source": [
    "cabernet_franc.head()"
   ]
  },
  {
   "cell_type": "code",
   "execution_count": 290,
   "metadata": {},
   "outputs": [
    {
     "output_type": "execute_result",
     "data": {
      "text/plain": [
       "Date                0\n",
       "Brand               0\n",
       "Varietal Group      0\n",
       "9L Cases            0\n",
       "Avg Sales Price    32\n",
       "Sales Dollars       0\n",
       "dtype: int64"
      ]
     },
     "metadata": {},
     "execution_count": 290
    }
   ],
   "source": [
    "varietal = cabernet_franc\n",
    "#cols = ['BC Sales Channel',\t'AWC and Comp',  'AWC FYr & Pd No',\t'Avg Sales Price']\n",
    "#varietal.drop(cols, axis=1, inplace=True)\n",
    "varietal = varietal.sort_values('Date')\n",
    "varietal.isnull().sum()"
   ]
  },
  {
   "cell_type": "code",
   "execution_count": 291,
   "metadata": {},
   "outputs": [
    {
     "output_type": "execute_result",
     "data": {
      "text/plain": [
       "          Date                   Brand  Varietal Group  9L Cases  \\\n",
       "900   01/01/18  JACKSON TRIGGS NIAGARA  CABERNET FRANC       3.0   \n",
       "888   01/01/18     INNISKILLIN NIAGARA  CABERNET FRANC       7.0   \n",
       "884   01/01/18     INNISKILLIN ICEWINE  CABERNET FRANC      11.0   \n",
       "876   01/01/18     BLACK SAGE VINEYARD  CABERNET FRANC      74.0   \n",
       "1885  01/01/19  JACKSON TRIGGS NIAGARA  CABERNET FRANC       9.0   \n",
       "\n",
       "      Avg Sales Price  Sales Dollars  \n",
       "900             44.72         3488.0  \n",
       "888             18.27         1425.0  \n",
       "884             66.92        18068.0  \n",
       "876             30.46        27143.0  \n",
       "1885            44.72         9929.0  "
      ],
      "text/html": "<div>\n<style scoped>\n    .dataframe tbody tr th:only-of-type {\n        vertical-align: middle;\n    }\n\n    .dataframe tbody tr th {\n        vertical-align: top;\n    }\n\n    .dataframe thead th {\n        text-align: right;\n    }\n</style>\n<table border=\"1\" class=\"dataframe\">\n  <thead>\n    <tr style=\"text-align: right;\">\n      <th></th>\n      <th>Date</th>\n      <th>Brand</th>\n      <th>Varietal Group</th>\n      <th>9L Cases</th>\n      <th>Avg Sales Price</th>\n      <th>Sales Dollars</th>\n    </tr>\n  </thead>\n  <tbody>\n    <tr>\n      <th>900</th>\n      <td>01/01/18</td>\n      <td>JACKSON TRIGGS NIAGARA</td>\n      <td>CABERNET FRANC</td>\n      <td>3.0</td>\n      <td>44.72</td>\n      <td>3488.0</td>\n    </tr>\n    <tr>\n      <th>888</th>\n      <td>01/01/18</td>\n      <td>INNISKILLIN NIAGARA</td>\n      <td>CABERNET FRANC</td>\n      <td>7.0</td>\n      <td>18.27</td>\n      <td>1425.0</td>\n    </tr>\n    <tr>\n      <th>884</th>\n      <td>01/01/18</td>\n      <td>INNISKILLIN ICEWINE</td>\n      <td>CABERNET FRANC</td>\n      <td>11.0</td>\n      <td>66.92</td>\n      <td>18068.0</td>\n    </tr>\n    <tr>\n      <th>876</th>\n      <td>01/01/18</td>\n      <td>BLACK SAGE VINEYARD</td>\n      <td>CABERNET FRANC</td>\n      <td>74.0</td>\n      <td>30.46</td>\n      <td>27143.0</td>\n    </tr>\n    <tr>\n      <th>1885</th>\n      <td>01/01/19</td>\n      <td>JACKSON TRIGGS NIAGARA</td>\n      <td>CABERNET FRANC</td>\n      <td>9.0</td>\n      <td>44.72</td>\n      <td>9929.0</td>\n    </tr>\n  </tbody>\n</table>\n</div>"
     },
     "metadata": {},
     "execution_count": 291
    }
   ],
   "source": [
    "varietal.head()\n"
   ]
  },
  {
   "cell_type": "code",
   "execution_count": 292,
   "metadata": {},
   "outputs": [
    {
     "output_type": "execute_result",
     "data": {
      "text/plain": [
       "       Date  9L Cases\n",
       "0  01/01/18      95.0\n",
       "1  01/01/19     143.0\n",
       "2  01/01/20     137.0\n",
       "3  02/01/17      22.0\n",
       "4  02/01/18     127.0"
      ],
      "text/html": "<div>\n<style scoped>\n    .dataframe tbody tr th:only-of-type {\n        vertical-align: middle;\n    }\n\n    .dataframe tbody tr th {\n        vertical-align: top;\n    }\n\n    .dataframe thead th {\n        text-align: right;\n    }\n</style>\n<table border=\"1\" class=\"dataframe\">\n  <thead>\n    <tr style=\"text-align: right;\">\n      <th></th>\n      <th>Date</th>\n      <th>9L Cases</th>\n    </tr>\n  </thead>\n  <tbody>\n    <tr>\n      <th>0</th>\n      <td>01/01/18</td>\n      <td>95.0</td>\n    </tr>\n    <tr>\n      <th>1</th>\n      <td>01/01/19</td>\n      <td>143.0</td>\n    </tr>\n    <tr>\n      <th>2</th>\n      <td>01/01/20</td>\n      <td>137.0</td>\n    </tr>\n    <tr>\n      <th>3</th>\n      <td>02/01/17</td>\n      <td>22.0</td>\n    </tr>\n    <tr>\n      <th>4</th>\n      <td>02/01/18</td>\n      <td>127.0</td>\n    </tr>\n  </tbody>\n</table>\n</div>"
     },
     "metadata": {},
     "execution_count": 292
    }
   ],
   "source": [
    "varietal_qty= varietal.groupby(['Date'])['9L Cases'].sum().reset_index()\n",
    "varietal_qty.head()\n"
   ]
  },
  {
   "cell_type": "code",
   "execution_count": 294,
   "metadata": {},
   "outputs": [
    {
     "output_type": "stream",
     "name": "stdout",
     "text": [
      "<class 'pandas.core.frame.DataFrame'>\nRangeIndex: 45 entries, 0 to 44\nData columns (total 2 columns):\n #   Column    Non-Null Count  Dtype  \n---  ------    --------------  -----  \n 0   Date      45 non-null     object \n 1   9L Cases  45 non-null     float64\ndtypes: float64(1), object(1)\nmemory usage: 848.0+ bytes\n"
     ]
    }
   ],
   "source": [
    "varietal_qty.info()"
   ]
  },
  {
   "cell_type": "code",
   "execution_count": 296,
   "metadata": {},
   "outputs": [
    {
     "output_type": "execute_result",
     "data": {
      "text/plain": [
       "Index(['01/01/18', '01/01/19', '01/01/20', '02/01/17', '02/01/18', '02/01/19',\n",
       "       '02/01/20', '03/01/18', '03/01/19', '03/01/20', '03/01/21', '04/01/18',\n",
       "       '04/01/19', '04/01/20', '04/01/21', '05/01/18', '05/01/19', '05/01/20',\n",
       "       '05/01/21', '06/01/18', '06/01/19', '06/01/20', '06/01/21', '07/01/18',\n",
       "       '07/01/19', '07/01/20', '07/01/21', '08/01/18', '08/01/19', '08/01/20',\n",
       "       '08/01/21', '09/01/18', '09/01/19', '09/01/20', '09/01/21', '10/01/18',\n",
       "       '10/01/19', '10/01/20', '10/01/21', '11/01/18', '11/01/19', '11/01/20',\n",
       "       '12/01/18', '12/01/19', '12/01/20'],\n",
       "      dtype='object', name='Date')"
      ]
     },
     "metadata": {},
     "execution_count": 296
    }
   ],
   "source": [
    "varietal_qty = varietal_qty.set_index('Date')\n",
    "varietal_qty.index\n",
    "varietal_qty.index"
   ]
  },
  {
   "cell_type": "code",
   "execution_count": 297,
   "metadata": {},
   "outputs": [
    {
     "output_type": "execute_result",
     "data": {
      "text/plain": [
       "          9L Cases\n",
       "Date              \n",
       "01/01/18      95.0\n",
       "01/01/19     143.0\n",
       "01/01/20     137.0\n",
       "02/01/17      22.0\n",
       "02/01/18     127.0"
      ],
      "text/html": "<div>\n<style scoped>\n    .dataframe tbody tr th:only-of-type {\n        vertical-align: middle;\n    }\n\n    .dataframe tbody tr th {\n        vertical-align: top;\n    }\n\n    .dataframe thead th {\n        text-align: right;\n    }\n</style>\n<table border=\"1\" class=\"dataframe\">\n  <thead>\n    <tr style=\"text-align: right;\">\n      <th></th>\n      <th>9L Cases</th>\n    </tr>\n    <tr>\n      <th>Date</th>\n      <th></th>\n    </tr>\n  </thead>\n  <tbody>\n    <tr>\n      <th>01/01/18</th>\n      <td>95.0</td>\n    </tr>\n    <tr>\n      <th>01/01/19</th>\n      <td>143.0</td>\n    </tr>\n    <tr>\n      <th>01/01/20</th>\n      <td>137.0</td>\n    </tr>\n    <tr>\n      <th>02/01/17</th>\n      <td>22.0</td>\n    </tr>\n    <tr>\n      <th>02/01/18</th>\n      <td>127.0</td>\n    </tr>\n  </tbody>\n</table>\n</div>"
     },
     "metadata": {},
     "execution_count": 297
    }
   ],
   "source": [
    "varietal_qty.head()"
   ]
  },
  {
   "cell_type": "code",
   "execution_count": 302,
   "metadata": {},
   "outputs": [
    {
     "output_type": "execute_result",
     "data": {
      "text/plain": [
       "          9L Cases\n",
       "Date              \n",
       "01/01/18      95.0\n",
       "01/01/19     143.0\n",
       "01/01/20     137.0\n",
       "02/01/17      22.0\n",
       "02/01/18     127.0"
      ],
      "text/html": "<div>\n<style scoped>\n    .dataframe tbody tr th:only-of-type {\n        vertical-align: middle;\n    }\n\n    .dataframe tbody tr th {\n        vertical-align: top;\n    }\n\n    .dataframe thead th {\n        text-align: right;\n    }\n</style>\n<table border=\"1\" class=\"dataframe\">\n  <thead>\n    <tr style=\"text-align: right;\">\n      <th></th>\n      <th>9L Cases</th>\n    </tr>\n    <tr>\n      <th>Date</th>\n      <th></th>\n    </tr>\n  </thead>\n  <tbody>\n    <tr>\n      <th>01/01/18</th>\n      <td>95.0</td>\n    </tr>\n    <tr>\n      <th>01/01/19</th>\n      <td>143.0</td>\n    </tr>\n    <tr>\n      <th>01/01/20</th>\n      <td>137.0</td>\n    </tr>\n    <tr>\n      <th>02/01/17</th>\n      <td>22.0</td>\n    </tr>\n    <tr>\n      <th>02/01/18</th>\n      <td>127.0</td>\n    </tr>\n  </tbody>\n</table>\n</div>"
     },
     "metadata": {},
     "execution_count": 302
    }
   ],
   "source": [
    "y=varietal_qty\n",
    "y.head(5)"
   ]
  },
  {
   "cell_type": "code",
   "execution_count": 303,
   "metadata": {},
   "outputs": [
    {
     "output_type": "display_data",
     "data": {
      "text/plain": "<Figure size 1080x432 with 1 Axes>",
      "image/svg+xml": "<?xml version=\"1.0\" encoding=\"utf-8\" standalone=\"no\"?>\r\n<!DOCTYPE svg PUBLIC \"-//W3C//DTD SVG 1.1//EN\"\r\n  \"http://www.w3.org/Graphics/SVG/1.1/DTD/svg11.dtd\">\r\n<!-- Created with matplotlib (https://matplotlib.org/) -->\r\n<svg height=\"396.983125pt\" version=\"1.1\" viewBox=\"0 0 980.405 396.983125\" width=\"980.405pt\" xmlns=\"http://www.w3.org/2000/svg\" xmlns:xlink=\"http://www.w3.org/1999/xlink\">\r\n <metadata>\r\n  <rdf:RDF xmlns:cc=\"http://creativecommons.org/ns#\" xmlns:dc=\"http://purl.org/dc/elements/1.1/\" xmlns:rdf=\"http://www.w3.org/1999/02/22-rdf-syntax-ns#\">\r\n   <cc:Work>\r\n    <dc:type rdf:resource=\"http://purl.org/dc/dcmitype/StillImage\"/>\r\n    <dc:date>2021-01-01T18:36:03.478299</dc:date>\r\n    <dc:format>image/svg+xml</dc:format>\r\n    <dc:creator>\r\n     <cc:Agent>\r\n      <dc:title>Matplotlib v3.3.3, https://matplotlib.org/</dc:title>\r\n     </cc:Agent>\r\n    </dc:creator>\r\n   </cc:Work>\r\n  </rdf:RDF>\r\n </metadata>\r\n <defs>\r\n  <style type=\"text/css\">*{stroke-linecap:butt;stroke-linejoin:round;}</style>\r\n </defs>\r\n <g id=\"figure_1\">\r\n  <g id=\"patch_1\">\r\n   <path d=\"M 0 396.983125 \r\nL 980.405 396.983125 \r\nL 980.405 0 \r\nL 0 0 \r\nz\r\n\" style=\"fill:#f0f0f0;\"/>\r\n  </g>\r\n  <g id=\"axes_1\">\r\n   <g id=\"patch_2\">\r\n    <path d=\"M 33.605 357.12 \r\nL 973.205 357.12 \r\nL 973.205 7.2 \r\nL 33.605 7.2 \r\nz\r\n\" style=\"fill:#f0f0f0;\"/>\r\n   </g>\r\n   <g id=\"matplotlib.axis_1\">\r\n    <g id=\"xtick_1\">\r\n     <g id=\"line2d_1\">\r\n      <path clip-path=\"url(#p9f7cb17f45)\" d=\"M 76.314091 357.12 \r\nL 76.314091 7.2 \r\n\" style=\"fill:none;stroke:#cbcbcb;\"/>\r\n     </g>\r\n     <g id=\"line2d_2\"/>\r\n     <g id=\"text_1\">\r\n      <!-- 01/01/18 -->\r\n      <g transform=\"translate(49.366591 369.738125)scale(0.12 -0.12)\">\r\n       <defs>\r\n        <path d=\"M 31.78125 66.40625 \r\nQ 24.171875 66.40625 20.328125 58.90625 \r\nQ 16.5 51.421875 16.5 36.375 \r\nQ 16.5 21.390625 20.328125 13.890625 \r\nQ 24.171875 6.390625 31.78125 6.390625 \r\nQ 39.453125 6.390625 43.28125 13.890625 \r\nQ 47.125 21.390625 47.125 36.375 \r\nQ 47.125 51.421875 43.28125 58.90625 \r\nQ 39.453125 66.40625 31.78125 66.40625 \r\nz\r\nM 31.78125 74.21875 \r\nQ 44.046875 74.21875 50.515625 64.515625 \r\nQ 56.984375 54.828125 56.984375 36.375 \r\nQ 56.984375 17.96875 50.515625 8.265625 \r\nQ 44.046875 -1.421875 31.78125 -1.421875 \r\nQ 19.53125 -1.421875 13.0625 8.265625 \r\nQ 6.59375 17.96875 6.59375 36.375 \r\nQ 6.59375 54.828125 13.0625 64.515625 \r\nQ 19.53125 74.21875 31.78125 74.21875 \r\nz\r\n\" id=\"DejaVuSans-48\"/>\r\n        <path d=\"M 12.40625 8.296875 \r\nL 28.515625 8.296875 \r\nL 28.515625 63.921875 \r\nL 10.984375 60.40625 \r\nL 10.984375 69.390625 \r\nL 28.421875 72.90625 \r\nL 38.28125 72.90625 \r\nL 38.28125 8.296875 \r\nL 54.390625 8.296875 \r\nL 54.390625 0 \r\nL 12.40625 0 \r\nz\r\n\" id=\"DejaVuSans-49\"/>\r\n        <path d=\"M 25.390625 72.90625 \r\nL 33.6875 72.90625 \r\nL 8.296875 -9.28125 \r\nL 0 -9.28125 \r\nz\r\n\" id=\"DejaVuSans-47\"/>\r\n        <path d=\"M 31.78125 34.625 \r\nQ 24.75 34.625 20.71875 30.859375 \r\nQ 16.703125 27.09375 16.703125 20.515625 \r\nQ 16.703125 13.921875 20.71875 10.15625 \r\nQ 24.75 6.390625 31.78125 6.390625 \r\nQ 38.8125 6.390625 42.859375 10.171875 \r\nQ 46.921875 13.96875 46.921875 20.515625 \r\nQ 46.921875 27.09375 42.890625 30.859375 \r\nQ 38.875 34.625 31.78125 34.625 \r\nz\r\nM 21.921875 38.8125 \r\nQ 15.578125 40.375 12.03125 44.71875 \r\nQ 8.5 49.078125 8.5 55.328125 \r\nQ 8.5 64.0625 14.71875 69.140625 \r\nQ 20.953125 74.21875 31.78125 74.21875 \r\nQ 42.671875 74.21875 48.875 69.140625 \r\nQ 55.078125 64.0625 55.078125 55.328125 \r\nQ 55.078125 49.078125 51.53125 44.71875 \r\nQ 48 40.375 41.703125 38.8125 \r\nQ 48.828125 37.15625 52.796875 32.3125 \r\nQ 56.78125 27.484375 56.78125 20.515625 \r\nQ 56.78125 9.90625 50.3125 4.234375 \r\nQ 43.84375 -1.421875 31.78125 -1.421875 \r\nQ 19.734375 -1.421875 13.25 4.234375 \r\nQ 6.78125 9.90625 6.78125 20.515625 \r\nQ 6.78125 27.484375 10.78125 32.3125 \r\nQ 14.796875 37.15625 21.921875 38.8125 \r\nz\r\nM 18.3125 54.390625 \r\nQ 18.3125 48.734375 21.84375 45.5625 \r\nQ 25.390625 42.390625 31.78125 42.390625 \r\nQ 38.140625 42.390625 41.71875 45.5625 \r\nQ 45.3125 48.734375 45.3125 54.390625 \r\nQ 45.3125 60.0625 41.71875 63.234375 \r\nQ 38.140625 66.40625 31.78125 66.40625 \r\nQ 25.390625 66.40625 21.84375 63.234375 \r\nQ 18.3125 60.0625 18.3125 54.390625 \r\nz\r\n\" id=\"DejaVuSans-56\"/>\r\n       </defs>\r\n       <use xlink:href=\"#DejaVuSans-48\"/>\r\n       <use x=\"63.623047\" xlink:href=\"#DejaVuSans-49\"/>\r\n       <use x=\"127.246094\" xlink:href=\"#DejaVuSans-47\"/>\r\n       <use x=\"160.9375\" xlink:href=\"#DejaVuSans-48\"/>\r\n       <use x=\"224.560547\" xlink:href=\"#DejaVuSans-49\"/>\r\n       <use x=\"288.183594\" xlink:href=\"#DejaVuSans-47\"/>\r\n       <use x=\"321.875\" xlink:href=\"#DejaVuSans-49\"/>\r\n       <use x=\"385.498047\" xlink:href=\"#DejaVuSans-56\"/>\r\n      </g>\r\n     </g>\r\n    </g>\r\n    <g id=\"xtick_2\">\r\n     <g id=\"line2d_3\">\r\n      <path clip-path=\"url(#p9f7cb17f45)\" d=\"M 270.446322 357.12 \r\nL 270.446322 7.2 \r\n\" style=\"fill:none;stroke:#cbcbcb;\"/>\r\n     </g>\r\n     <g id=\"line2d_4\"/>\r\n     <g id=\"text_2\">\r\n      <!-- 03/01/21 -->\r\n      <g transform=\"translate(243.498822 369.738125)scale(0.12 -0.12)\">\r\n       <defs>\r\n        <path d=\"M 40.578125 39.3125 \r\nQ 47.65625 37.796875 51.625 33 \r\nQ 55.609375 28.21875 55.609375 21.1875 \r\nQ 55.609375 10.40625 48.1875 4.484375 \r\nQ 40.765625 -1.421875 27.09375 -1.421875 \r\nQ 22.515625 -1.421875 17.65625 -0.515625 \r\nQ 12.796875 0.390625 7.625 2.203125 \r\nL 7.625 11.71875 \r\nQ 11.71875 9.328125 16.59375 8.109375 \r\nQ 21.484375 6.890625 26.8125 6.890625 \r\nQ 36.078125 6.890625 40.9375 10.546875 \r\nQ 45.796875 14.203125 45.796875 21.1875 \r\nQ 45.796875 27.640625 41.28125 31.265625 \r\nQ 36.765625 34.90625 28.71875 34.90625 \r\nL 20.21875 34.90625 \r\nL 20.21875 43.015625 \r\nL 29.109375 43.015625 \r\nQ 36.375 43.015625 40.234375 45.921875 \r\nQ 44.09375 48.828125 44.09375 54.296875 \r\nQ 44.09375 59.90625 40.109375 62.90625 \r\nQ 36.140625 65.921875 28.71875 65.921875 \r\nQ 24.65625 65.921875 20.015625 65.03125 \r\nQ 15.375 64.15625 9.8125 62.3125 \r\nL 9.8125 71.09375 \r\nQ 15.4375 72.65625 20.34375 73.4375 \r\nQ 25.25 74.21875 29.59375 74.21875 \r\nQ 40.828125 74.21875 47.359375 69.109375 \r\nQ 53.90625 64.015625 53.90625 55.328125 \r\nQ 53.90625 49.265625 50.4375 45.09375 \r\nQ 46.96875 40.921875 40.578125 39.3125 \r\nz\r\n\" id=\"DejaVuSans-51\"/>\r\n        <path d=\"M 19.1875 8.296875 \r\nL 53.609375 8.296875 \r\nL 53.609375 0 \r\nL 7.328125 0 \r\nL 7.328125 8.296875 \r\nQ 12.9375 14.109375 22.625 23.890625 \r\nQ 32.328125 33.6875 34.8125 36.53125 \r\nQ 39.546875 41.84375 41.421875 45.53125 \r\nQ 43.3125 49.21875 43.3125 52.78125 \r\nQ 43.3125 58.59375 39.234375 62.25 \r\nQ 35.15625 65.921875 28.609375 65.921875 \r\nQ 23.96875 65.921875 18.8125 64.3125 \r\nQ 13.671875 62.703125 7.8125 59.421875 \r\nL 7.8125 69.390625 \r\nQ 13.765625 71.78125 18.9375 73 \r\nQ 24.125 74.21875 28.421875 74.21875 \r\nQ 39.75 74.21875 46.484375 68.546875 \r\nQ 53.21875 62.890625 53.21875 53.421875 \r\nQ 53.21875 48.921875 51.53125 44.890625 \r\nQ 49.859375 40.875 45.40625 35.40625 \r\nQ 44.1875 33.984375 37.640625 27.21875 \r\nQ 31.109375 20.453125 19.1875 8.296875 \r\nz\r\n\" id=\"DejaVuSans-50\"/>\r\n       </defs>\r\n       <use xlink:href=\"#DejaVuSans-48\"/>\r\n       <use x=\"63.623047\" xlink:href=\"#DejaVuSans-51\"/>\r\n       <use x=\"127.246094\" xlink:href=\"#DejaVuSans-47\"/>\r\n       <use x=\"160.9375\" xlink:href=\"#DejaVuSans-48\"/>\r\n       <use x=\"224.560547\" xlink:href=\"#DejaVuSans-49\"/>\r\n       <use x=\"288.183594\" xlink:href=\"#DejaVuSans-47\"/>\r\n       <use x=\"321.875\" xlink:href=\"#DejaVuSans-50\"/>\r\n       <use x=\"385.498047\" xlink:href=\"#DejaVuSans-49\"/>\r\n      </g>\r\n     </g>\r\n    </g>\r\n    <g id=\"xtick_3\">\r\n     <g id=\"line2d_5\">\r\n      <path clip-path=\"url(#p9f7cb17f45)\" d=\"M 464.578554 357.12 \r\nL 464.578554 7.2 \r\n\" style=\"fill:none;stroke:#cbcbcb;\"/>\r\n     </g>\r\n     <g id=\"line2d_6\"/>\r\n     <g id=\"text_3\">\r\n      <!-- 06/01/19 -->\r\n      <g transform=\"translate(437.631054 369.738125)scale(0.12 -0.12)\">\r\n       <defs>\r\n        <path d=\"M 33.015625 40.375 \r\nQ 26.375 40.375 22.484375 35.828125 \r\nQ 18.609375 31.296875 18.609375 23.390625 \r\nQ 18.609375 15.53125 22.484375 10.953125 \r\nQ 26.375 6.390625 33.015625 6.390625 \r\nQ 39.65625 6.390625 43.53125 10.953125 \r\nQ 47.40625 15.53125 47.40625 23.390625 \r\nQ 47.40625 31.296875 43.53125 35.828125 \r\nQ 39.65625 40.375 33.015625 40.375 \r\nz\r\nM 52.59375 71.296875 \r\nL 52.59375 62.3125 \r\nQ 48.875 64.0625 45.09375 64.984375 \r\nQ 41.3125 65.921875 37.59375 65.921875 \r\nQ 27.828125 65.921875 22.671875 59.328125 \r\nQ 17.53125 52.734375 16.796875 39.40625 \r\nQ 19.671875 43.65625 24.015625 45.921875 \r\nQ 28.375 48.1875 33.59375 48.1875 \r\nQ 44.578125 48.1875 50.953125 41.515625 \r\nQ 57.328125 34.859375 57.328125 23.390625 \r\nQ 57.328125 12.15625 50.6875 5.359375 \r\nQ 44.046875 -1.421875 33.015625 -1.421875 \r\nQ 20.359375 -1.421875 13.671875 8.265625 \r\nQ 6.984375 17.96875 6.984375 36.375 \r\nQ 6.984375 53.65625 15.1875 63.9375 \r\nQ 23.390625 74.21875 37.203125 74.21875 \r\nQ 40.921875 74.21875 44.703125 73.484375 \r\nQ 48.484375 72.75 52.59375 71.296875 \r\nz\r\n\" id=\"DejaVuSans-54\"/>\r\n        <path d=\"M 10.984375 1.515625 \r\nL 10.984375 10.5 \r\nQ 14.703125 8.734375 18.5 7.8125 \r\nQ 22.3125 6.890625 25.984375 6.890625 \r\nQ 35.75 6.890625 40.890625 13.453125 \r\nQ 46.046875 20.015625 46.78125 33.40625 \r\nQ 43.953125 29.203125 39.59375 26.953125 \r\nQ 35.25 24.703125 29.984375 24.703125 \r\nQ 19.046875 24.703125 12.671875 31.3125 \r\nQ 6.296875 37.9375 6.296875 49.421875 \r\nQ 6.296875 60.640625 12.9375 67.421875 \r\nQ 19.578125 74.21875 30.609375 74.21875 \r\nQ 43.265625 74.21875 49.921875 64.515625 \r\nQ 56.59375 54.828125 56.59375 36.375 \r\nQ 56.59375 19.140625 48.40625 8.859375 \r\nQ 40.234375 -1.421875 26.421875 -1.421875 \r\nQ 22.703125 -1.421875 18.890625 -0.6875 \r\nQ 15.09375 0.046875 10.984375 1.515625 \r\nz\r\nM 30.609375 32.421875 \r\nQ 37.25 32.421875 41.125 36.953125 \r\nQ 45.015625 41.5 45.015625 49.421875 \r\nQ 45.015625 57.28125 41.125 61.84375 \r\nQ 37.25 66.40625 30.609375 66.40625 \r\nQ 23.96875 66.40625 20.09375 61.84375 \r\nQ 16.21875 57.28125 16.21875 49.421875 \r\nQ 16.21875 41.5 20.09375 36.953125 \r\nQ 23.96875 32.421875 30.609375 32.421875 \r\nz\r\n\" id=\"DejaVuSans-57\"/>\r\n       </defs>\r\n       <use xlink:href=\"#DejaVuSans-48\"/>\r\n       <use x=\"63.623047\" xlink:href=\"#DejaVuSans-54\"/>\r\n       <use x=\"127.246094\" xlink:href=\"#DejaVuSans-47\"/>\r\n       <use x=\"160.9375\" xlink:href=\"#DejaVuSans-48\"/>\r\n       <use x=\"224.560547\" xlink:href=\"#DejaVuSans-49\"/>\r\n       <use x=\"288.183594\" xlink:href=\"#DejaVuSans-47\"/>\r\n       <use x=\"321.875\" xlink:href=\"#DejaVuSans-49\"/>\r\n       <use x=\"385.498047\" xlink:href=\"#DejaVuSans-57\"/>\r\n      </g>\r\n     </g>\r\n    </g>\r\n    <g id=\"xtick_4\">\r\n     <g id=\"line2d_7\">\r\n      <path clip-path=\"url(#p9f7cb17f45)\" d=\"M 658.710785 357.12 \r\nL 658.710785 7.2 \r\n\" style=\"fill:none;stroke:#cbcbcb;\"/>\r\n     </g>\r\n     <g id=\"line2d_8\"/>\r\n     <g id=\"text_4\">\r\n      <!-- 08/01/21 -->\r\n      <g transform=\"translate(631.763285 369.738125)scale(0.12 -0.12)\">\r\n       <use xlink:href=\"#DejaVuSans-48\"/>\r\n       <use x=\"63.623047\" xlink:href=\"#DejaVuSans-56\"/>\r\n       <use x=\"127.246094\" xlink:href=\"#DejaVuSans-47\"/>\r\n       <use x=\"160.9375\" xlink:href=\"#DejaVuSans-48\"/>\r\n       <use x=\"224.560547\" xlink:href=\"#DejaVuSans-49\"/>\r\n       <use x=\"288.183594\" xlink:href=\"#DejaVuSans-47\"/>\r\n       <use x=\"321.875\" xlink:href=\"#DejaVuSans-50\"/>\r\n       <use x=\"385.498047\" xlink:href=\"#DejaVuSans-49\"/>\r\n      </g>\r\n     </g>\r\n    </g>\r\n    <g id=\"xtick_5\">\r\n     <g id=\"line2d_9\">\r\n      <path clip-path=\"url(#p9f7cb17f45)\" d=\"M 852.843017 357.12 \r\nL 852.843017 7.2 \r\n\" style=\"fill:none;stroke:#cbcbcb;\"/>\r\n     </g>\r\n     <g id=\"line2d_10\"/>\r\n     <g id=\"text_5\">\r\n      <!-- 11/01/19 -->\r\n      <g transform=\"translate(825.895517 369.738125)scale(0.12 -0.12)\">\r\n       <use xlink:href=\"#DejaVuSans-49\"/>\r\n       <use x=\"63.623047\" xlink:href=\"#DejaVuSans-49\"/>\r\n       <use x=\"127.246094\" xlink:href=\"#DejaVuSans-47\"/>\r\n       <use x=\"160.9375\" xlink:href=\"#DejaVuSans-48\"/>\r\n       <use x=\"224.560547\" xlink:href=\"#DejaVuSans-49\"/>\r\n       <use x=\"288.183594\" xlink:href=\"#DejaVuSans-47\"/>\r\n       <use x=\"321.875\" xlink:href=\"#DejaVuSans-49\"/>\r\n       <use x=\"385.498047\" xlink:href=\"#DejaVuSans-57\"/>\r\n      </g>\r\n     </g>\r\n    </g>\r\n    <g id=\"text_6\">\r\n     <!-- Date -->\r\n     <g transform=\"translate(486.673906 386.871563)scale(0.14 -0.14)\">\r\n      <defs>\r\n       <path d=\"M 19.671875 64.796875 \r\nL 19.671875 8.109375 \r\nL 31.59375 8.109375 \r\nQ 46.6875 8.109375 53.6875 14.9375 \r\nQ 60.6875 21.78125 60.6875 36.53125 \r\nQ 60.6875 51.171875 53.6875 57.984375 \r\nQ 46.6875 64.796875 31.59375 64.796875 \r\nz\r\nM 9.8125 72.90625 \r\nL 30.078125 72.90625 \r\nQ 51.265625 72.90625 61.171875 64.09375 \r\nQ 71.09375 55.28125 71.09375 36.53125 \r\nQ 71.09375 17.671875 61.125 8.828125 \r\nQ 51.171875 0 30.078125 0 \r\nL 9.8125 0 \r\nz\r\n\" id=\"DejaVuSans-68\"/>\r\n       <path d=\"M 34.28125 27.484375 \r\nQ 23.390625 27.484375 19.1875 25 \r\nQ 14.984375 22.515625 14.984375 16.5 \r\nQ 14.984375 11.71875 18.140625 8.90625 \r\nQ 21.296875 6.109375 26.703125 6.109375 \r\nQ 34.1875 6.109375 38.703125 11.40625 \r\nQ 43.21875 16.703125 43.21875 25.484375 \r\nL 43.21875 27.484375 \r\nz\r\nM 52.203125 31.203125 \r\nL 52.203125 0 \r\nL 43.21875 0 \r\nL 43.21875 8.296875 \r\nQ 40.140625 3.328125 35.546875 0.953125 \r\nQ 30.953125 -1.421875 24.3125 -1.421875 \r\nQ 15.921875 -1.421875 10.953125 3.296875 \r\nQ 6 8.015625 6 15.921875 \r\nQ 6 25.140625 12.171875 29.828125 \r\nQ 18.359375 34.515625 30.609375 34.515625 \r\nL 43.21875 34.515625 \r\nL 43.21875 35.40625 \r\nQ 43.21875 41.609375 39.140625 45 \r\nQ 35.0625 48.390625 27.6875 48.390625 \r\nQ 23 48.390625 18.546875 47.265625 \r\nQ 14.109375 46.140625 10.015625 43.890625 \r\nL 10.015625 52.203125 \r\nQ 14.9375 54.109375 19.578125 55.046875 \r\nQ 24.21875 56 28.609375 56 \r\nQ 40.484375 56 46.34375 49.84375 \r\nQ 52.203125 43.703125 52.203125 31.203125 \r\nz\r\n\" id=\"DejaVuSans-97\"/>\r\n       <path d=\"M 18.3125 70.21875 \r\nL 18.3125 54.6875 \r\nL 36.8125 54.6875 \r\nL 36.8125 47.703125 \r\nL 18.3125 47.703125 \r\nL 18.3125 18.015625 \r\nQ 18.3125 11.328125 20.140625 9.421875 \r\nQ 21.96875 7.515625 27.59375 7.515625 \r\nL 36.8125 7.515625 \r\nL 36.8125 0 \r\nL 27.59375 0 \r\nQ 17.1875 0 13.234375 3.875 \r\nQ 9.28125 7.765625 9.28125 18.015625 \r\nL 9.28125 47.703125 \r\nL 2.6875 47.703125 \r\nL 2.6875 54.6875 \r\nL 9.28125 54.6875 \r\nL 9.28125 70.21875 \r\nz\r\n\" id=\"DejaVuSans-116\"/>\r\n       <path d=\"M 56.203125 29.59375 \r\nL 56.203125 25.203125 \r\nL 14.890625 25.203125 \r\nQ 15.484375 15.921875 20.484375 11.0625 \r\nQ 25.484375 6.203125 34.421875 6.203125 \r\nQ 39.59375 6.203125 44.453125 7.46875 \r\nQ 49.3125 8.734375 54.109375 11.28125 \r\nL 54.109375 2.78125 \r\nQ 49.265625 0.734375 44.1875 -0.34375 \r\nQ 39.109375 -1.421875 33.890625 -1.421875 \r\nQ 20.796875 -1.421875 13.15625 6.1875 \r\nQ 5.515625 13.8125 5.515625 26.8125 \r\nQ 5.515625 40.234375 12.765625 48.109375 \r\nQ 20.015625 56 32.328125 56 \r\nQ 43.359375 56 49.78125 48.890625 \r\nQ 56.203125 41.796875 56.203125 29.59375 \r\nz\r\nM 47.21875 32.234375 \r\nQ 47.125 39.59375 43.09375 43.984375 \r\nQ 39.0625 48.390625 32.421875 48.390625 \r\nQ 24.90625 48.390625 20.390625 44.140625 \r\nQ 15.875 39.890625 15.1875 32.171875 \r\nz\r\n\" id=\"DejaVuSans-101\"/>\r\n      </defs>\r\n      <use xlink:href=\"#DejaVuSans-68\"/>\r\n      <use x=\"77.001953\" xlink:href=\"#DejaVuSans-97\"/>\r\n      <use x=\"138.28125\" xlink:href=\"#DejaVuSans-116\"/>\r\n      <use x=\"177.490234\" xlink:href=\"#DejaVuSans-101\"/>\r\n     </g>\r\n    </g>\r\n   </g>\r\n   <g id=\"matplotlib.axis_2\">\r\n    <g id=\"ytick_1\">\r\n     <g id=\"line2d_11\">\r\n      <path clip-path=\"url(#p9f7cb17f45)\" d=\"M 33.605 353.985348 \r\nL 973.205 353.985348 \r\n\" style=\"fill:none;stroke:#cbcbcb;\"/>\r\n     </g>\r\n     <g id=\"line2d_12\"/>\r\n     <g id=\"text_7\">\r\n      <!-- 0 -->\r\n      <g transform=\"translate(22.47 358.544411)scale(0.12 -0.12)\">\r\n       <use xlink:href=\"#DejaVuSans-48\"/>\r\n      </g>\r\n     </g>\r\n    </g>\r\n    <g id=\"ytick_2\">\r\n     <g id=\"line2d_13\">\r\n      <path clip-path=\"url(#p9f7cb17f45)\" d=\"M 33.605 295.936244 \r\nL 973.205 295.936244 \r\n\" style=\"fill:none;stroke:#cbcbcb;\"/>\r\n     </g>\r\n     <g id=\"line2d_14\"/>\r\n     <g id=\"text_8\">\r\n      <!-- 100 -->\r\n      <g transform=\"translate(7.2 300.495307)scale(0.12 -0.12)\">\r\n       <use xlink:href=\"#DejaVuSans-49\"/>\r\n       <use x=\"63.623047\" xlink:href=\"#DejaVuSans-48\"/>\r\n       <use x=\"127.246094\" xlink:href=\"#DejaVuSans-48\"/>\r\n      </g>\r\n     </g>\r\n    </g>\r\n    <g id=\"ytick_3\">\r\n     <g id=\"line2d_15\">\r\n      <path clip-path=\"url(#p9f7cb17f45)\" d=\"M 33.605 237.88714 \r\nL 973.205 237.88714 \r\n\" style=\"fill:none;stroke:#cbcbcb;\"/>\r\n     </g>\r\n     <g id=\"line2d_16\"/>\r\n     <g id=\"text_9\">\r\n      <!-- 200 -->\r\n      <g transform=\"translate(7.2 242.446203)scale(0.12 -0.12)\">\r\n       <use xlink:href=\"#DejaVuSans-50\"/>\r\n       <use x=\"63.623047\" xlink:href=\"#DejaVuSans-48\"/>\r\n       <use x=\"127.246094\" xlink:href=\"#DejaVuSans-48\"/>\r\n      </g>\r\n     </g>\r\n    </g>\r\n    <g id=\"ytick_4\">\r\n     <g id=\"line2d_17\">\r\n      <path clip-path=\"url(#p9f7cb17f45)\" d=\"M 33.605 179.838036 \r\nL 973.205 179.838036 \r\n\" style=\"fill:none;stroke:#cbcbcb;\"/>\r\n     </g>\r\n     <g id=\"line2d_18\"/>\r\n     <g id=\"text_10\">\r\n      <!-- 300 -->\r\n      <g transform=\"translate(7.2 184.397098)scale(0.12 -0.12)\">\r\n       <use xlink:href=\"#DejaVuSans-51\"/>\r\n       <use x=\"63.623047\" xlink:href=\"#DejaVuSans-48\"/>\r\n       <use x=\"127.246094\" xlink:href=\"#DejaVuSans-48\"/>\r\n      </g>\r\n     </g>\r\n    </g>\r\n    <g id=\"ytick_5\">\r\n     <g id=\"line2d_19\">\r\n      <path clip-path=\"url(#p9f7cb17f45)\" d=\"M 33.605 121.788932 \r\nL 973.205 121.788932 \r\n\" style=\"fill:none;stroke:#cbcbcb;\"/>\r\n     </g>\r\n     <g id=\"line2d_20\"/>\r\n     <g id=\"text_11\">\r\n      <!-- 400 -->\r\n      <g transform=\"translate(7.2 126.347994)scale(0.12 -0.12)\">\r\n       <defs>\r\n        <path d=\"M 37.796875 64.3125 \r\nL 12.890625 25.390625 \r\nL 37.796875 25.390625 \r\nz\r\nM 35.203125 72.90625 \r\nL 47.609375 72.90625 \r\nL 47.609375 25.390625 \r\nL 58.015625 25.390625 \r\nL 58.015625 17.1875 \r\nL 47.609375 17.1875 \r\nL 47.609375 0 \r\nL 37.796875 0 \r\nL 37.796875 17.1875 \r\nL 4.890625 17.1875 \r\nL 4.890625 26.703125 \r\nz\r\n\" id=\"DejaVuSans-52\"/>\r\n       </defs>\r\n       <use xlink:href=\"#DejaVuSans-52\"/>\r\n       <use x=\"63.623047\" xlink:href=\"#DejaVuSans-48\"/>\r\n       <use x=\"127.246094\" xlink:href=\"#DejaVuSans-48\"/>\r\n      </g>\r\n     </g>\r\n    </g>\r\n    <g id=\"ytick_6\">\r\n     <g id=\"line2d_21\">\r\n      <path clip-path=\"url(#p9f7cb17f45)\" d=\"M 33.605 63.739827 \r\nL 973.205 63.739827 \r\n\" style=\"fill:none;stroke:#cbcbcb;\"/>\r\n     </g>\r\n     <g id=\"line2d_22\"/>\r\n     <g id=\"text_12\">\r\n      <!-- 500 -->\r\n      <g transform=\"translate(7.2 68.29889)scale(0.12 -0.12)\">\r\n       <defs>\r\n        <path d=\"M 10.796875 72.90625 \r\nL 49.515625 72.90625 \r\nL 49.515625 64.59375 \r\nL 19.828125 64.59375 \r\nL 19.828125 46.734375 \r\nQ 21.96875 47.46875 24.109375 47.828125 \r\nQ 26.265625 48.1875 28.421875 48.1875 \r\nQ 40.625 48.1875 47.75 41.5 \r\nQ 54.890625 34.8125 54.890625 23.390625 \r\nQ 54.890625 11.625 47.5625 5.09375 \r\nQ 40.234375 -1.421875 26.90625 -1.421875 \r\nQ 22.3125 -1.421875 17.546875 -0.640625 \r\nQ 12.796875 0.140625 7.71875 1.703125 \r\nL 7.71875 11.625 \r\nQ 12.109375 9.234375 16.796875 8.0625 \r\nQ 21.484375 6.890625 26.703125 6.890625 \r\nQ 35.15625 6.890625 40.078125 11.328125 \r\nQ 45.015625 15.765625 45.015625 23.390625 \r\nQ 45.015625 31 40.078125 35.4375 \r\nQ 35.15625 39.890625 26.703125 39.890625 \r\nQ 22.75 39.890625 18.8125 39.015625 \r\nQ 14.890625 38.140625 10.796875 36.28125 \r\nz\r\n\" id=\"DejaVuSans-53\"/>\r\n       </defs>\r\n       <use xlink:href=\"#DejaVuSans-53\"/>\r\n       <use x=\"63.623047\" xlink:href=\"#DejaVuSans-48\"/>\r\n       <use x=\"127.246094\" xlink:href=\"#DejaVuSans-48\"/>\r\n      </g>\r\n     </g>\r\n    </g>\r\n   </g>\r\n   <g id=\"line2d_23\">\r\n    <path clip-path=\"url(#p9f7cb17f45)\" d=\"M 76.314091 298.838699 \r\nL 95.727314 270.975129 \r\nL 115.140537 274.458076 \r\nL 134.55376 341.214545 \r\nL 153.966983 280.262986 \r\nL 173.380207 281.423968 \r\nL 192.79343 321.47785 \r\nL 212.206653 282.58495 \r\nL 231.619876 280.262986 \r\nL 251.033099 283.745932 \r\nL 270.446322 285.487405 \r\nL 289.859545 286.648388 \r\nL 309.272769 299.999681 \r\nL 328.685992 284.906914 \r\nL 348.099215 280.843477 \r\nL 367.512438 286.648388 \r\nL 386.925661 290.131334 \r\nL 406.338884 262.848255 \r\nL 425.752107 257.043344 \r\nL 445.165331 298.838699 \r\nL 464.578554 287.80937 \r\nL 483.991777 261.687273 \r\nL 503.405 269.233656 \r\nL 522.818223 327.28276 \r\nL 542.231446 288.970352 \r\nL 561.644669 255.882362 \r\nL 581.057893 266.331201 \r\nL 600.471116 293.61428 \r\nL 619.884339 264.009237 \r\nL 639.297562 207.701606 \r\nL 658.710785 237.88714 \r\nL 678.124008 306.385083 \r\nL 697.537231 295.936244 \r\nL 716.950455 255.301871 \r\nL 736.363678 284.906914 \r\nL 755.776901 272.136111 \r\nL 775.190124 277.360531 \r\nL 794.603347 138.042681 \r\nL 814.01657 258.204326 \r\nL 833.429793 284.906914 \r\nL 852.843017 282.58495 \r\nL 872.25624 303.482628 \r\nL 891.669463 225.116337 \r\nL 911.082686 216.408971 \r\nL 930.495909 23.105455 \r\n\" style=\"fill:none;stroke:#008fd5;stroke-width:4;\"/>\r\n   </g>\r\n   <g id=\"patch_3\">\r\n    <path d=\"M 33.605 357.12 \r\nL 33.605 7.2 \r\n\" style=\"fill:none;stroke:#f0f0f0;stroke-linecap:square;stroke-linejoin:miter;stroke-width:3;\"/>\r\n   </g>\r\n   <g id=\"patch_4\">\r\n    <path d=\"M 973.205 357.12 \r\nL 973.205 7.2 \r\n\" style=\"fill:none;stroke:#f0f0f0;stroke-linecap:square;stroke-linejoin:miter;stroke-width:3;\"/>\r\n   </g>\r\n   <g id=\"patch_5\">\r\n    <path d=\"M 33.605 357.12 \r\nL 973.205 357.12 \r\n\" style=\"fill:none;stroke:#f0f0f0;stroke-linecap:square;stroke-linejoin:miter;stroke-width:3;\"/>\r\n   </g>\r\n   <g id=\"patch_6\">\r\n    <path d=\"M 33.605 7.2 \r\nL 973.205 7.2 \r\n\" style=\"fill:none;stroke:#f0f0f0;stroke-linecap:square;stroke-linejoin:miter;stroke-width:3;\"/>\r\n   </g>\r\n   <g id=\"legend_1\">\r\n    <g id=\"patch_7\">\r\n     <path d=\"M 43.405 38.949375 \r\nL 150.918437 38.949375 \r\nQ 153.718437 38.949375 153.718437 36.149375 \r\nL 153.718437 17 \r\nQ 153.718437 14.2 150.918437 14.2 \r\nL 43.405 14.2 \r\nQ 40.605 14.2 40.605 17 \r\nL 40.605 36.149375 \r\nQ 40.605 38.949375 43.405 38.949375 \r\nz\r\n\" style=\"fill:#f0f0f0;opacity:0.8;stroke:#cccccc;stroke-linejoin:miter;stroke-width:0.5;\"/>\r\n    </g>\r\n    <g id=\"line2d_24\">\r\n     <path d=\"M 46.205 25.537812 \r\nL 74.205 25.537812 \r\n\" style=\"fill:none;stroke:#008fd5;stroke-width:4;\"/>\r\n    </g>\r\n    <g id=\"line2d_25\"/>\r\n    <g id=\"text_13\">\r\n     <!-- 9L Cases -->\r\n     <g transform=\"translate(85.405 30.437812)scale(0.14 -0.14)\">\r\n      <defs>\r\n       <path d=\"M 9.8125 72.90625 \r\nL 19.671875 72.90625 \r\nL 19.671875 8.296875 \r\nL 55.171875 8.296875 \r\nL 55.171875 0 \r\nL 9.8125 0 \r\nz\r\n\" id=\"DejaVuSans-76\"/>\r\n       <path id=\"DejaVuSans-32\"/>\r\n       <path d=\"M 64.40625 67.28125 \r\nL 64.40625 56.890625 \r\nQ 59.421875 61.53125 53.78125 63.8125 \r\nQ 48.140625 66.109375 41.796875 66.109375 \r\nQ 29.296875 66.109375 22.65625 58.46875 \r\nQ 16.015625 50.828125 16.015625 36.375 \r\nQ 16.015625 21.96875 22.65625 14.328125 \r\nQ 29.296875 6.6875 41.796875 6.6875 \r\nQ 48.140625 6.6875 53.78125 8.984375 \r\nQ 59.421875 11.28125 64.40625 15.921875 \r\nL 64.40625 5.609375 \r\nQ 59.234375 2.09375 53.4375 0.328125 \r\nQ 47.65625 -1.421875 41.21875 -1.421875 \r\nQ 24.65625 -1.421875 15.125 8.703125 \r\nQ 5.609375 18.84375 5.609375 36.375 \r\nQ 5.609375 53.953125 15.125 64.078125 \r\nQ 24.65625 74.21875 41.21875 74.21875 \r\nQ 47.75 74.21875 53.53125 72.484375 \r\nQ 59.328125 70.75 64.40625 67.28125 \r\nz\r\n\" id=\"DejaVuSans-67\"/>\r\n       <path d=\"M 44.28125 53.078125 \r\nL 44.28125 44.578125 \r\nQ 40.484375 46.53125 36.375 47.5 \r\nQ 32.28125 48.484375 27.875 48.484375 \r\nQ 21.1875 48.484375 17.84375 46.4375 \r\nQ 14.5 44.390625 14.5 40.28125 \r\nQ 14.5 37.15625 16.890625 35.375 \r\nQ 19.28125 33.59375 26.515625 31.984375 \r\nL 29.59375 31.296875 \r\nQ 39.15625 29.25 43.1875 25.515625 \r\nQ 47.21875 21.78125 47.21875 15.09375 \r\nQ 47.21875 7.46875 41.1875 3.015625 \r\nQ 35.15625 -1.421875 24.609375 -1.421875 \r\nQ 20.21875 -1.421875 15.453125 -0.5625 \r\nQ 10.6875 0.296875 5.421875 2 \r\nL 5.421875 11.28125 \r\nQ 10.40625 8.6875 15.234375 7.390625 \r\nQ 20.0625 6.109375 24.8125 6.109375 \r\nQ 31.15625 6.109375 34.5625 8.28125 \r\nQ 37.984375 10.453125 37.984375 14.40625 \r\nQ 37.984375 18.0625 35.515625 20.015625 \r\nQ 33.0625 21.96875 24.703125 23.78125 \r\nL 21.578125 24.515625 \r\nQ 13.234375 26.265625 9.515625 29.90625 \r\nQ 5.8125 33.546875 5.8125 39.890625 \r\nQ 5.8125 47.609375 11.28125 51.796875 \r\nQ 16.75 56 26.8125 56 \r\nQ 31.78125 56 36.171875 55.265625 \r\nQ 40.578125 54.546875 44.28125 53.078125 \r\nz\r\n\" id=\"DejaVuSans-115\"/>\r\n      </defs>\r\n      <use xlink:href=\"#DejaVuSans-57\"/>\r\n      <use x=\"63.623047\" xlink:href=\"#DejaVuSans-76\"/>\r\n      <use x=\"119.335938\" xlink:href=\"#DejaVuSans-32\"/>\r\n      <use x=\"151.123047\" xlink:href=\"#DejaVuSans-67\"/>\r\n      <use x=\"220.947266\" xlink:href=\"#DejaVuSans-97\"/>\r\n      <use x=\"282.226562\" xlink:href=\"#DejaVuSans-115\"/>\r\n      <use x=\"334.326172\" xlink:href=\"#DejaVuSans-101\"/>\r\n      <use x=\"395.849609\" xlink:href=\"#DejaVuSans-115\"/>\r\n     </g>\r\n    </g>\r\n   </g>\r\n  </g>\r\n </g>\r\n <defs>\r\n  <clipPath id=\"p9f7cb17f45\">\r\n   <rect height=\"349.92\" width=\"939.6\" x=\"33.605\" y=\"7.2\"/>\r\n  </clipPath>\r\n </defs>\r\n</svg>\r\n",
      "image/png": "[encoded data removed]"
     },
     "metadata": {}
    }
   ],
   "source": [
    "y.plot(figsize=(15, 6))\n",
    "plt.show()"
   ]
  },
  {
   "source": [
    "#varietal_qty_df=pd.DataFrame(data=varietal_qty)\n",
    "#varietal_qty_df.head()"
   ],
   "cell_type": "code",
   "metadata": {},
   "execution_count": null,
   "outputs": []
  },
  {
   "source": [
    "varietal_qty.dtypes()"
   ],
   "cell_type": "code",
   "metadata": {},
   "execution_count": 299,
   "outputs": [
    {
     "output_type": "error",
     "ename": "TypeError",
     "evalue": "'Series' object is not callable",
     "traceback": [
      "\u001b[1;31m---------------------------------------------------------------------------\u001b[0m",
      "\u001b[1;31mTypeError\u001b[0m                                 Traceback (most recent call last)",
      "\u001b[1;32m<ipython-input-299-d1e129044820>\u001b[0m in \u001b[0;36m<module>\u001b[1;34m\u001b[0m\n\u001b[1;32m----> 1\u001b[1;33m \u001b[0mvarietal_qty\u001b[0m\u001b[1;33m.\u001b[0m\u001b[0mdtypes\u001b[0m\u001b[1;33m(\u001b[0m\u001b[1;33m)\u001b[0m\u001b[1;33m\u001b[0m\u001b[1;33m\u001b[0m\u001b[0m\n\u001b[0m",
      "\u001b[1;31mTypeError\u001b[0m: 'Series' object is not callable"
     ]
    }
   ]
  },
  {
   "source": [
    "#y = varietal_qty_df['9L Cases'].resample('MS').mean()\n"
   ],
   "cell_type": "code",
   "metadata": {},
   "execution_count": null,
   "outputs": []
  },
  {
   "cell_type": "code",
   "execution_count": 268,
   "metadata": {},
   "outputs": [
    {
     "output_type": "execute_result",
     "data": {
      "text/plain": [
       "              y\n",
       "Date           \n",
       "01/01/18   95.0\n",
       "01/01/19  143.0\n",
       "01/01/20  137.0\n",
       "02/01/17   22.0\n",
       "02/01/18  127.0"
      ],
      "text/html": "<div>\n<style scoped>\n    .dataframe tbody tr th:only-of-type {\n        vertical-align: middle;\n    }\n\n    .dataframe tbody tr th {\n        vertical-align: top;\n    }\n\n    .dataframe thead th {\n        text-align: right;\n    }\n</style>\n<table border=\"1\" class=\"dataframe\">\n  <thead>\n    <tr style=\"text-align: right;\">\n      <th></th>\n      <th>y</th>\n    </tr>\n    <tr>\n      <th>Date</th>\n      <th></th>\n    </tr>\n  </thead>\n  <tbody>\n    <tr>\n      <th>01/01/18</th>\n      <td>95.0</td>\n    </tr>\n    <tr>\n      <th>01/01/19</th>\n      <td>143.0</td>\n    </tr>\n    <tr>\n      <th>01/01/20</th>\n      <td>137.0</td>\n    </tr>\n    <tr>\n      <th>02/01/17</th>\n      <td>22.0</td>\n    </tr>\n    <tr>\n      <th>02/01/18</th>\n      <td>127.0</td>\n    </tr>\n  </tbody>\n</table>\n</div>"
     },
     "metadata": {},
     "execution_count": 268
    }
   ],
   "source": [
    "df = varietal_qty_df.rename(columns={'Date': 'ds',\n",
    "                        '9L Cases': 'y'})\n",
    "\n",
    "df.head(5)"
   ]
  },
  {
   "cell_type": "code",
   "execution_count": null,
   "metadata": {},
   "outputs": [],
   "source": [
    "y = varietal_qty['Sales'].resample('MS').mean()"
   ]
  }
 ]
}