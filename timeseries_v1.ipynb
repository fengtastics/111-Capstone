{
 "metadata": {
  "language_info": {
   "codemirror_mode": {
    "name": "ipython",
    "version": 3
   },
   "file_extension": ".py",
   "mimetype": "text/x-python",
   "name": "python",
   "nbconvert_exporter": "python",
   "pygments_lexer": "ipython3",
   "version": "3.7.7-final"
  },
  "orig_nbformat": 2,
  "kernelspec": {
   "name": "python37564bitc1361ae52c8140b1b8e58df36e840d24",
   "display_name": "Python 3.7.5 64-bit",
   "language": "python"
  }
 },
 "nbformat": 4,
 "nbformat_minor": 2,
 "cells": [
  {
   "cell_type": "code",
   "execution_count": 2,
   "metadata": {},
   "outputs": [],
   "source": [
    "fsdf\n",
    "import numpy as np\n",
    "import matplotlib.pyplot as plt\n",
    "\n",
    "import pandas as pd\n"
   ]
  },
  {
   "cell_type": "code",
   "execution_count": 14,
   "metadata": {},
   "outputs": [
    {
     "output_type": "execute_result",
     "data": {
      "text/plain": [
       "  BC Sales Channel          AWC and Comp AWC Fiscal Year Month Abbr  \\\n",
       "0             BCLS  CONSTELLATION BRANDS                  F2017 FEB   \n",
       "1             BCLS  CONSTELLATION BRANDS                  F2017 FEB   \n",
       "2             BCLS  CONSTELLATION BRANDS                  F2017 FEB   \n",
       "3             BCLS  CONSTELLATION BRANDS                  F2017 FEB   \n",
       "4             BCLS  CONSTELLATION BRANDS                  F2017 FEB   \n",
       "\n",
       "                 Brand      Varietal Group 9L Cases  AWC FYr & Pd No  \\\n",
       "0  BLACK SAGE VINEYARD      CABERNET FRANC       17           201712   \n",
       "1  BLACK SAGE VINEYARD  CABERNET SAUVIGNON        1           201712   \n",
       "2  BLACK SAGE VINEYARD              MERLOT       11           201712   \n",
       "3  BLACK SAGE VINEYARD               OTHER        2           201712   \n",
       "4              CULMINA          CHARDONNAY        0           201712   \n",
       "\n",
       "  Avg Sales Price Sales Dollars  \n",
       "0          $28.74         5,912  \n",
       "1          $28.74           368  \n",
       "2          $28.74         3,698  \n",
       "3          $29.89           909  \n",
       "4          $41.50            85  "
      ],
      "text/html": "<div>\n<style scoped>\n    .dataframe tbody tr th:only-of-type {\n        vertical-align: middle;\n    }\n\n    .dataframe tbody tr th {\n        vertical-align: top;\n    }\n\n    .dataframe thead th {\n        text-align: right;\n    }\n</style>\n<table border=\"1\" class=\"dataframe\">\n  <thead>\n    <tr style=\"text-align: right;\">\n      <th></th>\n      <th>BC Sales Channel</th>\n      <th>AWC and Comp</th>\n      <th>AWC Fiscal Year Month Abbr</th>\n      <th>Brand</th>\n      <th>Varietal Group</th>\n      <th>9L Cases</th>\n      <th>AWC FYr &amp; Pd No</th>\n      <th>Avg Sales Price</th>\n      <th>Sales Dollars</th>\n    </tr>\n  </thead>\n  <tbody>\n    <tr>\n      <th>0</th>\n      <td>BCLS</td>\n      <td>CONSTELLATION BRANDS</td>\n      <td>F2017 FEB</td>\n      <td>BLACK SAGE VINEYARD</td>\n      <td>CABERNET FRANC</td>\n      <td>17</td>\n      <td>201712</td>\n      <td>$28.74</td>\n      <td>5,912</td>\n    </tr>\n    <tr>\n      <th>1</th>\n      <td>BCLS</td>\n      <td>CONSTELLATION BRANDS</td>\n      <td>F2017 FEB</td>\n      <td>BLACK SAGE VINEYARD</td>\n      <td>CABERNET SAUVIGNON</td>\n      <td>1</td>\n      <td>201712</td>\n      <td>$28.74</td>\n      <td>368</td>\n    </tr>\n    <tr>\n      <th>2</th>\n      <td>BCLS</td>\n      <td>CONSTELLATION BRANDS</td>\n      <td>F2017 FEB</td>\n      <td>BLACK SAGE VINEYARD</td>\n      <td>MERLOT</td>\n      <td>11</td>\n      <td>201712</td>\n      <td>$28.74</td>\n      <td>3,698</td>\n    </tr>\n    <tr>\n      <th>3</th>\n      <td>BCLS</td>\n      <td>CONSTELLATION BRANDS</td>\n      <td>F2017 FEB</td>\n      <td>BLACK SAGE VINEYARD</td>\n      <td>OTHER</td>\n      <td>2</td>\n      <td>201712</td>\n      <td>$29.89</td>\n      <td>909</td>\n    </tr>\n    <tr>\n      <th>4</th>\n      <td>BCLS</td>\n      <td>CONSTELLATION BRANDS</td>\n      <td>F2017 FEB</td>\n      <td>CULMINA</td>\n      <td>CHARDONNAY</td>\n      <td>0</td>\n      <td>201712</td>\n      <td>$41.50</td>\n      <td>85</td>\n    </tr>\n  </tbody>\n</table>\n</div>"
     },
     "metadata": {},
     "execution_count": 14
    }
   ],
   "source": [
    "raw_df = pd.read_csv(\"timeseries_vqa.csv\")\n",
    "raw_df.head()"
   ]
  },
  {
   "cell_type": "code",
   "execution_count": null,
   "metadata": {},
   "outputs": [],
   "source": []
  }
 ]
}